{
  "nbformat": 4,
  "nbformat_minor": 0,
  "metadata": {
    "colab": {
      "name": "Data-Analysis-Tools.ipynb",
      "provenance": [],
      "toc_visible": true,
      "authorship_tag": "ABX9TyO0J+qLNScA//vQPBNC4Ssw",
      "include_colab_link": true
    },
    "kernelspec": {
      "name": "python3",
      "display_name": "Python 3"
    },
    "language_info": {
      "name": "python"
    }
  },
  "cells": [
    {
      "cell_type": "markdown",
      "metadata": {
        "id": "view-in-github",
        "colab_type": "text"
      },
      "source": [
        "<a href=\"https://colab.research.google.com/github/fikrinotes/PowerfulPython/blob/main/Data_Analysis_Tools.ipynb\" target=\"_parent\"><img src=\"https://colab.research.google.com/assets/colab-badge.svg\" alt=\"Open In Colab\"/></a>"
      ]
    },
    {
      "cell_type": "markdown",
      "metadata": {
        "id": "fzrgtbt8kEDZ"
      },
      "source": [
        "# Statler Starter Pack \n",
        "Tools untuk menyelesaikan tugas analisis data. \n",
        "dibuat oleh [Fikri Mulyana Setiawan](https://fikrinotes.netlify.app) \n",
        "\n",
        "<br/>\n",
        "\n",
        "Semata mata dibuat hanya karena bosan memakai kalkulator 🥱😪😴 \n",
        "\n",
        "## Bagaimana cara menggunakannya?"
      ]
    },
    {
      "cell_type": "code",
      "metadata": {
        "id": "BBFan-t42elW"
      },
      "source": [
        "import numpy as f"
      ],
      "execution_count": null,
      "outputs": []
    },
    {
      "cell_type": "code",
      "metadata": {
        "id": "aYPFKhGv2gQq"
      },
      "source": [
        "# data shows in array \n",
        "# example => data = np.array[a, b, c, d, e,..]\n",
        " \n",
        " \n",
        "i = 1 \n",
        "pos = 0\n",
        "plain_data =[]\n",
        "while i>0 :\n",
        "   placeholder = input(\"type data here :\")\n",
        "   if placeholder==\"\" :\n",
        "       pos = pos\n",
        "       i = 0\n",
        "       \n",
        "   else : \n",
        "      plain_data = plain_data + [int(placeholder)]\n",
        "      pos = pos + 1\n",
        " \n",
        " \n",
        "stats = f.array(plain_data)"
      ],
      "execution_count": null,
      "outputs": []
    },
    {
      "cell_type": "code",
      "metadata": {
        "id": "hXTFulRBFfw3"
      },
      "source": [
        "def mean(data) :\n",
        "   sum = f.sum(data)\n",
        "   n = len(data)\n",
        "   Mean = sum/n\n",
        "   return Mean"
      ],
      "execution_count": null,
      "outputs": []
    },
    {
      "cell_type": "code",
      "metadata": {
        "id": "gqT9yV9bNJde"
      },
      "source": [
        "def pop_variance(data,Mean) : \n",
        "   a = 0\n",
        "   n = len(data)\n",
        "   diff = data\n",
        "   while a<n :\n",
        "      diff = (data-Mean)**2\n",
        "      a=a+1\n",
        "   sum = f.sum(diff)\n",
        "   var = sum/n\n",
        "   return var"
      ],
      "execution_count": null,
      "outputs": []
    },
    {
      "cell_type": "code",
      "metadata": {
        "id": "5n5xSwhXS6Fa"
      },
      "source": [
        "Mean = mean(stats)\n",
        "print(Mean)"
      ],
      "execution_count": null,
      "outputs": []
    },
    {
      "cell_type": "code",
      "metadata": {
        "id": "2FKjPg99UvAt"
      },
      "source": [
        "print((pop_variance(stats,Mean)))"
      ],
      "execution_count": null,
      "outputs": []
    }
  ]
}