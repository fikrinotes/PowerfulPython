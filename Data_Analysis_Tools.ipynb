{
  "nbformat": 4,
  "nbformat_minor": 0,
  "metadata": {
    "colab": {
      "name": "Data-Analysis-Tools.ipynb",
      "provenance": [],
      "authorship_tag": "ABX9TyP03GOulDSjHEckIo/kFzQW",
      "include_colab_link": true
    },
    "kernelspec": {
      "name": "python3",
      "display_name": "Python 3"
    },
    "language_info": {
      "name": "python"
    }
  },
  "cells": [
    {
      "cell_type": "markdown",
      "metadata": {
        "id": "view-in-github",
        "colab_type": "text"
      },
      "source": [
        "<a href=\"https://colab.research.google.com/github/fikrinotes/PowerfulPython/blob/main/Data_Analysis_Tools.ipynb\" target=\"_parent\"><img src=\"https://colab.research.google.com/assets/colab-badge.svg\" alt=\"Open In Colab\"/></a>"
      ]
    },
    {
      "cell_type": "markdown",
      "metadata": {
        "id": "fzrgtbt8kEDZ"
      },
      "source": [
        "# Statler Starter Pack \n",
        "Tools untuk menyelesaikan tugas analisis data. \n",
        "dibuat oleh [Fikri Mulyana Setiawan](https://fikrinotes.netlify.app) \n",
        " \n",
        "<br/>\n",
        " \n",
        "Semata mata dibuat hanya karena bosan memakai kalkulator 🥱😪😴  \n",
        "\n",
        "<br/>\n",
        " \n",
        "# Bagaimana cara menggunakannya? \n",
        "Setiap blok kode pada program ini menjalankan fungsi yang berbeda beda. Contohnya, blok dengan _function_ `mean()` bekerja untuk menghitung rata-rata dari data yang anda masukkan. Berikut adalah langkah yang harus anda lakukan untuk menghitung mean (rata-rata) dan population variance (ragam populasi) dari data menggunakan program ini : \n",
        "- jalankan blok kode yang mengandung komentar `RUN THIS CODE FIRST`. blok kode ini berfungsi untuk ngambil input dari anda. Cara menginput data nya adalah sebagai berikut: masukkan satu buah nilai data ($X_1$), lalu tekan enter. Setelah beberapa saat, anda akan diminta lagi untuk menginput data lain. Saat itulah anda menginput kan nilai data anda yang lainnya ($X_2$). Begitu terus sehingga semua data yang anda miliki ingin hitung telah terinput semua. Jika semua data telah anda inputkan dan program masih meminta input data, klik enter tanpa spasi atau karakter apapun. Dengan begitu, proses input data berhasil anda lakukan. \n",
        "\n",
        "- setelah itu anda tidak akan melihat apa apa karena proses input data telah selesai.\n",
        "- selanjutnya jalankan blok kode yang mengandung komentar `run this code`. Ini berguna untuk menghitung mean (rata-rata) dan population variance ( ragam populasi). \n",
        "  - jika anda hanya ingin mengetahui mean, jalankan blok kode yang mengandung perintah `print(Mean)`. \n",
        "  - jika anda hanya ingin mengetahui population variance, jalankan blok kode yang mengandung perintah `print(Pop_variance)`. \n",
        "- selesai. Sekarang anda dapat melihat hasilnya"
      ]
    },
    {
      "cell_type": "code",
      "metadata": {
        "id": "BBFan-t42elW"
      },
      "source": [
        "import numpy as f"
      ],
      "execution_count": null,
      "outputs": []
    },
    {
      "cell_type": "code",
      "metadata": {
        "id": "aYPFKhGv2gQq"
      },
      "source": [
        "# data shows in array \n",
        "# example => data = np.array[a, b, c, d, e,..]\n",
        " \n",
        "# RUN THIS CODE FIRST\n",
        " \n",
        "i = 1 \n",
        "pos = 0\n",
        "plain_data =[]\n",
        "while i>0 :\n",
        "   placeholder = input(\"type data here :\")\n",
        "   if placeholder==\"\" :\n",
        "       pos = pos\n",
        "       i = 0\n",
        "       \n",
        "   else : \n",
        "      plain_data = plain_data + [int(placeholder)]\n",
        "      pos = pos + 1\n",
        " \n",
        " \n",
        "stats = f.array(plain_data)"
      ],
      "execution_count": null,
      "outputs": []
    },
    {
      "cell_type": "code",
      "metadata": {
        "id": "hXTFulRBFfw3"
      },
      "source": [
        "def mean(data) :\n",
        "   sum = f.sum(data)\n",
        "   n = len(data)\n",
        "   Mean = sum/n\n",
        "   return Mean"
      ],
      "execution_count": null,
      "outputs": []
    },
    {
      "cell_type": "code",
      "metadata": {
        "id": "gqT9yV9bNJde"
      },
      "source": [
        "def pop_variance(data,Mean) : \n",
        "   a = 0\n",
        "   n = len(data)\n",
        "   diff = data\n",
        "   while a<n :\n",
        "      diff = (data-Mean)**2\n",
        "      a=a+1\n",
        "   sum = f.sum(diff)\n",
        "   var = sum/n\n",
        "   return var"
      ],
      "execution_count": null,
      "outputs": []
    },
    {
      "cell_type": "code",
      "metadata": {
        "id": "2FKjPg99UvAt"
      },
      "source": [
        " \n",
        "# Run this code \n",
        " \n",
        "Mean = mean(stats)\n",
        "Pop_variance = pop_variance(stats,Mean)"
      ],
      "execution_count": null,
      "outputs": []
    },
    {
      "cell_type": "code",
      "metadata": {
        "id": "UDvJDiNu4eeo"
      },
      "source": [
        "print(Mean)"
      ],
      "execution_count": null,
      "outputs": []
    },
    {
      "cell_type": "code",
      "metadata": {
        "id": "76KPPL9p4gJ-"
      },
      "source": [
        "print(Pop_variance)"
      ],
      "execution_count": null,
      "outputs": []
    }
  ]
}