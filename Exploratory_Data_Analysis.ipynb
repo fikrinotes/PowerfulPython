{
  "cells": [
    {
      "cell_type": "markdown",
      "metadata": {
        "id": "view-in-github",
        "colab_type": "text"
      },
      "source": [
        "<a href=\"https://colab.research.google.com/github/fikrinotes/PowerfulPython/blob/main/Exploratory_Data_Analysis.ipynb\" target=\"_parent\"><img src=\"https://colab.research.google.com/assets/colab-badge.svg\" alt=\"Open In Colab\"/></a>"
      ]
    },
    {
      "cell_type": "code",
      "execution_count": null,
      "metadata": {
        "id": "PHmvcsCDarI4"
      },
      "outputs": [],
      "source": [
        "# Jovian Commit Essentials\n",
        "# Please retain and execute this cell without modifying the contents for `jovian.commit` to work\n",
        "!pip install jovian --upgrade -q\n",
        "import jovian\n",
        "jovian.set_project('google-playstore-app-preference')\n",
        "jovian.set_colab_id('1oy7CvUdxrDmshN8r5JzeEpLQ7mIt5gqn')"
      ]
    },
    {
      "cell_type": "markdown",
      "metadata": {
        "id": "eo2uoTqueCWG"
      },
      "source": [
        "<center>\n",
        "\n",
        " # Exploratory Analysis on Google Playstore Apps \n",
        " \n",
        " </center>\n",
        " \n",
        "![image](https://play.google.com/about/howplayworks/static/assets/social/share_google_play_logo.png)\n",
        "\n",
        "## Introduction \n",
        "\n",
        "Nowadays, almost everyone uses a smartphone. As an App Store, Google Play Store tends to be the main market for smartphone's app. Now, Google Play Store hosts more than 3.5 million Android Apps, and 98% of the apps are free to download and install. because of that, it would be interesting to do some analysis on Google Play Store dataset. In this project, we will analyze some feature of this data to gain insightful information about the app on Google Play Store. \n",
        "\n",
        "### About the dataset\n",
        "This dataset is scrapped from Google Play Store. This dataset consist of 10841 rows and 13 columns. The columns of this dataset include :\n",
        "\n",
        "#### 1. `App`\n",
        "This column consist of the name of app on Google Play Store.\n",
        "\n",
        "#### 2. `Category`\n",
        "This column consist of the categories the app belongs to. For example, the app \"Subway Surfers\" is on the `GAMES` category.\n",
        "\n",
        "#### 3. `Rating`\n",
        "This column consist of the rating of each app in the `App` column. the values of this column ranges between 0 up to 5.\n",
        "\n",
        "#### 4. `Reviews`\n",
        "This column describe the number of users review for the app (as when scrapped).\n",
        "\n",
        "#### 5. `Size`\n",
        "This column describe size of the app (as when scrapped).\n",
        "\n",
        "#### 6. `Installs`\n",
        "This column describe the number of users downloads/installs for the app (as when scrapped).\n",
        "\n",
        "#### 7. `Type`\n",
        "This column describe whether the app is free or paid.\n",
        "\n",
        "#### 8. `Price`\n",
        "This column describe the price of the app (as when scrapped). if the app is free, then price = 0.\n",
        "\n",
        "#### 9. `Content Rating`\n",
        "This column describe the age group the app is targeted at, such as childer, teen, adult, etc.\n",
        "\n",
        "#### 10. `Genres`\n",
        "This column describe the genres of the app. For example, a games app can have genre such as adventure, arcade, etc. One app can belongs to multiple genre.\n",
        "\n",
        "#### 11. `Last Update`\n",
        "This column shows when the app last updated (as when scrapped).\n",
        "\n",
        "#### 12. `Current Ver` \n",
        "This column shows the current version of the app ( as when scrapped).\n",
        "\n",
        "#### 13. `Android Ver`\n",
        "This column specify the minimum android version required to install/use the app properly (as when scrapped).\n",
        "\n",
        "\n",
        "\n",
        "### About This Project\n",
        "This Exploratory Data Analysis project is part of *Data Analysis With Python : Zero to Pandas* course, a course provided by [Jovian.ai](https://jovian.ai). In this project, we will analyze some feature of Google Play Store to gain useful information of the dataset such as spread of categories of Apps on Google Play, determine the most popular apps, users satifaction with the app, "
      ]
    },
    {
      "cell_type": "markdown",
      "metadata": {
        "id": "6NcnBt1OeCWH"
      },
      "source": [
        "### How to run the code\n",
        "\n",
        "This is an executable [*Jupyter notebook*](https://jupyter.org) hosted on [Jovian.ml](https://www.jovian.ml), a platform for sharing data science projects. You can run and experiment with the code in a couple of ways: *using free online resources* (recommended) or *on your own computer*.\n",
        "\n",
        "#### Option 1: Running using free online resources (1-click, recommended)\n",
        "\n",
        "The easiest way to start executing this notebook is to click the \"Run\" button at the top of this page, and select \"Run on Binder\". This will run the notebook on [mybinder.org](https://mybinder.org), a free online service for running Jupyter notebooks. You can also select \"Run on Colab\" or \"Run on Kaggle\".\n",
        "\n",
        "\n",
        "#### Option 2: Running on your computer locally\n",
        "\n",
        "1. Install Conda by [following these instructions](https://conda.io/projects/conda/en/latest/user-guide/install/index.html). Add Conda binaries to your system `PATH`, so you can use the `conda` command on your terminal.\n",
        "\n",
        "2. Create a Conda environment and install the required libraries by running these commands on the terminal:\n",
        "\n",
        "```\n",
        "conda create -n zerotopandas -y python=3.8 \n",
        "conda activate zerotopandas\n",
        "pip install jovian jupyter numpy pandas matplotlib seaborn opendatasets --upgrade\n",
        "```\n",
        "\n",
        "3. Press the \"Clone\" button above to copy the command for downloading the notebook, and run it on the terminal. This will create a new directory and download the notebook. The command will look something like this:\n",
        "\n",
        "```\n",
        "jovian clone notebook-owner/notebook-id\n",
        "```\n",
        "\n",
        "\n",
        "\n",
        "4. Enter the newly created directory using `cd directory-name` and start the Jupyter notebook.\n",
        "\n",
        "```\n",
        "jupyter notebook\n",
        "```\n",
        "\n",
        "You can now access Jupyter's web interface by clicking the link that shows up on the terminal or by visiting http://localhost:8888 on your browser. Click on the notebook file (it has a `.ipynb` extension) to open it.\n"
      ]
    },
    {
      "cell_type": "markdown",
      "metadata": {
        "id": "VCEoHWV2eCWI"
      },
      "source": [
        "## Downloading the Dataset\n",
        "\n",
        "This dataset is retrieved from kaggle dataset : https://www.kaggle.com/lava18/google-play-store-apps\n",
        "\n",
        "There are several ways to download the dataset into jupyter notebook :\n",
        "* download the dataset manually on kaggle and upload it to jupyter \n",
        "* download dataset in csv raw format using urlretrieve from urllib package (we will use this method now)\n",
        "* download using opendatasets package"
      ]
    },
    {
      "cell_type": "markdown",
      "metadata": {
        "id": "TD6LxgjpeCWK"
      },
      "source": [
        "Let's begin by downloading the data, and listing the files within the dataset. As i said before, i use the dataset provided by kaggle. i have download the dataset and upload it into [my github repository](https://github.com/fikrinotes/kaggle-datasets) such that we can retrieve it using `urllib.request` library."
      ]
    },
    {
      "cell_type": "code",
      "execution_count": null,
      "metadata": {
        "id": "fRT59IGueCWL"
      },
      "outputs": [],
      "source": [
        "dataset_url = 'https://raw.githubusercontent.com/fikrinotes/kaggle-datasets/main/googleplaystore/googleplaystore.csv' "
      ]
    },
    {
      "cell_type": "code",
      "execution_count": null,
      "metadata": {
        "colab": {
          "base_uri": "https://localhost:8080/"
        },
        "id": "gv4k27CbeCWL",
        "outputId": "313f6d34-1029-4f72-a8ce-5e9642b29d46"
      },
      "outputs": [
        {
          "data": {
            "text/plain": [
              "('googleplaystore.csv', <http.client.HTTPMessage at 0x7f592c390a00>)"
            ]
          },
          "execution_count": 2,
          "metadata": {},
          "output_type": "execute_result"
        }
      ],
      "source": [
        "from urllib.request import urlretrieve as download\n",
        "download(dataset_url, \"googleplaystore.csv\")"
      ]
    },
    {
      "cell_type": "markdown",
      "metadata": {
        "id": "M2lWWCqNeCWN"
      },
      "source": [
        "The dataset has been downloaded and extracted. to check if the dataset exist, we can use `listdir()` provided by `os` library."
      ]
    },
    {
      "cell_type": "code",
      "execution_count": null,
      "metadata": {
        "colab": {
          "base_uri": "https://localhost:8080/"
        },
        "id": "kdJLBxn7eCWN",
        "outputId": "e5cd78ff-1548-4ac6-da94-752b57884ce6"
      },
      "outputs": [
        {
          "data": {
            "text/plain": [
              "['.bash_logout',\n",
              " '.profile',\n",
              " '.bashrc',\n",
              " '.ipynb_checkpoints',\n",
              " '.ipython',\n",
              " '.local',\n",
              " '.cache',\n",
              " '.jupyter',\n",
              " 'googleplaystore.csv',\n",
              " '.jovian',\n",
              " '.config',\n",
              " '.conda',\n",
              " '.wget-hsts',\n",
              " '.jovianrc',\n",
              " 'zerotopandas-course-project.ipynb',\n",
              " '.git',\n",
              " 'work',\n",
              " '.npm']"
            ]
          },
          "execution_count": 3,
          "metadata": {},
          "output_type": "execute_result"
        }
      ],
      "source": [
        "import os\n",
        "os.listdir()"
      ]
    },
    {
      "cell_type": "markdown",
      "metadata": {
        "id": "HndIetKMeCWO"
      },
      "source": [
        "From the text above, we can see that the dataset -- `googleplaystore.csv` -- has been downloaded to jupyter notebook. Let us save and upload our work to Jovian before continuing."
      ]
    },
    {
      "cell_type": "markdown",
      "metadata": {
        "id": "QR03paGZ0XKZ"
      },
      "source": [
        "## Save Our Notebook"
      ]
    },
    {
      "cell_type": "code",
      "execution_count": null,
      "metadata": {
        "id": "1ol_EhMSeCWO"
      },
      "outputs": [],
      "source": [
        "project_name = \"google-playstore-app-preference\" "
      ]
    },
    {
      "cell_type": "code",
      "execution_count": null,
      "metadata": {
        "id": "o_UJ4e4meCWP"
      },
      "outputs": [],
      "source": [
        "!pip install jovian --upgrade -q"
      ]
    },
    {
      "cell_type": "code",
      "execution_count": null,
      "metadata": {
        "id": "4t8RqLzdeCWP"
      },
      "outputs": [],
      "source": [
        "import jovian"
      ]
    },
    {
      "cell_type": "code",
      "execution_count": null,
      "metadata": {
        "colab": {
          "base_uri": "https://localhost:8080/",
          "height": 87
        },
        "id": "jzYR6brLeCWP",
        "outputId": "7a031fe5-b9a6-4dfb-f103-16f5cf279c94"
      },
      "outputs": [
        {
          "data": {
            "application/javascript": [
              "window.require && require([\"base/js/namespace\"],function(Jupyter){Jupyter.notebook.save_checkpoint()})"
            ],
            "text/plain": [
              "<IPython.core.display.Javascript object>"
            ]
          },
          "metadata": {},
          "output_type": "display_data"
        },
        {
          "name": "stdout",
          "output_type": "stream",
          "text": [
            "[jovian] Updating notebook \"fikrinotes/google-playstore-app-preference\" on https://jovian.ai\u001b[0m\n",
            "[jovian] Committed successfully! https://jovian.ai/fikrinotes/google-playstore-app-preference\u001b[0m\n"
          ]
        },
        {
          "data": {
            "text/plain": [
              "'https://jovian.ai/fikrinotes/google-playstore-app-preference'"
            ]
          },
          "execution_count": 7,
          "metadata": {},
          "output_type": "execute_result"
        }
      ],
      "source": [
        "jovian.commit(project=project_name)"
      ]
    },
    {
      "cell_type": "markdown",
      "metadata": {
        "id": "097Z48jQeCWQ"
      },
      "source": [
        "## Data Preprocessing\n",
        "\n",
        "Before analyzing the datasets, we should import the datasets using pandas library. We have `googleplaystore.csv` datasets in csv format and store it to `playstore_raw_df`. then, we will do data preprocessing i.e cleaning and formatting the data. data preprocessing in this analysis include change the data type of each columns, drop/replace invalid data, etc."
      ]
    },
    {
      "cell_type": "markdown",
      "metadata": {
        "id": "7_AWRY2oeCWR"
      },
      "source": [
        "#### Standard Library \n",
        "for this exploratory analysis, we will use pandas library to handling tabular data, and numpy to handle any mathematical operation in this analysis. so, let's import these library."
      ]
    },
    {
      "cell_type": "code",
      "execution_count": null,
      "metadata": {
        "id": "D-6uWnLkeCWR"
      },
      "outputs": [],
      "source": [
        "import pandas as pd\n",
        "import numpy as np"
      ]
    },
    {
      "cell_type": "markdown",
      "metadata": {
        "id": "F3Bnt9UteCWR"
      },
      "source": [
        "let's read the data using `pd.read_csv()` method provided by pandas"
      ]
    },
    {
      "cell_type": "code",
      "execution_count": null,
      "metadata": {
        "id": "_T3NmgjseCWS"
      },
      "outputs": [],
      "source": [
        "playstore_raw_df = pd.read_csv(\"googleplaystore.csv\")"
      ]
    },
    {
      "cell_type": "code",
      "execution_count": null,
      "metadata": {
        "colab": {
          "base_uri": "https://localhost:8080/",
          "height": 867
        },
        "id": "KinjohvpeCWS",
        "outputId": "74b89083-e073-45a5-8ba6-0d1979cc514d",
        "scrolled": false
      },
      "outputs": [
        {
          "data": {
            "text/html": [
              "<div>\n",
              "<style scoped>\n",
              "    .dataframe tbody tr th:only-of-type {\n",
              "        vertical-align: middle;\n",
              "    }\n",
              "\n",
              "    .dataframe tbody tr th {\n",
              "        vertical-align: top;\n",
              "    }\n",
              "\n",
              "    .dataframe thead th {\n",
              "        text-align: right;\n",
              "    }\n",
              "</style>\n",
              "<table border=\"1\" class=\"dataframe\">\n",
              "  <thead>\n",
              "    <tr style=\"text-align: right;\">\n",
              "      <th></th>\n",
              "      <th>App</th>\n",
              "      <th>Category</th>\n",
              "      <th>Rating</th>\n",
              "      <th>Reviews</th>\n",
              "      <th>Size</th>\n",
              "      <th>Installs</th>\n",
              "      <th>Type</th>\n",
              "      <th>Price</th>\n",
              "      <th>Content Rating</th>\n",
              "      <th>Genres</th>\n",
              "      <th>Last Updated</th>\n",
              "      <th>Current Ver</th>\n",
              "      <th>Android Ver</th>\n",
              "    </tr>\n",
              "  </thead>\n",
              "  <tbody>\n",
              "    <tr>\n",
              "      <th>0</th>\n",
              "      <td>Photo Editor &amp; Candy Camera &amp; Grid &amp; ScrapBook</td>\n",
              "      <td>ART_AND_DESIGN</td>\n",
              "      <td>4.1</td>\n",
              "      <td>159</td>\n",
              "      <td>19M</td>\n",
              "      <td>10,000+</td>\n",
              "      <td>Free</td>\n",
              "      <td>0</td>\n",
              "      <td>Everyone</td>\n",
              "      <td>Art &amp; Design</td>\n",
              "      <td>January 7, 2018</td>\n",
              "      <td>1.0.0</td>\n",
              "      <td>4.0.3 and up</td>\n",
              "    </tr>\n",
              "    <tr>\n",
              "      <th>1</th>\n",
              "      <td>Coloring book moana</td>\n",
              "      <td>ART_AND_DESIGN</td>\n",
              "      <td>3.9</td>\n",
              "      <td>967</td>\n",
              "      <td>14M</td>\n",
              "      <td>500,000+</td>\n",
              "      <td>Free</td>\n",
              "      <td>0</td>\n",
              "      <td>Everyone</td>\n",
              "      <td>Art &amp; Design;Pretend Play</td>\n",
              "      <td>January 15, 2018</td>\n",
              "      <td>2.0.0</td>\n",
              "      <td>4.0.3 and up</td>\n",
              "    </tr>\n",
              "    <tr>\n",
              "      <th>2</th>\n",
              "      <td>U Launcher Lite – FREE Live Cool Themes, Hide ...</td>\n",
              "      <td>ART_AND_DESIGN</td>\n",
              "      <td>4.7</td>\n",
              "      <td>87510</td>\n",
              "      <td>8.7M</td>\n",
              "      <td>5,000,000+</td>\n",
              "      <td>Free</td>\n",
              "      <td>0</td>\n",
              "      <td>Everyone</td>\n",
              "      <td>Art &amp; Design</td>\n",
              "      <td>August 1, 2018</td>\n",
              "      <td>1.2.4</td>\n",
              "      <td>4.0.3 and up</td>\n",
              "    </tr>\n",
              "    <tr>\n",
              "      <th>3</th>\n",
              "      <td>Sketch - Draw &amp; Paint</td>\n",
              "      <td>ART_AND_DESIGN</td>\n",
              "      <td>4.5</td>\n",
              "      <td>215644</td>\n",
              "      <td>25M</td>\n",
              "      <td>50,000,000+</td>\n",
              "      <td>Free</td>\n",
              "      <td>0</td>\n",
              "      <td>Teen</td>\n",
              "      <td>Art &amp; Design</td>\n",
              "      <td>June 8, 2018</td>\n",
              "      <td>Varies with device</td>\n",
              "      <td>4.2 and up</td>\n",
              "    </tr>\n",
              "    <tr>\n",
              "      <th>4</th>\n",
              "      <td>Pixel Draw - Number Art Coloring Book</td>\n",
              "      <td>ART_AND_DESIGN</td>\n",
              "      <td>4.3</td>\n",
              "      <td>967</td>\n",
              "      <td>2.8M</td>\n",
              "      <td>100,000+</td>\n",
              "      <td>Free</td>\n",
              "      <td>0</td>\n",
              "      <td>Everyone</td>\n",
              "      <td>Art &amp; Design;Creativity</td>\n",
              "      <td>June 20, 2018</td>\n",
              "      <td>1.1</td>\n",
              "      <td>4.4 and up</td>\n",
              "    </tr>\n",
              "    <tr>\n",
              "      <th>...</th>\n",
              "      <td>...</td>\n",
              "      <td>...</td>\n",
              "      <td>...</td>\n",
              "      <td>...</td>\n",
              "      <td>...</td>\n",
              "      <td>...</td>\n",
              "      <td>...</td>\n",
              "      <td>...</td>\n",
              "      <td>...</td>\n",
              "      <td>...</td>\n",
              "      <td>...</td>\n",
              "      <td>...</td>\n",
              "      <td>...</td>\n",
              "    </tr>\n",
              "    <tr>\n",
              "      <th>10836</th>\n",
              "      <td>Sya9a Maroc - FR</td>\n",
              "      <td>FAMILY</td>\n",
              "      <td>4.5</td>\n",
              "      <td>38</td>\n",
              "      <td>53M</td>\n",
              "      <td>5,000+</td>\n",
              "      <td>Free</td>\n",
              "      <td>0</td>\n",
              "      <td>Everyone</td>\n",
              "      <td>Education</td>\n",
              "      <td>July 25, 2017</td>\n",
              "      <td>1.48</td>\n",
              "      <td>4.1 and up</td>\n",
              "    </tr>\n",
              "    <tr>\n",
              "      <th>10837</th>\n",
              "      <td>Fr. Mike Schmitz Audio Teachings</td>\n",
              "      <td>FAMILY</td>\n",
              "      <td>5.0</td>\n",
              "      <td>4</td>\n",
              "      <td>3.6M</td>\n",
              "      <td>100+</td>\n",
              "      <td>Free</td>\n",
              "      <td>0</td>\n",
              "      <td>Everyone</td>\n",
              "      <td>Education</td>\n",
              "      <td>July 6, 2018</td>\n",
              "      <td>1.0</td>\n",
              "      <td>4.1 and up</td>\n",
              "    </tr>\n",
              "    <tr>\n",
              "      <th>10838</th>\n",
              "      <td>Parkinson Exercices FR</td>\n",
              "      <td>MEDICAL</td>\n",
              "      <td>NaN</td>\n",
              "      <td>3</td>\n",
              "      <td>9.5M</td>\n",
              "      <td>1,000+</td>\n",
              "      <td>Free</td>\n",
              "      <td>0</td>\n",
              "      <td>Everyone</td>\n",
              "      <td>Medical</td>\n",
              "      <td>January 20, 2017</td>\n",
              "      <td>1.0</td>\n",
              "      <td>2.2 and up</td>\n",
              "    </tr>\n",
              "    <tr>\n",
              "      <th>10839</th>\n",
              "      <td>The SCP Foundation DB fr nn5n</td>\n",
              "      <td>BOOKS_AND_REFERENCE</td>\n",
              "      <td>4.5</td>\n",
              "      <td>114</td>\n",
              "      <td>Varies with device</td>\n",
              "      <td>1,000+</td>\n",
              "      <td>Free</td>\n",
              "      <td>0</td>\n",
              "      <td>Mature 17+</td>\n",
              "      <td>Books &amp; Reference</td>\n",
              "      <td>January 19, 2015</td>\n",
              "      <td>Varies with device</td>\n",
              "      <td>Varies with device</td>\n",
              "    </tr>\n",
              "    <tr>\n",
              "      <th>10840</th>\n",
              "      <td>iHoroscope - 2018 Daily Horoscope &amp; Astrology</td>\n",
              "      <td>LIFESTYLE</td>\n",
              "      <td>4.5</td>\n",
              "      <td>398307</td>\n",
              "      <td>19M</td>\n",
              "      <td>10,000,000+</td>\n",
              "      <td>Free</td>\n",
              "      <td>0</td>\n",
              "      <td>Everyone</td>\n",
              "      <td>Lifestyle</td>\n",
              "      <td>July 25, 2018</td>\n",
              "      <td>Varies with device</td>\n",
              "      <td>Varies with device</td>\n",
              "    </tr>\n",
              "  </tbody>\n",
              "</table>\n",
              "<p>10841 rows × 13 columns</p>\n",
              "</div>"
            ],
            "text/plain": [
              "                                                     App             Category  \\\n",
              "0         Photo Editor & Candy Camera & Grid & ScrapBook       ART_AND_DESIGN   \n",
              "1                                    Coloring book moana       ART_AND_DESIGN   \n",
              "2      U Launcher Lite – FREE Live Cool Themes, Hide ...       ART_AND_DESIGN   \n",
              "3                                  Sketch - Draw & Paint       ART_AND_DESIGN   \n",
              "4                  Pixel Draw - Number Art Coloring Book       ART_AND_DESIGN   \n",
              "...                                                  ...                  ...   \n",
              "10836                                   Sya9a Maroc - FR               FAMILY   \n",
              "10837                   Fr. Mike Schmitz Audio Teachings               FAMILY   \n",
              "10838                             Parkinson Exercices FR              MEDICAL   \n",
              "10839                      The SCP Foundation DB fr nn5n  BOOKS_AND_REFERENCE   \n",
              "10840      iHoroscope - 2018 Daily Horoscope & Astrology            LIFESTYLE   \n",
              "\n",
              "       Rating Reviews                Size     Installs  Type Price  \\\n",
              "0         4.1     159                 19M      10,000+  Free     0   \n",
              "1         3.9     967                 14M     500,000+  Free     0   \n",
              "2         4.7   87510                8.7M   5,000,000+  Free     0   \n",
              "3         4.5  215644                 25M  50,000,000+  Free     0   \n",
              "4         4.3     967                2.8M     100,000+  Free     0   \n",
              "...       ...     ...                 ...          ...   ...   ...   \n",
              "10836     4.5      38                 53M       5,000+  Free     0   \n",
              "10837     5.0       4                3.6M         100+  Free     0   \n",
              "10838     NaN       3                9.5M       1,000+  Free     0   \n",
              "10839     4.5     114  Varies with device       1,000+  Free     0   \n",
              "10840     4.5  398307                 19M  10,000,000+  Free     0   \n",
              "\n",
              "      Content Rating                     Genres      Last Updated  \\\n",
              "0           Everyone               Art & Design   January 7, 2018   \n",
              "1           Everyone  Art & Design;Pretend Play  January 15, 2018   \n",
              "2           Everyone               Art & Design    August 1, 2018   \n",
              "3               Teen               Art & Design      June 8, 2018   \n",
              "4           Everyone    Art & Design;Creativity     June 20, 2018   \n",
              "...              ...                        ...               ...   \n",
              "10836       Everyone                  Education     July 25, 2017   \n",
              "10837       Everyone                  Education      July 6, 2018   \n",
              "10838       Everyone                    Medical  January 20, 2017   \n",
              "10839     Mature 17+          Books & Reference  January 19, 2015   \n",
              "10840       Everyone                  Lifestyle     July 25, 2018   \n",
              "\n",
              "              Current Ver         Android Ver  \n",
              "0                   1.0.0        4.0.3 and up  \n",
              "1                   2.0.0        4.0.3 and up  \n",
              "2                   1.2.4        4.0.3 and up  \n",
              "3      Varies with device          4.2 and up  \n",
              "4                     1.1          4.4 and up  \n",
              "...                   ...                 ...  \n",
              "10836                1.48          4.1 and up  \n",
              "10837                 1.0          4.1 and up  \n",
              "10838                 1.0          2.2 and up  \n",
              "10839  Varies with device  Varies with device  \n",
              "10840  Varies with device  Varies with device  \n",
              "\n",
              "[10841 rows x 13 columns]"
            ]
          },
          "execution_count": 10,
          "metadata": {},
          "output_type": "execute_result"
        }
      ],
      "source": [
        "playstore_raw_df"
      ]
    },
    {
      "cell_type": "markdown",
      "metadata": {
        "id": "XHSy_SUb16Lo"
      },
      "source": [
        "### Convert The data Type of Some Column\n",
        "\n",
        "First, let's check the type of each columns in our datasets. checking the datatype of each columns in dataset help us to know which column(s) have incorrect data type."
      ]
    },
    {
      "cell_type": "code",
      "execution_count": null,
      "metadata": {
        "colab": {
          "base_uri": "https://localhost:8080/"
        },
        "id": "g0cu5rhQeCWT",
        "outputId": "3195e1f2-825d-41ed-88c9-2e7b0c5bfd22",
        "scrolled": true
      },
      "outputs": [
        {
          "name": "stdout",
          "output_type": "stream",
          "text": [
            "<class 'pandas.core.frame.DataFrame'>\n",
            "RangeIndex: 10841 entries, 0 to 10840\n",
            "Data columns (total 13 columns):\n",
            " #   Column          Non-Null Count  Dtype  \n",
            "---  ------          --------------  -----  \n",
            " 0   App             10841 non-null  object \n",
            " 1   Category        10841 non-null  object \n",
            " 2   Rating          9367 non-null   float64\n",
            " 3   Reviews         10841 non-null  object \n",
            " 4   Size            10841 non-null  object \n",
            " 5   Installs        10841 non-null  object \n",
            " 6   Type            10840 non-null  object \n",
            " 7   Price           10841 non-null  object \n",
            " 8   Content Rating  10840 non-null  object \n",
            " 9   Genres          10841 non-null  object \n",
            " 10  Last Updated    10841 non-null  object \n",
            " 11  Current Ver     10833 non-null  object \n",
            " 12  Android Ver     10838 non-null  object \n",
            "dtypes: float64(1), object(12)\n",
            "memory usage: 1.1+ MB\n"
          ]
        }
      ],
      "source": [
        "playstore_raw_df.info()"
      ]
    },
    {
      "cell_type": "markdown",
      "metadata": {
        "id": "9QqvAMfKeCWT"
      },
      "source": [
        "from the info above, we can see that the data type of some column was incorrect. for example, the data type of , `Reviews`, `Size` and `Installs` columns should be `float64` or `int64` instead of `object`. let's convert the data type of each column in this dataset using `dataframe.astype()` method. we will convert the data type of `\"Reviews\"` column first. The general way to convert data type of a column in pandas is to use `astype()` method. "
      ]
    },
    {
      "cell_type": "markdown",
      "metadata": {
        "id": "YCfW2Z2parJR"
      },
      "source": [
        "#### The column of `Reviews`"
      ]
    },
    {
      "cell_type": "markdown",
      "metadata": {
        "id": "pz2khBzPeCWT"
      },
      "source": [
        "When we are trying to convert its data type to float, the error will appears (you can try it). this error shows that there is a string `'3.0M'` such that we cannot convert its data type to float. So, the first thing we need to do is delete the row that contains `'3.0M'` string. and then, convert its data type to float."
      ]
    },
    {
      "cell_type": "code",
      "execution_count": null,
      "metadata": {
        "id": "v-TpYNdveCWU"
      },
      "outputs": [],
      "source": [
        "playstore_raw_df.drop(playstore_raw_df[\"Reviews\"][playstore_raw_df[\"Reviews\"] == '3.0M'].index, axis=0, inplace=True)"
      ]
    },
    {
      "cell_type": "code",
      "execution_count": null,
      "metadata": {
        "colab": {
          "base_uri": "https://localhost:8080/"
        },
        "id": "VqVUK2H8eCWU",
        "outputId": "9e42246b-9916-4257-b9da-60f4e734e1c3"
      },
      "outputs": [
        {
          "data": {
            "text/plain": [
              "Series([], Name: Reviews, dtype: object)"
            ]
          },
          "execution_count": 16,
          "metadata": {},
          "output_type": "execute_result"
        }
      ],
      "source": [
        "playstore_raw_df[\"Reviews\"][playstore_raw_df[\"Reviews\"] == '3.0M']"
      ]
    },
    {
      "cell_type": "code",
      "execution_count": null,
      "metadata": {
        "colab": {
          "base_uri": "https://localhost:8080/"
        },
        "id": "rlB58xRteCWU",
        "outputId": "eedf4d28-65b0-4d35-fd2b-7f5e2e32072c"
      },
      "outputs": [
        {
          "name": "stdout",
          "output_type": "stream",
          "text": [
            "<class 'pandas.core.frame.DataFrame'>\n",
            "Int64Index: 10840 entries, 0 to 10840\n",
            "Data columns (total 13 columns):\n",
            " #   Column          Non-Null Count  Dtype  \n",
            "---  ------          --------------  -----  \n",
            " 0   App             10840 non-null  object \n",
            " 1   Category        10840 non-null  object \n",
            " 2   Rating          9366 non-null   float64\n",
            " 3   Reviews         10840 non-null  float64\n",
            " 4   Size            10840 non-null  object \n",
            " 5   Installs        10840 non-null  object \n",
            " 6   Type            10839 non-null  object \n",
            " 7   Price           10840 non-null  object \n",
            " 8   Content Rating  10840 non-null  object \n",
            " 9   Genres          10840 non-null  object \n",
            " 10  Last Updated    10840 non-null  object \n",
            " 11  Current Ver     10832 non-null  object \n",
            " 12  Android Ver     10838 non-null  object \n",
            "dtypes: float64(2), object(11)\n",
            "memory usage: 1.2+ MB\n"
          ]
        }
      ],
      "source": [
        "playstore_raw_df[\"Reviews\"] = playstore_raw_df[\"Reviews\"].astype(\"float64\")\n",
        "playstore_raw_df.info()"
      ]
    },
    {
      "cell_type": "markdown",
      "metadata": {
        "id": "0AJJt_learJS"
      },
      "source": [
        "#### The column of `size`"
      ]
    },
    {
      "cell_type": "markdown",
      "metadata": {
        "id": "nTCrt_Wp2n7G"
      },
      "source": [
        "Next, we will convert the data type of `\"Size\"` column. but, since this column contain string such as `\"varies with device\"` and `M`&`k` suffix, we should handle this problem first. for `\"Varies with device\"` string, we could replace it to `np.nan`, a NaN value. "
      ]
    },
    {
      "cell_type": "code",
      "execution_count": null,
      "metadata": {
        "id": "47858pSUeCWV",
        "scrolled": false
      },
      "outputs": [],
      "source": [
        "playstore_raw_df[\"Size\"].replace(\"Varies with device\", 0, inplace=True)"
      ]
    },
    {
      "cell_type": "markdown",
      "metadata": {
        "id": "NHEBID6d35uH"
      },
      "source": [
        "we are done for `\"Varies with device\"` string. now we will handle the suffix in this column. each string of this column ended with 'M' or 'k', which is a conversion factor. 'M' stands for mega ($10^6$) and 'k' stands for kilo($10^3$)"
      ]
    },
    {
      "cell_type": "code",
      "execution_count": null,
      "metadata": {
        "id": "LUIt6XEeeCWV"
      },
      "outputs": [],
      "source": [
        "if playstore_raw_df[\"Size\"].dtype == \"object\":\n",
        "    playstore_raw_df[\"Size\"] = playstore_raw_df[\"Size\"].str.replace(\"M\", \"e+6\").str.replace(\"k\", \"e+3\",True)\n",
        "playstore_raw_df[\"Size\"] = playstore_raw_df[\"Size\"].astype(\"float64\")"
      ]
    },
    {
      "cell_type": "code",
      "execution_count": null,
      "metadata": {
        "id": "ISDuMXYFeCWW"
      },
      "outputs": [],
      "source": [
        "playstore_raw_df.columns\n",
        "if \"Size\" in playstore_raw_df.columns:\n",
        "    playstore_raw_df.rename(columns = {\"Size\":\"Size (in Byte)\"}, inplace=True)"
      ]
    },
    {
      "cell_type": "code",
      "execution_count": null,
      "metadata": {
        "colab": {
          "base_uri": "https://localhost:8080/",
          "height": 441
        },
        "id": "w6YGtTqreCWW",
        "outputId": "0b8e40c8-9402-4913-9340-08bdc29f9adf",
        "scrolled": true
      },
      "outputs": [
        {
          "data": {
            "text/html": [
              "<div>\n",
              "<style scoped>\n",
              "    .dataframe tbody tr th:only-of-type {\n",
              "        vertical-align: middle;\n",
              "    }\n",
              "\n",
              "    .dataframe tbody tr th {\n",
              "        vertical-align: top;\n",
              "    }\n",
              "\n",
              "    .dataframe thead th {\n",
              "        text-align: right;\n",
              "    }\n",
              "</style>\n",
              "<table border=\"1\" class=\"dataframe\">\n",
              "  <thead>\n",
              "    <tr style=\"text-align: right;\">\n",
              "      <th></th>\n",
              "      <th>App</th>\n",
              "      <th>Category</th>\n",
              "      <th>Rating</th>\n",
              "      <th>Reviews</th>\n",
              "      <th>Size (in Byte)</th>\n",
              "      <th>Installs</th>\n",
              "      <th>Type</th>\n",
              "      <th>Price</th>\n",
              "      <th>Content Rating</th>\n",
              "      <th>Genres</th>\n",
              "      <th>Last Updated</th>\n",
              "      <th>Current Ver</th>\n",
              "      <th>Android Ver</th>\n",
              "    </tr>\n",
              "  </thead>\n",
              "  <tbody>\n",
              "    <tr>\n",
              "      <th>0</th>\n",
              "      <td>Photo Editor &amp; Candy Camera &amp; Grid &amp; ScrapBook</td>\n",
              "      <td>ART_AND_DESIGN</td>\n",
              "      <td>4.1</td>\n",
              "      <td>159.0</td>\n",
              "      <td>19000000.0</td>\n",
              "      <td>10,000+</td>\n",
              "      <td>Free</td>\n",
              "      <td>0</td>\n",
              "      <td>Everyone</td>\n",
              "      <td>Art &amp; Design</td>\n",
              "      <td>January 7, 2018</td>\n",
              "      <td>1.0.0</td>\n",
              "      <td>4.0.3 and up</td>\n",
              "    </tr>\n",
              "    <tr>\n",
              "      <th>1</th>\n",
              "      <td>Coloring book moana</td>\n",
              "      <td>ART_AND_DESIGN</td>\n",
              "      <td>3.9</td>\n",
              "      <td>967.0</td>\n",
              "      <td>14000000.0</td>\n",
              "      <td>500,000+</td>\n",
              "      <td>Free</td>\n",
              "      <td>0</td>\n",
              "      <td>Everyone</td>\n",
              "      <td>Art &amp; Design;Pretend Play</td>\n",
              "      <td>January 15, 2018</td>\n",
              "      <td>2.0.0</td>\n",
              "      <td>4.0.3 and up</td>\n",
              "    </tr>\n",
              "    <tr>\n",
              "      <th>2</th>\n",
              "      <td>U Launcher Lite – FREE Live Cool Themes, Hide ...</td>\n",
              "      <td>ART_AND_DESIGN</td>\n",
              "      <td>4.7</td>\n",
              "      <td>87510.0</td>\n",
              "      <td>8700000.0</td>\n",
              "      <td>5,000,000+</td>\n",
              "      <td>Free</td>\n",
              "      <td>0</td>\n",
              "      <td>Everyone</td>\n",
              "      <td>Art &amp; Design</td>\n",
              "      <td>August 1, 2018</td>\n",
              "      <td>1.2.4</td>\n",
              "      <td>4.0.3 and up</td>\n",
              "    </tr>\n",
              "    <tr>\n",
              "      <th>3</th>\n",
              "      <td>Sketch - Draw &amp; Paint</td>\n",
              "      <td>ART_AND_DESIGN</td>\n",
              "      <td>4.5</td>\n",
              "      <td>215644.0</td>\n",
              "      <td>25000000.0</td>\n",
              "      <td>50,000,000+</td>\n",
              "      <td>Free</td>\n",
              "      <td>0</td>\n",
              "      <td>Teen</td>\n",
              "      <td>Art &amp; Design</td>\n",
              "      <td>June 8, 2018</td>\n",
              "      <td>Varies with device</td>\n",
              "      <td>4.2 and up</td>\n",
              "    </tr>\n",
              "    <tr>\n",
              "      <th>4</th>\n",
              "      <td>Pixel Draw - Number Art Coloring Book</td>\n",
              "      <td>ART_AND_DESIGN</td>\n",
              "      <td>4.3</td>\n",
              "      <td>967.0</td>\n",
              "      <td>2800000.0</td>\n",
              "      <td>100,000+</td>\n",
              "      <td>Free</td>\n",
              "      <td>0</td>\n",
              "      <td>Everyone</td>\n",
              "      <td>Art &amp; Design;Creativity</td>\n",
              "      <td>June 20, 2018</td>\n",
              "      <td>1.1</td>\n",
              "      <td>4.4 and up</td>\n",
              "    </tr>\n",
              "  </tbody>\n",
              "</table>\n",
              "</div>"
            ],
            "text/plain": [
              "                                                 App        Category  Rating  \\\n",
              "0     Photo Editor & Candy Camera & Grid & ScrapBook  ART_AND_DESIGN     4.1   \n",
              "1                                Coloring book moana  ART_AND_DESIGN     3.9   \n",
              "2  U Launcher Lite – FREE Live Cool Themes, Hide ...  ART_AND_DESIGN     4.7   \n",
              "3                              Sketch - Draw & Paint  ART_AND_DESIGN     4.5   \n",
              "4              Pixel Draw - Number Art Coloring Book  ART_AND_DESIGN     4.3   \n",
              "\n",
              "    Reviews  Size (in Byte)     Installs  Type Price Content Rating  \\\n",
              "0     159.0      19000000.0      10,000+  Free     0       Everyone   \n",
              "1     967.0      14000000.0     500,000+  Free     0       Everyone   \n",
              "2   87510.0       8700000.0   5,000,000+  Free     0       Everyone   \n",
              "3  215644.0      25000000.0  50,000,000+  Free     0           Teen   \n",
              "4     967.0       2800000.0     100,000+  Free     0       Everyone   \n",
              "\n",
              "                      Genres      Last Updated         Current Ver  \\\n",
              "0               Art & Design   January 7, 2018               1.0.0   \n",
              "1  Art & Design;Pretend Play  January 15, 2018               2.0.0   \n",
              "2               Art & Design    August 1, 2018               1.2.4   \n",
              "3               Art & Design      June 8, 2018  Varies with device   \n",
              "4    Art & Design;Creativity     June 20, 2018                 1.1   \n",
              "\n",
              "    Android Ver  \n",
              "0  4.0.3 and up  \n",
              "1  4.0.3 and up  \n",
              "2  4.0.3 and up  \n",
              "3    4.2 and up  \n",
              "4    4.4 and up  "
            ]
          },
          "execution_count": 21,
          "metadata": {},
          "output_type": "execute_result"
        }
      ],
      "source": [
        "playstore_raw_df.head()"
      ]
    },
    {
      "cell_type": "markdown",
      "metadata": {
        "id": "sdXAW7oharJU"
      },
      "source": [
        "#### The column of `Installs`"
      ]
    },
    {
      "cell_type": "markdown",
      "metadata": {
        "id": "huwJyaOneCWW"
      },
      "source": [
        "The next thing we need to do is change the data type of `Installs` column to integer"
      ]
    },
    {
      "cell_type": "code",
      "execution_count": null,
      "metadata": {
        "id": "8AIlRr0veCWW"
      },
      "outputs": [],
      "source": [
        "if playstore_raw_df[\"Installs\"].dtype != \"int\" or playstore_raw_df[\"Installs\"].dtype != \"int64\":\n",
        "    playstore_raw_df[\"Installs\"] = playstore_raw_df[\"Installs\"].str.strip(\"+\")\n",
        "    playstore_raw_df[\"Installs\"] = playstore_raw_df[\"Installs\"].str.replace(\",\", \"\")"
      ]
    },
    {
      "cell_type": "code",
      "execution_count": null,
      "metadata": {
        "id": "wmDq1Gs0eCWX"
      },
      "outputs": [],
      "source": [
        "playstore_raw_df[\"Installs\"] = playstore_raw_df[\"Installs\"].astype(\"int\")"
      ]
    },
    {
      "cell_type": "code",
      "execution_count": null,
      "metadata": {
        "colab": {
          "base_uri": "https://localhost:8080/"
        },
        "id": "eM2BS3eSeCWX",
        "outputId": "98cc3d42-891b-44c8-cd8d-4db8ec6da1d3"
      },
      "outputs": [
        {
          "name": "stdout",
          "output_type": "stream",
          "text": [
            "<class 'pandas.core.frame.DataFrame'>\n",
            "Int64Index: 10840 entries, 0 to 10840\n",
            "Data columns (total 13 columns):\n",
            " #   Column          Non-Null Count  Dtype  \n",
            "---  ------          --------------  -----  \n",
            " 0   App             10840 non-null  object \n",
            " 1   Category        10840 non-null  object \n",
            " 2   Rating          9366 non-null   float64\n",
            " 3   Reviews         10840 non-null  float64\n",
            " 4   Size (in Byte)  9145 non-null   float64\n",
            " 5   Installs        10840 non-null  int64  \n",
            " 6   Type            10839 non-null  object \n",
            " 7   Price           10840 non-null  object \n",
            " 8   Content Rating  10840 non-null  object \n",
            " 9   Genres          10840 non-null  object \n",
            " 10  Last Updated    10840 non-null  object \n",
            " 11  Current Ver     10832 non-null  object \n",
            " 12  Android Ver     10838 non-null  object \n",
            "dtypes: float64(3), int64(1), object(9)\n",
            "memory usage: 1.2+ MB\n"
          ]
        }
      ],
      "source": [
        "playstore_raw_df.info()"
      ]
    },
    {
      "cell_type": "markdown",
      "metadata": {
        "id": "1xP16D8narJW"
      },
      "source": [
        "#### The column of `Price`\n",
        "\n",
        "We all know that price must be a number. So, we should convert the data type of \"price\" column to float. string in the `Price` column contain character `$`. in order to delete this character, we will use `strip()` method. "
      ]
    },
    {
      "cell_type": "code",
      "execution_count": null,
      "metadata": {
        "id": "zndPOWltarJW"
      },
      "outputs": [],
      "source": [
        "if playstore_raw_df[\"Price\"].dtype != \"float\" or  playstore_raw_df[\"Price\"].dtype != \"float64\":\n",
        "    playstore_raw_df[\"Price\"] = playstore_raw_df[\"Price\"].str.strip(\"$\")\n",
        "    playstore_raw_df[\"Price\"] = playstore_raw_df[\"Price\"].astype(\"float\")"
      ]
    },
    {
      "cell_type": "markdown",
      "metadata": {
        "id": "q-O6oTcxarJW"
      },
      "source": [
        "#### The column of `type`\n",
        "this column indicate whether the apps provide by Google Play Store is Free or Paid. there are only 2 values here. so, it is better to convert the data type of this column to `True` or `False`. `True` for free, and `False` for paid."
      ]
    },
    {
      "cell_type": "code",
      "execution_count": null,
      "metadata": {
        "id": "g8tbpyUEarJW"
      },
      "outputs": [],
      "source": [
        "playstore_raw_df[\"Type\"] = playstore_raw_df[\"Type\"].replace(\"Free\", True).replace(\"Paid\", False).astype(\"bool\")"
      ]
    },
    {
      "cell_type": "code",
      "execution_count": null,
      "metadata": {
        "id": "8Ei763JharJW"
      },
      "outputs": [],
      "source": [
        "try:\n",
        "    playstore_raw_df.rename(columns={\"Type\":\"is_free\"}, inplace=True)\n",
        "except:\n",
        "    print(\"the column's label has already changed\")"
      ]
    },
    {
      "cell_type": "code",
      "execution_count": null,
      "metadata": {
        "id": "CZUTNe9aarJX",
        "outputId": "950fc693-b566-4b00-e6af-95db9c6b72fa"
      },
      "outputs": [
        {
          "name": "stdout",
          "output_type": "stream",
          "text": [
            "<class 'pandas.core.frame.DataFrame'>\n",
            "Int64Index: 10840 entries, 0 to 10840\n",
            "Data columns (total 13 columns):\n",
            " #   Column          Non-Null Count  Dtype  \n",
            "---  ------          --------------  -----  \n",
            " 0   App             10840 non-null  object \n",
            " 1   Category        10840 non-null  object \n",
            " 2   Rating          9366 non-null   float64\n",
            " 3   Reviews         10840 non-null  float64\n",
            " 4   Size (in Byte)  9145 non-null   float64\n",
            " 5   Installs        10840 non-null  int64  \n",
            " 6   is_free         10840 non-null  bool   \n",
            " 7   Price           10840 non-null  float64\n",
            " 8   Content Rating  10840 non-null  object \n",
            " 9   Genres          10840 non-null  object \n",
            " 10  Last Updated    10840 non-null  object \n",
            " 11  Current Ver     10832 non-null  object \n",
            " 12  Android Ver     10838 non-null  object \n",
            "dtypes: bool(1), float64(4), int64(1), object(7)\n",
            "memory usage: 1.1+ MB\n"
          ]
        }
      ],
      "source": [
        "playstore_raw_df.info()"
      ]
    },
    {
      "cell_type": "markdown",
      "metadata": {
        "id": "HHdGzz2Ytk3j"
      },
      "source": [
        "### Handle Date With `pd.to_datetime()` Method"
      ]
    },
    {
      "cell_type": "code",
      "execution_count": null,
      "metadata": {
        "id": "lGj3qOE-f993"
      },
      "outputs": [],
      "source": [
        "playstore_raw_df[\"Last Updated\"] = pd.to_datetime(playstore_raw_df[\"Last Updated\"])"
      ]
    },
    {
      "cell_type": "code",
      "execution_count": null,
      "metadata": {
        "id": "qL3_24pHarJY",
        "outputId": "527eaa67-2de2-4a1d-c0db-17a68d5c0819"
      },
      "outputs": [
        {
          "name": "stdout",
          "output_type": "stream",
          "text": [
            "<class 'pandas.core.frame.DataFrame'>\n",
            "Int64Index: 10840 entries, 0 to 10840\n",
            "Data columns (total 13 columns):\n",
            " #   Column          Non-Null Count  Dtype         \n",
            "---  ------          --------------  -----         \n",
            " 0   App             10840 non-null  object        \n",
            " 1   Category        10840 non-null  object        \n",
            " 2   Rating          9366 non-null   float64       \n",
            " 3   Reviews         10840 non-null  float64       \n",
            " 4   Size (in Byte)  9145 non-null   float64       \n",
            " 5   Installs        10840 non-null  int64         \n",
            " 6   is_free         10840 non-null  bool          \n",
            " 7   Price           10840 non-null  float64       \n",
            " 8   Content Rating  10840 non-null  object        \n",
            " 9   Genres          10840 non-null  object        \n",
            " 10  Last Updated    10840 non-null  datetime64[ns]\n",
            " 11  Current Ver     10832 non-null  object        \n",
            " 12  Android Ver     10838 non-null  object        \n",
            "dtypes: bool(1), datetime64[ns](1), float64(4), int64(1), object(6)\n",
            "memory usage: 1.1+ MB\n"
          ]
        }
      ],
      "source": [
        "playstore_raw_df.info()"
      ]
    },
    {
      "cell_type": "markdown",
      "metadata": {
        "id": "qit6Yoo2arJY"
      },
      "source": [
        "### Sample Data\n",
        "We have prepared and cleaned our dataset. For now, let's take a look to the sample of our data."
      ]
    },
    {
      "cell_type": "code",
      "execution_count": null,
      "metadata": {
        "id": "JXHbyn-marJY",
        "outputId": "c9d74ffc-8c47-4f81-af60-57a1e7fa3e89"
      },
      "outputs": [
        {
          "data": {
            "text/html": [
              "<div>\n",
              "<style scoped>\n",
              "    .dataframe tbody tr th:only-of-type {\n",
              "        vertical-align: middle;\n",
              "    }\n",
              "\n",
              "    .dataframe tbody tr th {\n",
              "        vertical-align: top;\n",
              "    }\n",
              "\n",
              "    .dataframe thead th {\n",
              "        text-align: right;\n",
              "    }\n",
              "</style>\n",
              "<table border=\"1\" class=\"dataframe\">\n",
              "  <thead>\n",
              "    <tr style=\"text-align: right;\">\n",
              "      <th></th>\n",
              "      <th>App</th>\n",
              "      <th>Category</th>\n",
              "      <th>Rating</th>\n",
              "      <th>Reviews</th>\n",
              "      <th>Size (in Byte)</th>\n",
              "      <th>Installs</th>\n",
              "      <th>is_free</th>\n",
              "      <th>Price</th>\n",
              "      <th>Content Rating</th>\n",
              "      <th>Genres</th>\n",
              "      <th>Last Updated</th>\n",
              "      <th>Current Ver</th>\n",
              "      <th>Android Ver</th>\n",
              "    </tr>\n",
              "  </thead>\n",
              "  <tbody>\n",
              "    <tr>\n",
              "      <th>10162</th>\n",
              "      <td>EZ Screenshot</td>\n",
              "      <td>TOOLS</td>\n",
              "      <td>4.4</td>\n",
              "      <td>55.0</td>\n",
              "      <td>1400000.0</td>\n",
              "      <td>5000</td>\n",
              "      <td>True</td>\n",
              "      <td>0.0</td>\n",
              "      <td>Everyone</td>\n",
              "      <td>Tools</td>\n",
              "      <td>2017-09-12</td>\n",
              "      <td>1.1.4</td>\n",
              "      <td>5.0 and up</td>\n",
              "    </tr>\n",
              "    <tr>\n",
              "      <th>10635</th>\n",
              "      <td>The Ledger - Lakeland, Florida</td>\n",
              "      <td>NEWS_AND_MAGAZINES</td>\n",
              "      <td>4.6</td>\n",
              "      <td>89.0</td>\n",
              "      <td>5700000.0</td>\n",
              "      <td>5000</td>\n",
              "      <td>True</td>\n",
              "      <td>0.0</td>\n",
              "      <td>Everyone</td>\n",
              "      <td>News &amp; Magazines</td>\n",
              "      <td>2018-02-17</td>\n",
              "      <td>5.0</td>\n",
              "      <td>4.4 and up</td>\n",
              "    </tr>\n",
              "    <tr>\n",
              "      <th>4436</th>\n",
              "      <td>Google I/O 2018</td>\n",
              "      <td>BOOKS_AND_REFERENCE</td>\n",
              "      <td>4.3</td>\n",
              "      <td>22401.0</td>\n",
              "      <td>4600000.0</td>\n",
              "      <td>500000</td>\n",
              "      <td>True</td>\n",
              "      <td>0.0</td>\n",
              "      <td>Everyone</td>\n",
              "      <td>Books &amp; Reference</td>\n",
              "      <td>2018-05-07</td>\n",
              "      <td>6.1.2</td>\n",
              "      <td>5.0 and up</td>\n",
              "    </tr>\n",
              "    <tr>\n",
              "      <th>6177</th>\n",
              "      <td>BLOOD &amp; GLORY: IMMORTALS</td>\n",
              "      <td>GAME</td>\n",
              "      <td>4.3</td>\n",
              "      <td>101762.0</td>\n",
              "      <td>11000000.0</td>\n",
              "      <td>1000000</td>\n",
              "      <td>True</td>\n",
              "      <td>0.0</td>\n",
              "      <td>Teen</td>\n",
              "      <td>Action</td>\n",
              "      <td>2015-06-11</td>\n",
              "      <td>2.0.0</td>\n",
              "      <td>3.0 and up</td>\n",
              "    </tr>\n",
              "    <tr>\n",
              "      <th>10400</th>\n",
              "      <td>Familial Hypercholesterolaemia Handbook</td>\n",
              "      <td>MEDICAL</td>\n",
              "      <td>1.0</td>\n",
              "      <td>2.0</td>\n",
              "      <td>33000000.0</td>\n",
              "      <td>100</td>\n",
              "      <td>True</td>\n",
              "      <td>0.0</td>\n",
              "      <td>Everyone</td>\n",
              "      <td>Medical</td>\n",
              "      <td>2018-07-02</td>\n",
              "      <td>2.0.1</td>\n",
              "      <td>4.1 and up</td>\n",
              "    </tr>\n",
              "    <tr>\n",
              "      <th>8660</th>\n",
              "      <td>Clean My House – Chore To Do List, Task Scheduler</td>\n",
              "      <td>PRODUCTIVITY</td>\n",
              "      <td>4.1</td>\n",
              "      <td>661.0</td>\n",
              "      <td>3400000.0</td>\n",
              "      <td>100000</td>\n",
              "      <td>True</td>\n",
              "      <td>0.0</td>\n",
              "      <td>Everyone</td>\n",
              "      <td>Productivity</td>\n",
              "      <td>2018-06-21</td>\n",
              "      <td>2.1.2</td>\n",
              "      <td>4.1 and up</td>\n",
              "    </tr>\n",
              "  </tbody>\n",
              "</table>\n",
              "</div>"
            ],
            "text/plain": [
              "                                                     App             Category  \\\n",
              "10162                                      EZ Screenshot                TOOLS   \n",
              "10635                     The Ledger - Lakeland, Florida   NEWS_AND_MAGAZINES   \n",
              "4436                                     Google I/O 2018  BOOKS_AND_REFERENCE   \n",
              "6177                            BLOOD & GLORY: IMMORTALS                 GAME   \n",
              "10400            Familial Hypercholesterolaemia Handbook              MEDICAL   \n",
              "8660   Clean My House – Chore To Do List, Task Scheduler         PRODUCTIVITY   \n",
              "\n",
              "       Rating   Reviews  Size (in Byte)  Installs  is_free  Price  \\\n",
              "10162     4.4      55.0       1400000.0      5000     True    0.0   \n",
              "10635     4.6      89.0       5700000.0      5000     True    0.0   \n",
              "4436      4.3   22401.0       4600000.0    500000     True    0.0   \n",
              "6177      4.3  101762.0      11000000.0   1000000     True    0.0   \n",
              "10400     1.0       2.0      33000000.0       100     True    0.0   \n",
              "8660      4.1     661.0       3400000.0    100000     True    0.0   \n",
              "\n",
              "      Content Rating             Genres Last Updated Current Ver Android Ver  \n",
              "10162       Everyone              Tools   2017-09-12       1.1.4  5.0 and up  \n",
              "10635       Everyone   News & Magazines   2018-02-17         5.0  4.4 and up  \n",
              "4436        Everyone  Books & Reference   2018-05-07       6.1.2  5.0 and up  \n",
              "6177            Teen             Action   2015-06-11       2.0.0  3.0 and up  \n",
              "10400       Everyone            Medical   2018-07-02       2.0.1  4.1 and up  \n",
              "8660        Everyone       Productivity   2018-06-21       2.1.2  4.1 and up  "
            ]
          },
          "execution_count": 31,
          "metadata": {},
          "output_type": "execute_result"
        }
      ],
      "source": [
        "playstore_raw_df.sample(6)"
      ]
    },
    {
      "cell_type": "code",
      "execution_count": null,
      "metadata": {
        "id": "yw6nizL_eCWX"
      },
      "outputs": [],
      "source": [
        "# run this code to save this notebook\n",
        "import jovian"
      ]
    },
    {
      "cell_type": "code",
      "execution_count": null,
      "metadata": {
        "colab": {
          "base_uri": "https://localhost:8080/",
          "height": 87
        },
        "id": "UTExivzZeCWY",
        "outputId": "9a14a18a-ae6d-4e01-b23c-2cd244402a4d"
      },
      "outputs": [
        {
          "data": {
            "application/javascript": [
              "window.require && require([\"base/js/namespace\"],function(Jupyter){Jupyter.notebook.save_checkpoint()})"
            ],
            "text/plain": [
              "<IPython.core.display.Javascript object>"
            ]
          },
          "metadata": {},
          "output_type": "display_data"
        },
        {
          "name": "stdout",
          "output_type": "stream",
          "text": [
            "[jovian] Updating notebook \"fikrinotes/google-playstore-app-preference\" on https://jovian.ai\u001b[0m\n",
            "[jovian] Committed successfully! https://jovian.ai/fikrinotes/google-playstore-app-preference\u001b[0m\n"
          ]
        },
        {
          "data": {
            "text/plain": [
              "'https://jovian.ai/fikrinotes/google-playstore-app-preference'"
            ]
          },
          "execution_count": 33,
          "metadata": {},
          "output_type": "execute_result"
        }
      ],
      "source": [
        "jovian.commit()"
      ]
    },
    {
      "cell_type": "markdown",
      "metadata": {
        "id": "SrwJRDMYeCWY"
      },
      "source": [
        "## Exploratory Analysis and Visualization\n",
        "\n",
        "Data visualization is one of the most important parts of Data Analysis. By visualizing the data, we can infer some relationships between its features and help us understand the distribution of the data. \n",
        "\n",
        "To visualize the data, we need the library for data visualization, such as matplotlib and seaborn. so, let's import matplotlib and seaborn library.\n",
        "\n"
      ]
    },
    {
      "cell_type": "markdown",
      "metadata": {
        "id": "NsoKmT2feCWY"
      },
      "source": [
        "Let's begin by copy the `playstore_raw_df` to a new variable `playstore`, ince we don't want to change the `playstore_raw_df` anymore. after that, we should import `matplotlib.pyplot` and `seaborn` library to visualize the data that we have. "
      ]
    },
    {
      "cell_type": "code",
      "execution_count": null,
      "metadata": {
        "id": "qiwl0-J_arJZ"
      },
      "outputs": [],
      "source": [
        "playstore = playstore_raw_df.copy()"
      ]
    },
    {
      "cell_type": "code",
      "execution_count": null,
      "metadata": {
        "id": "e-xYyMBCeCWY"
      },
      "outputs": [],
      "source": [
        "import seaborn as sns\n",
        "import matplotlib\n",
        "import matplotlib.pyplot as plt\n",
        "%matplotlib inline\n",
        "\n",
        "sns.set_style('darkgrid')\n",
        "matplotlib.rcParams['font.size'] = 14\n",
        "matplotlib.rcParams['figure.figsize'] = (9, 5)\n",
        "matplotlib.rcParams['figure.facecolor'] = '#00000000'"
      ]
    },
    {
      "cell_type": "code",
      "execution_count": null,
      "metadata": {
        "id": "enZt4YrBarJa",
        "outputId": "92a2f592-31eb-4c49-b9cb-76d4b767789f"
      },
      "outputs": [
        {
          "data": {
            "text/html": [
              "<div>\n",
              "<style scoped>\n",
              "    .dataframe tbody tr th:only-of-type {\n",
              "        vertical-align: middle;\n",
              "    }\n",
              "\n",
              "    .dataframe tbody tr th {\n",
              "        vertical-align: top;\n",
              "    }\n",
              "\n",
              "    .dataframe thead th {\n",
              "        text-align: right;\n",
              "    }\n",
              "</style>\n",
              "<table border=\"1\" class=\"dataframe\">\n",
              "  <thead>\n",
              "    <tr style=\"text-align: right;\">\n",
              "      <th></th>\n",
              "      <th>App</th>\n",
              "      <th>Category</th>\n",
              "      <th>Rating</th>\n",
              "      <th>Reviews</th>\n",
              "      <th>Size (in Byte)</th>\n",
              "      <th>Installs</th>\n",
              "      <th>is_free</th>\n",
              "      <th>Price</th>\n",
              "      <th>Content Rating</th>\n",
              "      <th>Genres</th>\n",
              "      <th>Last Updated</th>\n",
              "      <th>Current Ver</th>\n",
              "      <th>Android Ver</th>\n",
              "    </tr>\n",
              "  </thead>\n",
              "  <tbody>\n",
              "    <tr>\n",
              "      <th>10833</th>\n",
              "      <td>Chemin (fr)</td>\n",
              "      <td>BOOKS_AND_REFERENCE</td>\n",
              "      <td>4.8</td>\n",
              "      <td>44.0</td>\n",
              "      <td>619000.0</td>\n",
              "      <td>1000</td>\n",
              "      <td>True</td>\n",
              "      <td>0.0</td>\n",
              "      <td>Everyone</td>\n",
              "      <td>Books &amp; Reference</td>\n",
              "      <td>2014-03-23</td>\n",
              "      <td>0.8</td>\n",
              "      <td>2.2 and up</td>\n",
              "    </tr>\n",
              "    <tr>\n",
              "      <th>10834</th>\n",
              "      <td>FR Calculator</td>\n",
              "      <td>FAMILY</td>\n",
              "      <td>4.0</td>\n",
              "      <td>7.0</td>\n",
              "      <td>2600000.0</td>\n",
              "      <td>500</td>\n",
              "      <td>True</td>\n",
              "      <td>0.0</td>\n",
              "      <td>Everyone</td>\n",
              "      <td>Education</td>\n",
              "      <td>2017-06-18</td>\n",
              "      <td>1.0.0</td>\n",
              "      <td>4.1 and up</td>\n",
              "    </tr>\n",
              "    <tr>\n",
              "      <th>10835</th>\n",
              "      <td>FR Forms</td>\n",
              "      <td>BUSINESS</td>\n",
              "      <td>NaN</td>\n",
              "      <td>0.0</td>\n",
              "      <td>9600000.0</td>\n",
              "      <td>10</td>\n",
              "      <td>True</td>\n",
              "      <td>0.0</td>\n",
              "      <td>Everyone</td>\n",
              "      <td>Business</td>\n",
              "      <td>2016-09-29</td>\n",
              "      <td>1.1.5</td>\n",
              "      <td>4.0 and up</td>\n",
              "    </tr>\n",
              "    <tr>\n",
              "      <th>10836</th>\n",
              "      <td>Sya9a Maroc - FR</td>\n",
              "      <td>FAMILY</td>\n",
              "      <td>4.5</td>\n",
              "      <td>38.0</td>\n",
              "      <td>53000000.0</td>\n",
              "      <td>5000</td>\n",
              "      <td>True</td>\n",
              "      <td>0.0</td>\n",
              "      <td>Everyone</td>\n",
              "      <td>Education</td>\n",
              "      <td>2017-07-25</td>\n",
              "      <td>1.48</td>\n",
              "      <td>4.1 and up</td>\n",
              "    </tr>\n",
              "    <tr>\n",
              "      <th>10837</th>\n",
              "      <td>Fr. Mike Schmitz Audio Teachings</td>\n",
              "      <td>FAMILY</td>\n",
              "      <td>5.0</td>\n",
              "      <td>4.0</td>\n",
              "      <td>3600000.0</td>\n",
              "      <td>100</td>\n",
              "      <td>True</td>\n",
              "      <td>0.0</td>\n",
              "      <td>Everyone</td>\n",
              "      <td>Education</td>\n",
              "      <td>2018-07-06</td>\n",
              "      <td>1.0</td>\n",
              "      <td>4.1 and up</td>\n",
              "    </tr>\n",
              "    <tr>\n",
              "      <th>10838</th>\n",
              "      <td>Parkinson Exercices FR</td>\n",
              "      <td>MEDICAL</td>\n",
              "      <td>NaN</td>\n",
              "      <td>3.0</td>\n",
              "      <td>9500000.0</td>\n",
              "      <td>1000</td>\n",
              "      <td>True</td>\n",
              "      <td>0.0</td>\n",
              "      <td>Everyone</td>\n",
              "      <td>Medical</td>\n",
              "      <td>2017-01-20</td>\n",
              "      <td>1.0</td>\n",
              "      <td>2.2 and up</td>\n",
              "    </tr>\n",
              "    <tr>\n",
              "      <th>10839</th>\n",
              "      <td>The SCP Foundation DB fr nn5n</td>\n",
              "      <td>BOOKS_AND_REFERENCE</td>\n",
              "      <td>4.5</td>\n",
              "      <td>114.0</td>\n",
              "      <td>NaN</td>\n",
              "      <td>1000</td>\n",
              "      <td>True</td>\n",
              "      <td>0.0</td>\n",
              "      <td>Mature 17+</td>\n",
              "      <td>Books &amp; Reference</td>\n",
              "      <td>2015-01-19</td>\n",
              "      <td>Varies with device</td>\n",
              "      <td>Varies with device</td>\n",
              "    </tr>\n",
              "    <tr>\n",
              "      <th>10840</th>\n",
              "      <td>iHoroscope - 2018 Daily Horoscope &amp; Astrology</td>\n",
              "      <td>LIFESTYLE</td>\n",
              "      <td>4.5</td>\n",
              "      <td>398307.0</td>\n",
              "      <td>19000000.0</td>\n",
              "      <td>10000000</td>\n",
              "      <td>True</td>\n",
              "      <td>0.0</td>\n",
              "      <td>Everyone</td>\n",
              "      <td>Lifestyle</td>\n",
              "      <td>2018-07-25</td>\n",
              "      <td>Varies with device</td>\n",
              "      <td>Varies with device</td>\n",
              "    </tr>\n",
              "  </tbody>\n",
              "</table>\n",
              "</div>"
            ],
            "text/plain": [
              "                                                 App             Category  \\\n",
              "10833                                    Chemin (fr)  BOOKS_AND_REFERENCE   \n",
              "10834                                  FR Calculator               FAMILY   \n",
              "10835                                       FR Forms             BUSINESS   \n",
              "10836                               Sya9a Maroc - FR               FAMILY   \n",
              "10837               Fr. Mike Schmitz Audio Teachings               FAMILY   \n",
              "10838                         Parkinson Exercices FR              MEDICAL   \n",
              "10839                  The SCP Foundation DB fr nn5n  BOOKS_AND_REFERENCE   \n",
              "10840  iHoroscope - 2018 Daily Horoscope & Astrology            LIFESTYLE   \n",
              "\n",
              "       Rating   Reviews  Size (in Byte)  Installs  is_free  Price  \\\n",
              "10833     4.8      44.0        619000.0      1000     True    0.0   \n",
              "10834     4.0       7.0       2600000.0       500     True    0.0   \n",
              "10835     NaN       0.0       9600000.0        10     True    0.0   \n",
              "10836     4.5      38.0      53000000.0      5000     True    0.0   \n",
              "10837     5.0       4.0       3600000.0       100     True    0.0   \n",
              "10838     NaN       3.0       9500000.0      1000     True    0.0   \n",
              "10839     4.5     114.0             NaN      1000     True    0.0   \n",
              "10840     4.5  398307.0      19000000.0  10000000     True    0.0   \n",
              "\n",
              "      Content Rating             Genres Last Updated         Current Ver  \\\n",
              "10833       Everyone  Books & Reference   2014-03-23                 0.8   \n",
              "10834       Everyone          Education   2017-06-18               1.0.0   \n",
              "10835       Everyone           Business   2016-09-29               1.1.5   \n",
              "10836       Everyone          Education   2017-07-25                1.48   \n",
              "10837       Everyone          Education   2018-07-06                 1.0   \n",
              "10838       Everyone            Medical   2017-01-20                 1.0   \n",
              "10839     Mature 17+  Books & Reference   2015-01-19  Varies with device   \n",
              "10840       Everyone          Lifestyle   2018-07-25  Varies with device   \n",
              "\n",
              "              Android Ver  \n",
              "10833          2.2 and up  \n",
              "10834          4.1 and up  \n",
              "10835          4.0 and up  \n",
              "10836          4.1 and up  \n",
              "10837          4.1 and up  \n",
              "10838          2.2 and up  \n",
              "10839  Varies with device  \n",
              "10840  Varies with device  "
            ]
          },
          "execution_count": 37,
          "metadata": {},
          "output_type": "execute_result"
        }
      ],
      "source": [
        "playstore.tail(8)"
      ]
    },
    {
      "cell_type": "markdown",
      "metadata": {
        "id": "EZs6PtkieCWZ"
      },
      "source": [
        "### Apps Category\n",
        "Let's take a look at the category distribution of each app on the Google Play Store. First, it's good to know all the categories of apps that are in the Google Play Store. to get a list of application categories in this dataset, we can use the `unique()` method. this method will return all unique values of the given column."
      ]
    },
    {
      "cell_type": "code",
      "execution_count": null,
      "metadata": {
        "id": "hrSAMhSweCWZ",
        "outputId": "7683c7f4-ed8a-4b7c-9d66-6ce2efe9d864"
      },
      "outputs": [
        {
          "data": {
            "text/plain": [
              "array(['ART_AND_DESIGN', 'AUTO_AND_VEHICLES', 'BEAUTY',\n",
              "       'BOOKS_AND_REFERENCE', 'BUSINESS', 'COMICS', 'COMMUNICATION',\n",
              "       'DATING', 'EDUCATION', 'ENTERTAINMENT', 'EVENTS', 'FINANCE',\n",
              "       'FOOD_AND_DRINK', 'HEALTH_AND_FITNESS', 'HOUSE_AND_HOME',\n",
              "       'LIBRARIES_AND_DEMO', 'LIFESTYLE', 'GAME', 'FAMILY', 'MEDICAL',\n",
              "       'SOCIAL', 'SHOPPING', 'PHOTOGRAPHY', 'SPORTS', 'TRAVEL_AND_LOCAL',\n",
              "       'TOOLS', 'PERSONALIZATION', 'PRODUCTIVITY', 'PARENTING', 'WEATHER',\n",
              "       'VIDEO_PLAYERS', 'NEWS_AND_MAGAZINES', 'MAPS_AND_NAVIGATION'],\n",
              "      dtype=object)"
            ]
          },
          "execution_count": 38,
          "metadata": {},
          "output_type": "execute_result"
        }
      ],
      "source": [
        "playstore[\"Category\"].unique()"
      ]
    },
    {
      "cell_type": "markdown",
      "metadata": {
        "id": "lhnr5WB_arJb"
      },
      "source": [
        "then, we want to know many apps that fall into a certain category. we can use count plot to create a diagram that shows the distribution of apps with respect to each category."
      ]
    },
    {
      "cell_type": "code",
      "execution_count": null,
      "metadata": {
        "id": "61YAV213eCWZ",
        "outputId": "e3eb43c4-3f77-44f5-a12c-5c5b0d86e73b"
      },
      "outputs": [
        {
          "data": {
            "image/png": "[encoded data removed]",
            "text/plain": [
              "<Figure size 864x1008 with 1 Axes>"
            ]
          },
          "metadata": {
            "needs_background": "light"
          },
          "output_type": "display_data"
        }
      ],
      "source": [
        "plt.figure(figsize=(12,14))\n",
        "sns.countplot(y=playstore[\"Category\"]);"
      ]
    },
    {
      "cell_type": "markdown",
      "metadata": {
        "id": "F9W7MyvAarJb"
      },
      "source": [
        "from the count plot above, we can see that most of the app in google play are in `family` category. there are almost 2000 apps with `Family` category in Google Play Store. When we take a look at the dataframe again, we will notice that the `family` category cover so many genres, such as education, entertainment, etc. So, it is obvious that most of the app in Google Play Store are in `family` category."
      ]
    },
    {
      "cell_type": "markdown",
      "metadata": {
        "id": "wz2gyKNXarJb"
      },
      "source": [
        "### Free App VS Paid App"
      ]
    },
    {
      "cell_type": "code",
      "execution_count": null,
      "metadata": {
        "id": "UO7QNfAqarJb",
        "outputId": "7f2e92f3-ae76-457e-bec5-09ead8f9fa15"
      },
      "outputs": [
        {
          "data": {
            "text/plain": [
              "True     10040\n",
              "False      800\n",
              "Name: is_free, dtype: int64"
            ]
          },
          "execution_count": 40,
          "metadata": {},
          "output_type": "execute_result"
        }
      ],
      "source": [
        "free_count = playstore[\"is_free\"].value_counts()\n",
        "free_count"
      ]
    },
    {
      "cell_type": "code",
      "execution_count": null,
      "metadata": {
        "id": "7YwkKF1BeCWZ",
        "outputId": "2a1662af-f697-4a0a-f988-2c7918b17ed8"
      },
      "outputs": [
        {
          "data": {
            "image/png": "[encoded data removed]",
            "text/plain": [
              "<Figure size 648x360 with 1 Axes>"
            ]
          },
          "metadata": {},
          "output_type": "display_data"
        }
      ],
      "source": [
        "plt.pie(free_count, labels=free_count.index, autopct='%.1f%%', colors = ['#ff9999','#ffcc99']);"
      ]
    },
    {
      "cell_type": "markdown",
      "metadata": {
        "id": "gDQdt7IDeCWZ"
      },
      "source": [
        "There are only 7.4% paid apps in the google play store. This number is very small compared to the percentage of free apps in google play store. this might happen becaause most of the people is still prefer free app."
      ]
    },
    {
      "cell_type": "code",
      "execution_count": null,
      "metadata": {
        "id": "weRlQ_vWeCWZ",
        "outputId": "0865e415-7301-4497-9388-87122811426b"
      },
      "outputs": [
        {
          "data": {
            "text/plain": [
              "800"
            ]
          },
          "execution_count": 32,
          "metadata": {},
          "output_type": "execute_result"
        }
      ],
      "source": [
        "playstore.is_free[playstore.is_free==False].count()"
      ]
    },
    {
      "cell_type": "markdown",
      "metadata": {
        "id": "UKP0VsOVeCWa"
      },
      "source": [
        "### Distribution of App's Rating \n",
        "when analyzing this dataset, it is a good thing to know the distribution of Rating in this dataset."
      ]
    },
    {
      "cell_type": "code",
      "execution_count": null,
      "metadata": {
        "id": "UC97OziweCWa",
        "scrolled": false,
        "outputId": "a24ebcce-12c1-47d6-9ca4-bead9c153776"
      },
      "outputs": [
        {
          "data": {
            "image/png": "[encoded data removed]",
            "text/plain": [
              "<Figure size 864x432 with 1 Axes>"
            ]
          },
          "metadata": {
            "needs_background": "light"
          },
          "output_type": "display_data"
        }
      ],
      "source": [
        "plt.figure(figsize=(12,6))\n",
        "sns.histplot(x=\"Rating\", data=playstore, kde=True, bins=np.arange(0,5.5, 0.5), color='#5204d9');\n",
        "plt.title(\"Distribution of App's Rating\");"
      ]
    },
    {
      "cell_type": "markdown",
      "metadata": {
        "id": "PDkDZRt_arJd"
      },
      "source": [
        "from the bar plot above, we can see that most of the rating lies between 4 and 4,5. It looks like most of the google play store users satisfy with the apps in google play store."
      ]
    },
    {
      "cell_type": "markdown",
      "metadata": {
        "id": "f-USmZ0parJd"
      },
      "source": [
        "### Rating VS Installs\n"
      ]
    },
    {
      "cell_type": "code",
      "execution_count": null,
      "metadata": {
        "id": "mgKNfuXKarJd",
        "outputId": "27b7030d-cc69-455c-d5a5-b977ed2a647d"
      },
      "outputs": [
        {
          "data": {
            "text/html": [
              "<div>\n",
              "<style scoped>\n",
              "    .dataframe tbody tr th:only-of-type {\n",
              "        vertical-align: middle;\n",
              "    }\n",
              "\n",
              "    .dataframe tbody tr th {\n",
              "        vertical-align: top;\n",
              "    }\n",
              "\n",
              "    .dataframe thead th {\n",
              "        text-align: right;\n",
              "    }\n",
              "</style>\n",
              "<table border=\"1\" class=\"dataframe\">\n",
              "  <thead>\n",
              "    <tr style=\"text-align: right;\">\n",
              "      <th></th>\n",
              "      <th>App</th>\n",
              "      <th>Category</th>\n",
              "      <th>Rating</th>\n",
              "      <th>Reviews</th>\n",
              "      <th>Size (in Byte)</th>\n",
              "      <th>Installs</th>\n",
              "      <th>is_free</th>\n",
              "      <th>Price</th>\n",
              "      <th>Content Rating</th>\n",
              "      <th>Genres</th>\n",
              "      <th>Last Updated</th>\n",
              "      <th>Current Ver</th>\n",
              "      <th>Android Ver</th>\n",
              "    </tr>\n",
              "  </thead>\n",
              "  <tbody>\n",
              "    <tr>\n",
              "      <th>1653</th>\n",
              "      <td>ROBLOX</td>\n",
              "      <td>GAME</td>\n",
              "      <td>4.5</td>\n",
              "      <td>4447388.0</td>\n",
              "      <td>67000000.0</td>\n",
              "      <td>100000000</td>\n",
              "      <td>True</td>\n",
              "      <td>0.0</td>\n",
              "      <td>Everyone 10+</td>\n",
              "      <td>Adventure;Action &amp; Adventure</td>\n",
              "      <td>2018-07-31</td>\n",
              "      <td>2.347.225742</td>\n",
              "      <td>4.1 and up</td>\n",
              "    </tr>\n",
              "    <tr>\n",
              "      <th>1654</th>\n",
              "      <td>Subway Surfers</td>\n",
              "      <td>GAME</td>\n",
              "      <td>4.5</td>\n",
              "      <td>27722264.0</td>\n",
              "      <td>76000000.0</td>\n",
              "      <td>1000000000</td>\n",
              "      <td>True</td>\n",
              "      <td>0.0</td>\n",
              "      <td>Everyone 10+</td>\n",
              "      <td>Arcade</td>\n",
              "      <td>2018-07-12</td>\n",
              "      <td>1.90.0</td>\n",
              "      <td>4.1 and up</td>\n",
              "    </tr>\n",
              "    <tr>\n",
              "      <th>1655</th>\n",
              "      <td>Candy Crush Saga</td>\n",
              "      <td>GAME</td>\n",
              "      <td>4.4</td>\n",
              "      <td>22426677.0</td>\n",
              "      <td>74000000.0</td>\n",
              "      <td>500000000</td>\n",
              "      <td>True</td>\n",
              "      <td>0.0</td>\n",
              "      <td>Everyone</td>\n",
              "      <td>Casual</td>\n",
              "      <td>2018-07-05</td>\n",
              "      <td>1.129.0.2</td>\n",
              "      <td>4.1 and up</td>\n",
              "    </tr>\n",
              "    <tr>\n",
              "      <th>1656</th>\n",
              "      <td>Solitaire</td>\n",
              "      <td>GAME</td>\n",
              "      <td>4.7</td>\n",
              "      <td>254258.0</td>\n",
              "      <td>23000000.0</td>\n",
              "      <td>10000000</td>\n",
              "      <td>True</td>\n",
              "      <td>0.0</td>\n",
              "      <td>Everyone</td>\n",
              "      <td>Card</td>\n",
              "      <td>2018-08-01</td>\n",
              "      <td>2.137.0</td>\n",
              "      <td>4.1 and up</td>\n",
              "    </tr>\n",
              "    <tr>\n",
              "      <th>1657</th>\n",
              "      <td>Bubble Shooter</td>\n",
              "      <td>GAME</td>\n",
              "      <td>4.5</td>\n",
              "      <td>148897.0</td>\n",
              "      <td>46000000.0</td>\n",
              "      <td>10000000</td>\n",
              "      <td>True</td>\n",
              "      <td>0.0</td>\n",
              "      <td>Everyone</td>\n",
              "      <td>Casual</td>\n",
              "      <td>2018-07-17</td>\n",
              "      <td>1.20.1</td>\n",
              "      <td>4.0.3 and up</td>\n",
              "    </tr>\n",
              "    <tr>\n",
              "      <th>...</th>\n",
              "      <td>...</td>\n",
              "      <td>...</td>\n",
              "      <td>...</td>\n",
              "      <td>...</td>\n",
              "      <td>...</td>\n",
              "      <td>...</td>\n",
              "      <td>...</td>\n",
              "      <td>...</td>\n",
              "      <td>...</td>\n",
              "      <td>...</td>\n",
              "      <td>...</td>\n",
              "      <td>...</td>\n",
              "      <td>...</td>\n",
              "    </tr>\n",
              "    <tr>\n",
              "      <th>10791</th>\n",
              "      <td>Winter Wonderland</td>\n",
              "      <td>GAME</td>\n",
              "      <td>4.0</td>\n",
              "      <td>1287.0</td>\n",
              "      <td>38000000.0</td>\n",
              "      <td>50000</td>\n",
              "      <td>True</td>\n",
              "      <td>0.0</td>\n",
              "      <td>Everyone</td>\n",
              "      <td>Word</td>\n",
              "      <td>2013-12-18</td>\n",
              "      <td>1.0</td>\n",
              "      <td>2.2 and up</td>\n",
              "    </tr>\n",
              "    <tr>\n",
              "      <th>10792</th>\n",
              "      <td>Soccer Clubs Logo Quiz</td>\n",
              "      <td>GAME</td>\n",
              "      <td>4.2</td>\n",
              "      <td>21661.0</td>\n",
              "      <td>16000000.0</td>\n",
              "      <td>1000000</td>\n",
              "      <td>True</td>\n",
              "      <td>0.0</td>\n",
              "      <td>Everyone</td>\n",
              "      <td>Trivia</td>\n",
              "      <td>2018-05-24</td>\n",
              "      <td>1.3.81</td>\n",
              "      <td>4.0 and up</td>\n",
              "    </tr>\n",
              "    <tr>\n",
              "      <th>10793</th>\n",
              "      <td>Sid Story</td>\n",
              "      <td>GAME</td>\n",
              "      <td>4.4</td>\n",
              "      <td>28510.0</td>\n",
              "      <td>78000000.0</td>\n",
              "      <td>500000</td>\n",
              "      <td>True</td>\n",
              "      <td>0.0</td>\n",
              "      <td>Teen</td>\n",
              "      <td>Card</td>\n",
              "      <td>2018-08-01</td>\n",
              "      <td>2.6.6</td>\n",
              "      <td>4.0.3 and up</td>\n",
              "    </tr>\n",
              "    <tr>\n",
              "      <th>10803</th>\n",
              "      <td>Fatal Raid - No.1 Mobile FPS</td>\n",
              "      <td>GAME</td>\n",
              "      <td>4.3</td>\n",
              "      <td>56496.0</td>\n",
              "      <td>81000000.0</td>\n",
              "      <td>1000000</td>\n",
              "      <td>True</td>\n",
              "      <td>0.0</td>\n",
              "      <td>Teen</td>\n",
              "      <td>Action</td>\n",
              "      <td>2018-08-07</td>\n",
              "      <td>1.5.447</td>\n",
              "      <td>4.0 and up</td>\n",
              "    </tr>\n",
              "    <tr>\n",
              "      <th>10804</th>\n",
              "      <td>Poker Pro.Fr</td>\n",
              "      <td>GAME</td>\n",
              "      <td>4.2</td>\n",
              "      <td>5442.0</td>\n",
              "      <td>17000000.0</td>\n",
              "      <td>100000</td>\n",
              "      <td>True</td>\n",
              "      <td>0.0</td>\n",
              "      <td>Teen</td>\n",
              "      <td>Card</td>\n",
              "      <td>2018-05-22</td>\n",
              "      <td>4.1.3</td>\n",
              "      <td>2.3 and up</td>\n",
              "    </tr>\n",
              "  </tbody>\n",
              "</table>\n",
              "<p>1144 rows × 13 columns</p>\n",
              "</div>"
            ],
            "text/plain": [
              "                                App Category  Rating     Reviews  \\\n",
              "1653                         ROBLOX     GAME     4.5   4447388.0   \n",
              "1654                 Subway Surfers     GAME     4.5  27722264.0   \n",
              "1655               Candy Crush Saga     GAME     4.4  22426677.0   \n",
              "1656                      Solitaire     GAME     4.7    254258.0   \n",
              "1657                 Bubble Shooter     GAME     4.5    148897.0   \n",
              "...                             ...      ...     ...         ...   \n",
              "10791             Winter Wonderland     GAME     4.0      1287.0   \n",
              "10792        Soccer Clubs Logo Quiz     GAME     4.2     21661.0   \n",
              "10793                     Sid Story     GAME     4.4     28510.0   \n",
              "10803  Fatal Raid - No.1 Mobile FPS     GAME     4.3     56496.0   \n",
              "10804                  Poker Pro.Fr     GAME     4.2      5442.0   \n",
              "\n",
              "       Size (in Byte)    Installs  is_free  Price Content Rating  \\\n",
              "1653       67000000.0   100000000     True    0.0   Everyone 10+   \n",
              "1654       76000000.0  1000000000     True    0.0   Everyone 10+   \n",
              "1655       74000000.0   500000000     True    0.0       Everyone   \n",
              "1656       23000000.0    10000000     True    0.0       Everyone   \n",
              "1657       46000000.0    10000000     True    0.0       Everyone   \n",
              "...               ...         ...      ...    ...            ...   \n",
              "10791      38000000.0       50000     True    0.0       Everyone   \n",
              "10792      16000000.0     1000000     True    0.0       Everyone   \n",
              "10793      78000000.0      500000     True    0.0           Teen   \n",
              "10803      81000000.0     1000000     True    0.0           Teen   \n",
              "10804      17000000.0      100000     True    0.0           Teen   \n",
              "\n",
              "                             Genres Last Updated   Current Ver   Android Ver  \n",
              "1653   Adventure;Action & Adventure   2018-07-31  2.347.225742    4.1 and up  \n",
              "1654                         Arcade   2018-07-12        1.90.0    4.1 and up  \n",
              "1655                         Casual   2018-07-05     1.129.0.2    4.1 and up  \n",
              "1656                           Card   2018-08-01       2.137.0    4.1 and up  \n",
              "1657                         Casual   2018-07-17        1.20.1  4.0.3 and up  \n",
              "...                             ...          ...           ...           ...  \n",
              "10791                          Word   2013-12-18           1.0    2.2 and up  \n",
              "10792                        Trivia   2018-05-24        1.3.81    4.0 and up  \n",
              "10793                          Card   2018-08-01         2.6.6  4.0.3 and up  \n",
              "10803                        Action   2018-08-07       1.5.447    4.0 and up  \n",
              "10804                          Card   2018-05-22         4.1.3    2.3 and up  \n",
              "\n",
              "[1144 rows x 13 columns]"
            ]
          },
          "execution_count": 42,
          "metadata": {},
          "output_type": "execute_result"
        }
      ],
      "source": [
        "game_data = playstore[playstore[\"Category\"]==\"GAME\"]\n",
        "game_data"
      ]
    },
    {
      "cell_type": "code",
      "execution_count": null,
      "metadata": {
        "scrolled": false,
        "id": "I1dFxIGjarJd",
        "outputId": "28e359b3-a105-4b19-da20-5bb41070b911"
      },
      "outputs": [
        {
          "data": {
            "image/png": "[encoded data removed]",
            "text/plain": [
              "<Figure size 1152x432 with 1 Axes>"
            ]
          },
          "metadata": {
            "needs_background": "light"
          },
          "output_type": "display_data"
        }
      ],
      "source": [
        "plt.figure(figsize=(16,6))\n",
        "sns.barplot(x=\"Rating\", y=\"Installs\", data=playstore, color=\"#0bb88c\")\n",
        "plt.xticks(rotation=50);"
      ]
    },
    {
      "cell_type": "markdown",
      "metadata": {
        "id": "LzsCEUv7arJe"
      },
      "source": [
        "based on the diagram above, we know that in general, most of people install the high rating's apps. the most installed apps is the apps with  4,3 rating. the black line in the diagram above represent the variation of installs value. let's take 4,3 rated apps as an example. for this type of app, the black line shows \"how many times has this app been installed\". so, there are 4,3 rated app that has been installed nearly $2,8*10^7$ times, there are also 4,3 rated app that has been installed $4*10^7$ times (take a look at the black line)."
      ]
    },
    {
      "cell_type": "markdown",
      "metadata": {
        "id": "4QKzKAGZarJe"
      },
      "source": [
        "### The Distribution of App's Price"
      ]
    },
    {
      "cell_type": "markdown",
      "metadata": {
        "id": "7_kLUpF6arJe"
      },
      "source": [
        "In order to know the price distribution, we should filter the `playstore` dataset first such that we get only the paid apps."
      ]
    },
    {
      "cell_type": "code",
      "execution_count": null,
      "metadata": {
        "id": "tM8jnhm8arJe",
        "outputId": "4074976a-ed39-44dc-fd63-5a3cf6087482"
      },
      "outputs": [
        {
          "data": {
            "text/html": [
              "<div>\n",
              "<style scoped>\n",
              "    .dataframe tbody tr th:only-of-type {\n",
              "        vertical-align: middle;\n",
              "    }\n",
              "\n",
              "    .dataframe tbody tr th {\n",
              "        vertical-align: top;\n",
              "    }\n",
              "\n",
              "    .dataframe thead th {\n",
              "        text-align: right;\n",
              "    }\n",
              "</style>\n",
              "<table border=\"1\" class=\"dataframe\">\n",
              "  <thead>\n",
              "    <tr style=\"text-align: right;\">\n",
              "      <th></th>\n",
              "      <th>App</th>\n",
              "      <th>Category</th>\n",
              "      <th>Rating</th>\n",
              "      <th>Reviews</th>\n",
              "      <th>Size (in Byte)</th>\n",
              "      <th>Installs</th>\n",
              "      <th>is_free</th>\n",
              "      <th>Price</th>\n",
              "      <th>Content Rating</th>\n",
              "      <th>Genres</th>\n",
              "      <th>Last Updated</th>\n",
              "      <th>Current Ver</th>\n",
              "      <th>Android Ver</th>\n",
              "    </tr>\n",
              "  </thead>\n",
              "  <tbody>\n",
              "    <tr>\n",
              "      <th>234</th>\n",
              "      <td>TurboScan: scan documents and receipts in PDF</td>\n",
              "      <td>BUSINESS</td>\n",
              "      <td>4.7</td>\n",
              "      <td>11442.0</td>\n",
              "      <td>6800000.0</td>\n",
              "      <td>100000</td>\n",
              "      <td>False</td>\n",
              "      <td>4.99</td>\n",
              "      <td>Everyone</td>\n",
              "      <td>Business</td>\n",
              "      <td>2018-03-25</td>\n",
              "      <td>1.5.2</td>\n",
              "      <td>4.0 and up</td>\n",
              "    </tr>\n",
              "    <tr>\n",
              "      <th>235</th>\n",
              "      <td>Tiny Scanner Pro: PDF Doc Scan</td>\n",
              "      <td>BUSINESS</td>\n",
              "      <td>4.8</td>\n",
              "      <td>10295.0</td>\n",
              "      <td>39000000.0</td>\n",
              "      <td>100000</td>\n",
              "      <td>False</td>\n",
              "      <td>4.99</td>\n",
              "      <td>Everyone</td>\n",
              "      <td>Business</td>\n",
              "      <td>2017-04-11</td>\n",
              "      <td>3.4.6</td>\n",
              "      <td>3.0 and up</td>\n",
              "    </tr>\n",
              "    <tr>\n",
              "      <th>290</th>\n",
              "      <td>TurboScan: scan documents and receipts in PDF</td>\n",
              "      <td>BUSINESS</td>\n",
              "      <td>4.7</td>\n",
              "      <td>11442.0</td>\n",
              "      <td>6800000.0</td>\n",
              "      <td>100000</td>\n",
              "      <td>False</td>\n",
              "      <td>4.99</td>\n",
              "      <td>Everyone</td>\n",
              "      <td>Business</td>\n",
              "      <td>2018-03-25</td>\n",
              "      <td>1.5.2</td>\n",
              "      <td>4.0 and up</td>\n",
              "    </tr>\n",
              "    <tr>\n",
              "      <th>291</th>\n",
              "      <td>Tiny Scanner Pro: PDF Doc Scan</td>\n",
              "      <td>BUSINESS</td>\n",
              "      <td>4.8</td>\n",
              "      <td>10295.0</td>\n",
              "      <td>39000000.0</td>\n",
              "      <td>100000</td>\n",
              "      <td>False</td>\n",
              "      <td>4.99</td>\n",
              "      <td>Everyone</td>\n",
              "      <td>Business</td>\n",
              "      <td>2017-04-11</td>\n",
              "      <td>3.4.6</td>\n",
              "      <td>3.0 and up</td>\n",
              "    </tr>\n",
              "    <tr>\n",
              "      <th>427</th>\n",
              "      <td>Puffin Browser Pro</td>\n",
              "      <td>COMMUNICATION</td>\n",
              "      <td>4.0</td>\n",
              "      <td>18247.0</td>\n",
              "      <td>NaN</td>\n",
              "      <td>100000</td>\n",
              "      <td>False</td>\n",
              "      <td>3.99</td>\n",
              "      <td>Everyone</td>\n",
              "      <td>Communication</td>\n",
              "      <td>2018-07-05</td>\n",
              "      <td>7.5.3.20547</td>\n",
              "      <td>4.1 and up</td>\n",
              "    </tr>\n",
              "    <tr>\n",
              "      <th>...</th>\n",
              "      <td>...</td>\n",
              "      <td>...</td>\n",
              "      <td>...</td>\n",
              "      <td>...</td>\n",
              "      <td>...</td>\n",
              "      <td>...</td>\n",
              "      <td>...</td>\n",
              "      <td>...</td>\n",
              "      <td>...</td>\n",
              "      <td>...</td>\n",
              "      <td>...</td>\n",
              "      <td>...</td>\n",
              "      <td>...</td>\n",
              "    </tr>\n",
              "    <tr>\n",
              "      <th>10735</th>\n",
              "      <td>FP VoiceBot</td>\n",
              "      <td>FAMILY</td>\n",
              "      <td>NaN</td>\n",
              "      <td>17.0</td>\n",
              "      <td>157000.0</td>\n",
              "      <td>100</td>\n",
              "      <td>False</td>\n",
              "      <td>0.99</td>\n",
              "      <td>Mature 17+</td>\n",
              "      <td>Entertainment</td>\n",
              "      <td>2015-11-25</td>\n",
              "      <td>1.2</td>\n",
              "      <td>2.1 and up</td>\n",
              "    </tr>\n",
              "    <tr>\n",
              "      <th>10760</th>\n",
              "      <td>Fast Tract Diet</td>\n",
              "      <td>HEALTH_AND_FITNESS</td>\n",
              "      <td>4.4</td>\n",
              "      <td>35.0</td>\n",
              "      <td>2400000.0</td>\n",
              "      <td>1000</td>\n",
              "      <td>False</td>\n",
              "      <td>7.99</td>\n",
              "      <td>Everyone</td>\n",
              "      <td>Health &amp; Fitness</td>\n",
              "      <td>2018-08-08</td>\n",
              "      <td>1.9.3</td>\n",
              "      <td>4.2 and up</td>\n",
              "    </tr>\n",
              "    <tr>\n",
              "      <th>10782</th>\n",
              "      <td>Trine 2: Complete Story</td>\n",
              "      <td>GAME</td>\n",
              "      <td>3.8</td>\n",
              "      <td>252.0</td>\n",
              "      <td>11000000.0</td>\n",
              "      <td>10000</td>\n",
              "      <td>False</td>\n",
              "      <td>16.99</td>\n",
              "      <td>Teen</td>\n",
              "      <td>Action</td>\n",
              "      <td>2015-02-27</td>\n",
              "      <td>2.22</td>\n",
              "      <td>5.0 and up</td>\n",
              "    </tr>\n",
              "    <tr>\n",
              "      <th>10785</th>\n",
              "      <td>sugar, sugar</td>\n",
              "      <td>FAMILY</td>\n",
              "      <td>4.2</td>\n",
              "      <td>1405.0</td>\n",
              "      <td>9500000.0</td>\n",
              "      <td>10000</td>\n",
              "      <td>False</td>\n",
              "      <td>1.20</td>\n",
              "      <td>Everyone</td>\n",
              "      <td>Puzzle</td>\n",
              "      <td>2018-06-05</td>\n",
              "      <td>2.7</td>\n",
              "      <td>2.3 and up</td>\n",
              "    </tr>\n",
              "    <tr>\n",
              "      <th>10798</th>\n",
              "      <td>Word Search Tab 1 FR</td>\n",
              "      <td>FAMILY</td>\n",
              "      <td>NaN</td>\n",
              "      <td>0.0</td>\n",
              "      <td>1020000.0</td>\n",
              "      <td>50</td>\n",
              "      <td>False</td>\n",
              "      <td>1.04</td>\n",
              "      <td>Everyone</td>\n",
              "      <td>Puzzle</td>\n",
              "      <td>2012-02-06</td>\n",
              "      <td>1.1</td>\n",
              "      <td>3.0 and up</td>\n",
              "    </tr>\n",
              "  </tbody>\n",
              "</table>\n",
              "<p>800 rows × 13 columns</p>\n",
              "</div>"
            ],
            "text/plain": [
              "                                                 App            Category  \\\n",
              "234    TurboScan: scan documents and receipts in PDF            BUSINESS   \n",
              "235                   Tiny Scanner Pro: PDF Doc Scan            BUSINESS   \n",
              "290    TurboScan: scan documents and receipts in PDF            BUSINESS   \n",
              "291                   Tiny Scanner Pro: PDF Doc Scan            BUSINESS   \n",
              "427                               Puffin Browser Pro       COMMUNICATION   \n",
              "...                                              ...                 ...   \n",
              "10735                                    FP VoiceBot              FAMILY   \n",
              "10760                                Fast Tract Diet  HEALTH_AND_FITNESS   \n",
              "10782                        Trine 2: Complete Story                GAME   \n",
              "10785                                   sugar, sugar              FAMILY   \n",
              "10798                           Word Search Tab 1 FR              FAMILY   \n",
              "\n",
              "       Rating  Reviews  Size (in Byte)  Installs  is_free  Price  \\\n",
              "234       4.7  11442.0       6800000.0    100000    False   4.99   \n",
              "235       4.8  10295.0      39000000.0    100000    False   4.99   \n",
              "290       4.7  11442.0       6800000.0    100000    False   4.99   \n",
              "291       4.8  10295.0      39000000.0    100000    False   4.99   \n",
              "427       4.0  18247.0             NaN    100000    False   3.99   \n",
              "...       ...      ...             ...       ...      ...    ...   \n",
              "10735     NaN     17.0        157000.0       100    False   0.99   \n",
              "10760     4.4     35.0       2400000.0      1000    False   7.99   \n",
              "10782     3.8    252.0      11000000.0     10000    False  16.99   \n",
              "10785     4.2   1405.0       9500000.0     10000    False   1.20   \n",
              "10798     NaN      0.0       1020000.0        50    False   1.04   \n",
              "\n",
              "      Content Rating            Genres Last Updated  Current Ver Android Ver  \n",
              "234         Everyone          Business   2018-03-25        1.5.2  4.0 and up  \n",
              "235         Everyone          Business   2017-04-11        3.4.6  3.0 and up  \n",
              "290         Everyone          Business   2018-03-25        1.5.2  4.0 and up  \n",
              "291         Everyone          Business   2017-04-11        3.4.6  3.0 and up  \n",
              "427         Everyone     Communication   2018-07-05  7.5.3.20547  4.1 and up  \n",
              "...              ...               ...          ...          ...         ...  \n",
              "10735     Mature 17+     Entertainment   2015-11-25          1.2  2.1 and up  \n",
              "10760       Everyone  Health & Fitness   2018-08-08        1.9.3  4.2 and up  \n",
              "10782           Teen            Action   2015-02-27         2.22  5.0 and up  \n",
              "10785       Everyone            Puzzle   2018-06-05          2.7  2.3 and up  \n",
              "10798       Everyone            Puzzle   2012-02-06          1.1  3.0 and up  \n",
              "\n",
              "[800 rows x 13 columns]"
            ]
          },
          "execution_count": 44,
          "metadata": {},
          "output_type": "execute_result"
        }
      ],
      "source": [
        "paid_app = playstore[playstore[\"is_free\"] == False]\n",
        "paid_app"
      ]
    },
    {
      "cell_type": "markdown",
      "metadata": {
        "id": "gqfFD0eQarJf"
      },
      "source": [
        "Then, we can create a box plot that represent the distribution of the price. we pass `paid_app[\"Price\"]` as the argument to the `sns.boxplot()` method. The argument`paid_app[\"Price\"]` itself is a series of app's price."
      ]
    },
    {
      "cell_type": "code",
      "execution_count": null,
      "metadata": {
        "id": "TOELcwnKarJf",
        "outputId": "ad00a025-1f6b-40f0-d37f-da45eb4d3c68"
      },
      "outputs": [
        {
          "data": {
            "image/png": "[encoded data removed]",
            "text/plain": [
              "<Figure size 648x360 with 1 Axes>"
            ]
          },
          "metadata": {
            "needs_background": "light"
          },
          "output_type": "display_data"
        }
      ],
      "source": [
        "sns.boxplot(x=paid_app[\"Price\"], color=\"#2999e3\");"
      ]
    },
    {
      "cell_type": "code",
      "execution_count": null,
      "metadata": {
        "id": "UpxpsnKHarJg",
        "outputId": "df8ea5c0-9531-43bc-cc53-18bbde124a26"
      },
      "outputs": [
        {
          "name": "stdout",
          "output_type": "stream",
          "text": [
            "price of most of the paid apps in google play store lies between $1.49 and $4.99. but, there are also the outliers, reach the price $400.\n"
          ]
        }
      ],
      "source": [
        "desc = paid_app.describe()\n",
        "q1 = desc.loc['25%']['Price']\n",
        "q3 = desc.loc['75%']['Price']\n",
        "iqr = q3-q1     \n",
        "lowerlimit = q1-1.5*iqr\n",
        "upperlimit = q3+1.5*iqr\n",
        "print(\"price of most of the paid apps in google play store lies between ${} and ${}. but, there are also the outliers, reach the price $400.\".format(q1, q3))"
      ]
    },
    {
      "cell_type": "markdown",
      "metadata": {
        "id": "mVF1GSQKarJg"
      },
      "source": [
        "from the box plot above, we know that the interquartile range of app's price is very small. the interquartile range of the price is about 3,5."
      ]
    },
    {
      "cell_type": "markdown",
      "metadata": {
        "id": "5UyRFC-EeCWb"
      },
      "source": [
        "Let us save and upload our work to Jovian before continuing"
      ]
    },
    {
      "cell_type": "code",
      "execution_count": null,
      "metadata": {
        "id": "phUdHW4LeCWb"
      },
      "outputs": [],
      "source": [
        "import jovian"
      ]
    },
    {
      "cell_type": "code",
      "execution_count": null,
      "metadata": {
        "id": "anw_eihNeCWb",
        "outputId": "451bef9f-d084-49be-ea88-c04926dc9a87"
      },
      "outputs": [
        {
          "data": {
            "application/javascript": [
              "window.require && require([\"base/js/namespace\"],function(Jupyter){Jupyter.notebook.save_checkpoint()})"
            ],
            "text/plain": [
              "<IPython.core.display.Javascript object>"
            ]
          },
          "metadata": {},
          "output_type": "display_data"
        },
        {
          "name": "stdout",
          "output_type": "stream",
          "text": [
            "[jovian] Updating notebook \"fikrinotes/google-playstore-app-preference\" on https://jovian.ai\u001b[0m\n",
            "[jovian] Committed successfully! https://jovian.ai/fikrinotes/google-playstore-app-preference\u001b[0m\n"
          ]
        },
        {
          "data": {
            "text/plain": [
              "'https://jovian.ai/fikrinotes/google-playstore-app-preference'"
            ]
          },
          "execution_count": 48,
          "metadata": {},
          "output_type": "execute_result"
        }
      ],
      "source": [
        "jovian.commit()"
      ]
    },
    {
      "cell_type": "markdown",
      "metadata": {
        "id": "a-3PzCRMeCWc"
      },
      "source": [
        "## Data Exploration\n",
        "So far, we have visualize and get some basic information about our dataset. Now, let's ask some question and answer it based on our dataset."
      ]
    },
    {
      "cell_type": "markdown",
      "metadata": {
        "id": "JVNjPQrZeCWc"
      },
      "source": [
        "#### Q1: What is the most installed games in Google Play Store?"
      ]
    },
    {
      "cell_type": "markdown",
      "metadata": {
        "id": "5uJWEle5arJh"
      },
      "source": [
        "In order to obtain the most installed game in Google Play Store, we should extracted the list of games in the `playstore` data frame. we can do this by searching all of the apps that have \"GAMES\" category."
      ]
    },
    {
      "cell_type": "code",
      "execution_count": null,
      "metadata": {
        "id": "DkXQsFvaeCWc",
        "outputId": "25dd58ef-f471-4739-d33b-b7893d7dc455"
      },
      "outputs": [
        {
          "data": {
            "text/html": [
              "<div>\n",
              "<style scoped>\n",
              "    .dataframe tbody tr th:only-of-type {\n",
              "        vertical-align: middle;\n",
              "    }\n",
              "\n",
              "    .dataframe tbody tr th {\n",
              "        vertical-align: top;\n",
              "    }\n",
              "\n",
              "    .dataframe thead th {\n",
              "        text-align: right;\n",
              "    }\n",
              "</style>\n",
              "<table border=\"1\" class=\"dataframe\">\n",
              "  <thead>\n",
              "    <tr style=\"text-align: right;\">\n",
              "      <th></th>\n",
              "      <th>App</th>\n",
              "      <th>Category</th>\n",
              "      <th>Rating</th>\n",
              "      <th>Reviews</th>\n",
              "      <th>Size (in Byte)</th>\n",
              "      <th>Installs</th>\n",
              "      <th>is_free</th>\n",
              "      <th>Price</th>\n",
              "      <th>Content Rating</th>\n",
              "      <th>Genres</th>\n",
              "      <th>Last Updated</th>\n",
              "      <th>Current Ver</th>\n",
              "      <th>Android Ver</th>\n",
              "    </tr>\n",
              "  </thead>\n",
              "  <tbody>\n",
              "    <tr>\n",
              "      <th>1653</th>\n",
              "      <td>ROBLOX</td>\n",
              "      <td>GAME</td>\n",
              "      <td>4.5</td>\n",
              "      <td>4447388.0</td>\n",
              "      <td>67000000.0</td>\n",
              "      <td>100000000</td>\n",
              "      <td>True</td>\n",
              "      <td>0.0</td>\n",
              "      <td>Everyone 10+</td>\n",
              "      <td>Adventure;Action &amp; Adventure</td>\n",
              "      <td>2018-07-31</td>\n",
              "      <td>2.347.225742</td>\n",
              "      <td>4.1 and up</td>\n",
              "    </tr>\n",
              "    <tr>\n",
              "      <th>1654</th>\n",
              "      <td>Subway Surfers</td>\n",
              "      <td>GAME</td>\n",
              "      <td>4.5</td>\n",
              "      <td>27722264.0</td>\n",
              "      <td>76000000.0</td>\n",
              "      <td>1000000000</td>\n",
              "      <td>True</td>\n",
              "      <td>0.0</td>\n",
              "      <td>Everyone 10+</td>\n",
              "      <td>Arcade</td>\n",
              "      <td>2018-07-12</td>\n",
              "      <td>1.90.0</td>\n",
              "      <td>4.1 and up</td>\n",
              "    </tr>\n",
              "    <tr>\n",
              "      <th>1655</th>\n",
              "      <td>Candy Crush Saga</td>\n",
              "      <td>GAME</td>\n",
              "      <td>4.4</td>\n",
              "      <td>22426677.0</td>\n",
              "      <td>74000000.0</td>\n",
              "      <td>500000000</td>\n",
              "      <td>True</td>\n",
              "      <td>0.0</td>\n",
              "      <td>Everyone</td>\n",
              "      <td>Casual</td>\n",
              "      <td>2018-07-05</td>\n",
              "      <td>1.129.0.2</td>\n",
              "      <td>4.1 and up</td>\n",
              "    </tr>\n",
              "    <tr>\n",
              "      <th>1656</th>\n",
              "      <td>Solitaire</td>\n",
              "      <td>GAME</td>\n",
              "      <td>4.7</td>\n",
              "      <td>254258.0</td>\n",
              "      <td>23000000.0</td>\n",
              "      <td>10000000</td>\n",
              "      <td>True</td>\n",
              "      <td>0.0</td>\n",
              "      <td>Everyone</td>\n",
              "      <td>Card</td>\n",
              "      <td>2018-08-01</td>\n",
              "      <td>2.137.0</td>\n",
              "      <td>4.1 and up</td>\n",
              "    </tr>\n",
              "    <tr>\n",
              "      <th>1657</th>\n",
              "      <td>Bubble Shooter</td>\n",
              "      <td>GAME</td>\n",
              "      <td>4.5</td>\n",
              "      <td>148897.0</td>\n",
              "      <td>46000000.0</td>\n",
              "      <td>10000000</td>\n",
              "      <td>True</td>\n",
              "      <td>0.0</td>\n",
              "      <td>Everyone</td>\n",
              "      <td>Casual</td>\n",
              "      <td>2018-07-17</td>\n",
              "      <td>1.20.1</td>\n",
              "      <td>4.0.3 and up</td>\n",
              "    </tr>\n",
              "    <tr>\n",
              "      <th>...</th>\n",
              "      <td>...</td>\n",
              "      <td>...</td>\n",
              "      <td>...</td>\n",
              "      <td>...</td>\n",
              "      <td>...</td>\n",
              "      <td>...</td>\n",
              "      <td>...</td>\n",
              "      <td>...</td>\n",
              "      <td>...</td>\n",
              "      <td>...</td>\n",
              "      <td>...</td>\n",
              "      <td>...</td>\n",
              "      <td>...</td>\n",
              "    </tr>\n",
              "    <tr>\n",
              "      <th>10791</th>\n",
              "      <td>Winter Wonderland</td>\n",
              "      <td>GAME</td>\n",
              "      <td>4.0</td>\n",
              "      <td>1287.0</td>\n",
              "      <td>38000000.0</td>\n",
              "      <td>50000</td>\n",
              "      <td>True</td>\n",
              "      <td>0.0</td>\n",
              "      <td>Everyone</td>\n",
              "      <td>Word</td>\n",
              "      <td>2013-12-18</td>\n",
              "      <td>1.0</td>\n",
              "      <td>2.2 and up</td>\n",
              "    </tr>\n",
              "    <tr>\n",
              "      <th>10792</th>\n",
              "      <td>Soccer Clubs Logo Quiz</td>\n",
              "      <td>GAME</td>\n",
              "      <td>4.2</td>\n",
              "      <td>21661.0</td>\n",
              "      <td>16000000.0</td>\n",
              "      <td>1000000</td>\n",
              "      <td>True</td>\n",
              "      <td>0.0</td>\n",
              "      <td>Everyone</td>\n",
              "      <td>Trivia</td>\n",
              "      <td>2018-05-24</td>\n",
              "      <td>1.3.81</td>\n",
              "      <td>4.0 and up</td>\n",
              "    </tr>\n",
              "    <tr>\n",
              "      <th>10793</th>\n",
              "      <td>Sid Story</td>\n",
              "      <td>GAME</td>\n",
              "      <td>4.4</td>\n",
              "      <td>28510.0</td>\n",
              "      <td>78000000.0</td>\n",
              "      <td>500000</td>\n",
              "      <td>True</td>\n",
              "      <td>0.0</td>\n",
              "      <td>Teen</td>\n",
              "      <td>Card</td>\n",
              "      <td>2018-08-01</td>\n",
              "      <td>2.6.6</td>\n",
              "      <td>4.0.3 and up</td>\n",
              "    </tr>\n",
              "    <tr>\n",
              "      <th>10803</th>\n",
              "      <td>Fatal Raid - No.1 Mobile FPS</td>\n",
              "      <td>GAME</td>\n",
              "      <td>4.3</td>\n",
              "      <td>56496.0</td>\n",
              "      <td>81000000.0</td>\n",
              "      <td>1000000</td>\n",
              "      <td>True</td>\n",
              "      <td>0.0</td>\n",
              "      <td>Teen</td>\n",
              "      <td>Action</td>\n",
              "      <td>2018-08-07</td>\n",
              "      <td>1.5.447</td>\n",
              "      <td>4.0 and up</td>\n",
              "    </tr>\n",
              "    <tr>\n",
              "      <th>10804</th>\n",
              "      <td>Poker Pro.Fr</td>\n",
              "      <td>GAME</td>\n",
              "      <td>4.2</td>\n",
              "      <td>5442.0</td>\n",
              "      <td>17000000.0</td>\n",
              "      <td>100000</td>\n",
              "      <td>True</td>\n",
              "      <td>0.0</td>\n",
              "      <td>Teen</td>\n",
              "      <td>Card</td>\n",
              "      <td>2018-05-22</td>\n",
              "      <td>4.1.3</td>\n",
              "      <td>2.3 and up</td>\n",
              "    </tr>\n",
              "  </tbody>\n",
              "</table>\n",
              "<p>1144 rows × 13 columns</p>\n",
              "</div>"
            ],
            "text/plain": [
              "                                App Category  Rating     Reviews  \\\n",
              "1653                         ROBLOX     GAME     4.5   4447388.0   \n",
              "1654                 Subway Surfers     GAME     4.5  27722264.0   \n",
              "1655               Candy Crush Saga     GAME     4.4  22426677.0   \n",
              "1656                      Solitaire     GAME     4.7    254258.0   \n",
              "1657                 Bubble Shooter     GAME     4.5    148897.0   \n",
              "...                             ...      ...     ...         ...   \n",
              "10791             Winter Wonderland     GAME     4.0      1287.0   \n",
              "10792        Soccer Clubs Logo Quiz     GAME     4.2     21661.0   \n",
              "10793                     Sid Story     GAME     4.4     28510.0   \n",
              "10803  Fatal Raid - No.1 Mobile FPS     GAME     4.3     56496.0   \n",
              "10804                  Poker Pro.Fr     GAME     4.2      5442.0   \n",
              "\n",
              "       Size (in Byte)    Installs  is_free  Price Content Rating  \\\n",
              "1653       67000000.0   100000000     True    0.0   Everyone 10+   \n",
              "1654       76000000.0  1000000000     True    0.0   Everyone 10+   \n",
              "1655       74000000.0   500000000     True    0.0       Everyone   \n",
              "1656       23000000.0    10000000     True    0.0       Everyone   \n",
              "1657       46000000.0    10000000     True    0.0       Everyone   \n",
              "...               ...         ...      ...    ...            ...   \n",
              "10791      38000000.0       50000     True    0.0       Everyone   \n",
              "10792      16000000.0     1000000     True    0.0       Everyone   \n",
              "10793      78000000.0      500000     True    0.0           Teen   \n",
              "10803      81000000.0     1000000     True    0.0           Teen   \n",
              "10804      17000000.0      100000     True    0.0           Teen   \n",
              "\n",
              "                             Genres Last Updated   Current Ver   Android Ver  \n",
              "1653   Adventure;Action & Adventure   2018-07-31  2.347.225742    4.1 and up  \n",
              "1654                         Arcade   2018-07-12        1.90.0    4.1 and up  \n",
              "1655                         Casual   2018-07-05     1.129.0.2    4.1 and up  \n",
              "1656                           Card   2018-08-01       2.137.0    4.1 and up  \n",
              "1657                         Casual   2018-07-17        1.20.1  4.0.3 and up  \n",
              "...                             ...          ...           ...           ...  \n",
              "10791                          Word   2013-12-18           1.0    2.2 and up  \n",
              "10792                        Trivia   2018-05-24        1.3.81    4.0 and up  \n",
              "10793                          Card   2018-08-01         2.6.6  4.0.3 and up  \n",
              "10803                        Action   2018-08-07       1.5.447    4.0 and up  \n",
              "10804                          Card   2018-05-22         4.1.3    2.3 and up  \n",
              "\n",
              "[1144 rows x 13 columns]"
            ]
          },
          "execution_count": 49,
          "metadata": {},
          "output_type": "execute_result"
        }
      ],
      "source": [
        "games_list = playstore[playstore[\"Category\"] == \"GAME\"]\n",
        "games_list"
      ]
    },
    {
      "cell_type": "markdown",
      "metadata": {
        "id": "o4t8yWBweCWd"
      },
      "source": [
        "the idea to find the most installed game is sorting all of the apps based on `Installs` column. There are 2 option to answer this question :\n",
        "* Sort the game based on `Installs` in descending order. after that, we just take the first row of this data frame to get the name of the most installed games in Google Play Store.\n",
        "\n",
        "* Sort the game based on `Installs` in ascending order. after that, we just take the last row of this data frame to get the most installed games in Google Play Store.\n",
        "\n",
        "let's used the first option. since `sort_values()` method only have `ascending` argument to determine what type of sorting that we want, we can type `ascending=False` to sort the game list in descending order. "
      ]
    },
    {
      "cell_type": "code",
      "execution_count": null,
      "metadata": {
        "id": "gMqkLuuoeCWd",
        "outputId": "d45c7a78-5321-4479-9f88-064beed8f593"
      },
      "outputs": [
        {
          "data": {
            "text/plain": [
              "App                    Subway Surfers\n",
              "Category                         GAME\n",
              "Rating                            4.5\n",
              "Reviews                    27724094.0\n",
              "Size (in Byte)             76000000.0\n",
              "Installs                   1000000000\n",
              "is_free                          True\n",
              "Price                             0.0\n",
              "Content Rating           Everyone 10+\n",
              "Genres                         Arcade\n",
              "Last Updated      2018-07-12 00:00:00\n",
              "Current Ver                    1.90.0\n",
              "Android Ver                4.1 and up\n",
              "Name: 1750, dtype: object"
            ]
          },
          "execution_count": 55,
          "metadata": {},
          "output_type": "execute_result"
        }
      ],
      "source": [
        "sorted_list_game = games_list.sort_values(\"Installs\", ascending=False)\n",
        "sorted_list_game.iloc[0]"
      ]
    },
    {
      "cell_type": "code",
      "execution_count": null,
      "metadata": {
        "id": "hJvIG2sDarJi",
        "outputId": "28a4a46e-1f23-4e04-b34e-ef535e06ef17"
      },
      "outputs": [
        {
          "name": "stdout",
          "output_type": "stream",
          "text": [
            "the most installed game in google play store is Subway Surfers. This game has been installed 1000000000+ times!\n"
          ]
        }
      ],
      "source": [
        "print(\"the most installed game in google play store is {}. This game has been installed {}+ times!\".format(sorted_list_game.iloc[0][\"App\"], sorted_list_game.iloc[0][\"Installs\"]))"
      ]
    },
    {
      "cell_type": "markdown",
      "metadata": {
        "id": "auymhjXweCWd"
      },
      "source": [
        "#### Q2: Which app is more satisfying for users for art and design? free apps or paid apps?"
      ]
    },
    {
      "cell_type": "markdown",
      "metadata": {
        "id": "ewsiY-YyarJi"
      },
      "source": [
        "The dataset feature that we can use to determine user satisfaction is Rating. Highly rated apps are more likely to be more satisfying apps. In order to know which type of apps is more satisfying, we can compare the rating average of each type of app."
      ]
    },
    {
      "cell_type": "code",
      "execution_count": null,
      "metadata": {
        "id": "nrV_moHQeCWd"
      },
      "outputs": [],
      "source": [
        "art_design = playstore[playstore[\"Category\"] ==  \"ART_AND_DESIGN\"]\n",
        "free_art_design = art_design[art_design[\"is_free\"] == True]\n",
        "paid_art_design = art_design[art_design[\"is_free\"] == False]"
      ]
    },
    {
      "cell_type": "code",
      "execution_count": null,
      "metadata": {
        "id": "F6fVQeY6arJj"
      },
      "outputs": [],
      "source": [
        "avg_free_art_design = free_art_design[\"Rating\"].mean()\n",
        "avg_paid_art_design = paid_art_design[\"Rating\"].mean()"
      ]
    },
    {
      "cell_type": "code",
      "execution_count": null,
      "metadata": {
        "id": "WdLlNSVBeCWd",
        "outputId": "82306376-bffe-465f-98e0-76ebbfab334a"
      },
      "outputs": [
        {
          "name": "stdout",
          "output_type": "stream",
          "text": [
            "Average rating of free apps for art and design is 4.34 and average rating of paid apps for art and design is 4.73. So, based on its rating, paid apps are more satisfying for user.\n"
          ]
        }
      ],
      "source": [
        "print(\"Average rating of free apps for art and design is {:.2f} and average rating of paid apps for art and design is {:.2f}. So, based on its rating, paid apps are more satisfying for user.\".format(avg_free_art_design, avg_paid_art_design))"
      ]
    },
    {
      "cell_type": "markdown",
      "metadata": {
        "id": "14V5XmdNeCWd"
      },
      "source": [
        "#### Q3: Which paid app get the highest number of earning?"
      ]
    },
    {
      "cell_type": "markdown",
      "metadata": {
        "id": "IhCR-i3JeCWe"
      },
      "source": [
        "lets filter the `playstore` dataset to retrieve the data of paid apps only. "
      ]
    },
    {
      "cell_type": "code",
      "execution_count": null,
      "metadata": {
        "id": "yJFRNFjzeCWe",
        "outputId": "4e48ec3d-0f80-4142-c868-07f6e330f5e9"
      },
      "outputs": [
        {
          "data": {
            "text/html": [
              "<div>\n",
              "<style scoped>\n",
              "    .dataframe tbody tr th:only-of-type {\n",
              "        vertical-align: middle;\n",
              "    }\n",
              "\n",
              "    .dataframe tbody tr th {\n",
              "        vertical-align: top;\n",
              "    }\n",
              "\n",
              "    .dataframe thead th {\n",
              "        text-align: right;\n",
              "    }\n",
              "</style>\n",
              "<table border=\"1\" class=\"dataframe\">\n",
              "  <thead>\n",
              "    <tr style=\"text-align: right;\">\n",
              "      <th></th>\n",
              "      <th>App</th>\n",
              "      <th>Category</th>\n",
              "      <th>Rating</th>\n",
              "      <th>Reviews</th>\n",
              "      <th>Size (in Byte)</th>\n",
              "      <th>Installs</th>\n",
              "      <th>is_free</th>\n",
              "      <th>Price</th>\n",
              "      <th>Content Rating</th>\n",
              "      <th>Genres</th>\n",
              "      <th>Last Updated</th>\n",
              "      <th>Current Ver</th>\n",
              "      <th>Android Ver</th>\n",
              "    </tr>\n",
              "  </thead>\n",
              "  <tbody>\n",
              "    <tr>\n",
              "      <th>234</th>\n",
              "      <td>TurboScan: scan documents and receipts in PDF</td>\n",
              "      <td>BUSINESS</td>\n",
              "      <td>4.7</td>\n",
              "      <td>11442.0</td>\n",
              "      <td>6800000.0</td>\n",
              "      <td>100000</td>\n",
              "      <td>False</td>\n",
              "      <td>4.99</td>\n",
              "      <td>Everyone</td>\n",
              "      <td>Business</td>\n",
              "      <td>2018-03-25</td>\n",
              "      <td>1.5.2</td>\n",
              "      <td>4.0 and up</td>\n",
              "    </tr>\n",
              "    <tr>\n",
              "      <th>235</th>\n",
              "      <td>Tiny Scanner Pro: PDF Doc Scan</td>\n",
              "      <td>BUSINESS</td>\n",
              "      <td>4.8</td>\n",
              "      <td>10295.0</td>\n",
              "      <td>39000000.0</td>\n",
              "      <td>100000</td>\n",
              "      <td>False</td>\n",
              "      <td>4.99</td>\n",
              "      <td>Everyone</td>\n",
              "      <td>Business</td>\n",
              "      <td>2017-04-11</td>\n",
              "      <td>3.4.6</td>\n",
              "      <td>3.0 and up</td>\n",
              "    </tr>\n",
              "    <tr>\n",
              "      <th>290</th>\n",
              "      <td>TurboScan: scan documents and receipts in PDF</td>\n",
              "      <td>BUSINESS</td>\n",
              "      <td>4.7</td>\n",
              "      <td>11442.0</td>\n",
              "      <td>6800000.0</td>\n",
              "      <td>100000</td>\n",
              "      <td>False</td>\n",
              "      <td>4.99</td>\n",
              "      <td>Everyone</td>\n",
              "      <td>Business</td>\n",
              "      <td>2018-03-25</td>\n",
              "      <td>1.5.2</td>\n",
              "      <td>4.0 and up</td>\n",
              "    </tr>\n",
              "    <tr>\n",
              "      <th>291</th>\n",
              "      <td>Tiny Scanner Pro: PDF Doc Scan</td>\n",
              "      <td>BUSINESS</td>\n",
              "      <td>4.8</td>\n",
              "      <td>10295.0</td>\n",
              "      <td>39000000.0</td>\n",
              "      <td>100000</td>\n",
              "      <td>False</td>\n",
              "      <td>4.99</td>\n",
              "      <td>Everyone</td>\n",
              "      <td>Business</td>\n",
              "      <td>2017-04-11</td>\n",
              "      <td>3.4.6</td>\n",
              "      <td>3.0 and up</td>\n",
              "    </tr>\n",
              "    <tr>\n",
              "      <th>427</th>\n",
              "      <td>Puffin Browser Pro</td>\n",
              "      <td>COMMUNICATION</td>\n",
              "      <td>4.0</td>\n",
              "      <td>18247.0</td>\n",
              "      <td>NaN</td>\n",
              "      <td>100000</td>\n",
              "      <td>False</td>\n",
              "      <td>3.99</td>\n",
              "      <td>Everyone</td>\n",
              "      <td>Communication</td>\n",
              "      <td>2018-07-05</td>\n",
              "      <td>7.5.3.20547</td>\n",
              "      <td>4.1 and up</td>\n",
              "    </tr>\n",
              "    <tr>\n",
              "      <th>...</th>\n",
              "      <td>...</td>\n",
              "      <td>...</td>\n",
              "      <td>...</td>\n",
              "      <td>...</td>\n",
              "      <td>...</td>\n",
              "      <td>...</td>\n",
              "      <td>...</td>\n",
              "      <td>...</td>\n",
              "      <td>...</td>\n",
              "      <td>...</td>\n",
              "      <td>...</td>\n",
              "      <td>...</td>\n",
              "      <td>...</td>\n",
              "    </tr>\n",
              "    <tr>\n",
              "      <th>10735</th>\n",
              "      <td>FP VoiceBot</td>\n",
              "      <td>FAMILY</td>\n",
              "      <td>NaN</td>\n",
              "      <td>17.0</td>\n",
              "      <td>157000.0</td>\n",
              "      <td>100</td>\n",
              "      <td>False</td>\n",
              "      <td>0.99</td>\n",
              "      <td>Mature 17+</td>\n",
              "      <td>Entertainment</td>\n",
              "      <td>2015-11-25</td>\n",
              "      <td>1.2</td>\n",
              "      <td>2.1 and up</td>\n",
              "    </tr>\n",
              "    <tr>\n",
              "      <th>10760</th>\n",
              "      <td>Fast Tract Diet</td>\n",
              "      <td>HEALTH_AND_FITNESS</td>\n",
              "      <td>4.4</td>\n",
              "      <td>35.0</td>\n",
              "      <td>2400000.0</td>\n",
              "      <td>1000</td>\n",
              "      <td>False</td>\n",
              "      <td>7.99</td>\n",
              "      <td>Everyone</td>\n",
              "      <td>Health &amp; Fitness</td>\n",
              "      <td>2018-08-08</td>\n",
              "      <td>1.9.3</td>\n",
              "      <td>4.2 and up</td>\n",
              "    </tr>\n",
              "    <tr>\n",
              "      <th>10782</th>\n",
              "      <td>Trine 2: Complete Story</td>\n",
              "      <td>GAME</td>\n",
              "      <td>3.8</td>\n",
              "      <td>252.0</td>\n",
              "      <td>11000000.0</td>\n",
              "      <td>10000</td>\n",
              "      <td>False</td>\n",
              "      <td>16.99</td>\n",
              "      <td>Teen</td>\n",
              "      <td>Action</td>\n",
              "      <td>2015-02-27</td>\n",
              "      <td>2.22</td>\n",
              "      <td>5.0 and up</td>\n",
              "    </tr>\n",
              "    <tr>\n",
              "      <th>10785</th>\n",
              "      <td>sugar, sugar</td>\n",
              "      <td>FAMILY</td>\n",
              "      <td>4.2</td>\n",
              "      <td>1405.0</td>\n",
              "      <td>9500000.0</td>\n",
              "      <td>10000</td>\n",
              "      <td>False</td>\n",
              "      <td>1.20</td>\n",
              "      <td>Everyone</td>\n",
              "      <td>Puzzle</td>\n",
              "      <td>2018-06-05</td>\n",
              "      <td>2.7</td>\n",
              "      <td>2.3 and up</td>\n",
              "    </tr>\n",
              "    <tr>\n",
              "      <th>10798</th>\n",
              "      <td>Word Search Tab 1 FR</td>\n",
              "      <td>FAMILY</td>\n",
              "      <td>NaN</td>\n",
              "      <td>0.0</td>\n",
              "      <td>1020000.0</td>\n",
              "      <td>50</td>\n",
              "      <td>False</td>\n",
              "      <td>1.04</td>\n",
              "      <td>Everyone</td>\n",
              "      <td>Puzzle</td>\n",
              "      <td>2012-02-06</td>\n",
              "      <td>1.1</td>\n",
              "      <td>3.0 and up</td>\n",
              "    </tr>\n",
              "  </tbody>\n",
              "</table>\n",
              "<p>800 rows × 13 columns</p>\n",
              "</div>"
            ],
            "text/plain": [
              "                                                 App            Category  \\\n",
              "234    TurboScan: scan documents and receipts in PDF            BUSINESS   \n",
              "235                   Tiny Scanner Pro: PDF Doc Scan            BUSINESS   \n",
              "290    TurboScan: scan documents and receipts in PDF            BUSINESS   \n",
              "291                   Tiny Scanner Pro: PDF Doc Scan            BUSINESS   \n",
              "427                               Puffin Browser Pro       COMMUNICATION   \n",
              "...                                              ...                 ...   \n",
              "10735                                    FP VoiceBot              FAMILY   \n",
              "10760                                Fast Tract Diet  HEALTH_AND_FITNESS   \n",
              "10782                        Trine 2: Complete Story                GAME   \n",
              "10785                                   sugar, sugar              FAMILY   \n",
              "10798                           Word Search Tab 1 FR              FAMILY   \n",
              "\n",
              "       Rating  Reviews  Size (in Byte)  Installs  is_free  Price  \\\n",
              "234       4.7  11442.0       6800000.0    100000    False   4.99   \n",
              "235       4.8  10295.0      39000000.0    100000    False   4.99   \n",
              "290       4.7  11442.0       6800000.0    100000    False   4.99   \n",
              "291       4.8  10295.0      39000000.0    100000    False   4.99   \n",
              "427       4.0  18247.0             NaN    100000    False   3.99   \n",
              "...       ...      ...             ...       ...      ...    ...   \n",
              "10735     NaN     17.0        157000.0       100    False   0.99   \n",
              "10760     4.4     35.0       2400000.0      1000    False   7.99   \n",
              "10782     3.8    252.0      11000000.0     10000    False  16.99   \n",
              "10785     4.2   1405.0       9500000.0     10000    False   1.20   \n",
              "10798     NaN      0.0       1020000.0        50    False   1.04   \n",
              "\n",
              "      Content Rating            Genres Last Updated  Current Ver Android Ver  \n",
              "234         Everyone          Business   2018-03-25        1.5.2  4.0 and up  \n",
              "235         Everyone          Business   2017-04-11        3.4.6  3.0 and up  \n",
              "290         Everyone          Business   2018-03-25        1.5.2  4.0 and up  \n",
              "291         Everyone          Business   2017-04-11        3.4.6  3.0 and up  \n",
              "427         Everyone     Communication   2018-07-05  7.5.3.20547  4.1 and up  \n",
              "...              ...               ...          ...          ...         ...  \n",
              "10735     Mature 17+     Entertainment   2015-11-25          1.2  2.1 and up  \n",
              "10760       Everyone  Health & Fitness   2018-08-08        1.9.3  4.2 and up  \n",
              "10782           Teen            Action   2015-02-27         2.22  5.0 and up  \n",
              "10785       Everyone            Puzzle   2018-06-05          2.7  2.3 and up  \n",
              "10798       Everyone            Puzzle   2012-02-06          1.1  3.0 and up  \n",
              "\n",
              "[800 rows x 13 columns]"
            ]
          },
          "execution_count": 60,
          "metadata": {},
          "output_type": "execute_result"
        }
      ],
      "source": [
        "paid_app = playstore[playstore[\"is_free\"] == False]\n",
        "paid_app"
      ]
    },
    {
      "cell_type": "markdown",
      "metadata": {
        "id": "JXU-PLIKarJk"
      },
      "source": [
        "lets assume that there is no tax and other expenditure. So, the total earning for each app is the number of installs times the price of that app. "
      ]
    },
    {
      "cell_type": "code",
      "execution_count": null,
      "metadata": {
        "id": "xs-KO9g3eCWe",
        "outputId": "c5098618-3f26-46d1-bce6-ecadecb88f97"
      },
      "outputs": [
        {
          "data": {
            "text/html": [
              "<div>\n",
              "<style scoped>\n",
              "    .dataframe tbody tr th:only-of-type {\n",
              "        vertical-align: middle;\n",
              "    }\n",
              "\n",
              "    .dataframe tbody tr th {\n",
              "        vertical-align: top;\n",
              "    }\n",
              "\n",
              "    .dataframe thead th {\n",
              "        text-align: right;\n",
              "    }\n",
              "</style>\n",
              "<table border=\"1\" class=\"dataframe\">\n",
              "  <thead>\n",
              "    <tr style=\"text-align: right;\">\n",
              "      <th></th>\n",
              "      <th>App</th>\n",
              "      <th>Category</th>\n",
              "      <th>Rating</th>\n",
              "      <th>Reviews</th>\n",
              "      <th>Size (in Byte)</th>\n",
              "      <th>Installs</th>\n",
              "      <th>is_free</th>\n",
              "      <th>Price</th>\n",
              "      <th>Content Rating</th>\n",
              "      <th>Genres</th>\n",
              "      <th>Last Updated</th>\n",
              "      <th>Current Ver</th>\n",
              "      <th>Android Ver</th>\n",
              "    </tr>\n",
              "  </thead>\n",
              "  <tbody>\n",
              "    <tr>\n",
              "      <th>2241</th>\n",
              "      <td>Minecraft</td>\n",
              "      <td>FAMILY</td>\n",
              "      <td>4.5</td>\n",
              "      <td>2376564.0</td>\n",
              "      <td>NaN</td>\n",
              "      <td>10000000</td>\n",
              "      <td>False</td>\n",
              "      <td>6.99</td>\n",
              "      <td>Everyone 10+</td>\n",
              "      <td>Arcade;Action &amp; Adventure</td>\n",
              "      <td>2018-07-24</td>\n",
              "      <td>1.5.2.1</td>\n",
              "      <td>Varies with device</td>\n",
              "    </tr>\n",
              "    <tr>\n",
              "      <th>4347</th>\n",
              "      <td>Minecraft</td>\n",
              "      <td>FAMILY</td>\n",
              "      <td>4.5</td>\n",
              "      <td>2375336.0</td>\n",
              "      <td>NaN</td>\n",
              "      <td>10000000</td>\n",
              "      <td>False</td>\n",
              "      <td>6.99</td>\n",
              "      <td>Everyone 10+</td>\n",
              "      <td>Arcade;Action &amp; Adventure</td>\n",
              "      <td>2018-07-24</td>\n",
              "      <td>1.5.2.1</td>\n",
              "      <td>Varies with device</td>\n",
              "    </tr>\n",
              "  </tbody>\n",
              "</table>\n",
              "</div>"
            ],
            "text/plain": [
              "            App Category  Rating    Reviews  Size (in Byte)  Installs  \\\n",
              "2241  Minecraft   FAMILY     4.5  2376564.0             NaN  10000000   \n",
              "4347  Minecraft   FAMILY     4.5  2375336.0             NaN  10000000   \n",
              "\n",
              "      is_free  Price Content Rating                     Genres Last Updated  \\\n",
              "2241    False   6.99   Everyone 10+  Arcade;Action & Adventure   2018-07-24   \n",
              "4347    False   6.99   Everyone 10+  Arcade;Action & Adventure   2018-07-24   \n",
              "\n",
              "     Current Ver         Android Ver  \n",
              "2241     1.5.2.1  Varies with device  \n",
              "4347     1.5.2.1  Varies with device  "
            ]
          },
          "execution_count": 61,
          "metadata": {},
          "output_type": "execute_result"
        }
      ],
      "source": [
        "earning = paid_app[\"Installs\"] * paid_app[\"Price\"]\n",
        "high_earning = paid_app[earning == earning.max()]\n",
        "high_earning"
      ]
    },
    {
      "cell_type": "code",
      "execution_count": null,
      "metadata": {
        "id": "bv6Xop4_arJk",
        "outputId": "203d4143-2078-4942-97e2-2522d32b334d"
      },
      "outputs": [
        {
          "name": "stdout",
          "output_type": "stream",
          "text": [
            "The highest earning app on Google Play Store is Minecraft. This app earned around $69900000.0 until this dataset retrieved.\n"
          ]
        }
      ],
      "source": [
        "earn_str = \"The highest earning app on Google Play Store is {}. This app earned around ${} until this dataset retrieved.\"\n",
        "print(earn_str.format(high_earning[\"App\"].iloc[0], earning.max()))"
      ]
    },
    {
      "cell_type": "markdown",
      "metadata": {
        "id": "5GAOJ77TeCWe"
      },
      "source": [
        "#### Q4: What are the top 3 categories in Google Play Store?"
      ]
    },
    {
      "cell_type": "markdown",
      "metadata": {
        "id": "T_2rV8eTarJl"
      },
      "source": [
        "let's visualize the distribution of apps based on it's categories in Google Play Store. to visualize the distribution of each category, we can use `countplot()` method provided by seaborn library (sns). "
      ]
    },
    {
      "cell_type": "code",
      "execution_count": null,
      "metadata": {
        "id": "Y1K4JyE5eCWe",
        "outputId": "a144fa95-2fbf-441b-9cdc-3f475c19b706"
      },
      "outputs": [
        {
          "data": {
            "image/png": "[encoded data removed]",
            "text/plain": [
              "<Figure size 720x648 with 1 Axes>"
            ]
          },
          "metadata": {
            "needs_background": "light"
          },
          "output_type": "display_data"
        }
      ],
      "source": [
        "plt.figure(figsize=(10,9))\n",
        "sns.countplot(y=playstore[\"Category\"]);"
      ]
    },
    {
      "cell_type": "markdown",
      "metadata": {
        "id": "Hc4BTwiSarJl"
      },
      "source": [
        "Now, we know that the most dominant category is `FAMILY`. To get the top 3 categories in google play store, we can use the  percentage of the number of apps in each category. to do this, we will use `value_counts()` method to create a pandas series that contain the number of apps in each categories."
      ]
    },
    {
      "cell_type": "code",
      "execution_count": null,
      "metadata": {
        "id": "iwzJk6s8eCWe"
      },
      "outputs": [],
      "source": [
        "count_percentage = (playstore[\"Category\"].value_counts()*100/len(playstore[\"Category\"])).to_frame()"
      ]
    },
    {
      "cell_type": "code",
      "execution_count": null,
      "metadata": {
        "id": "6RLvnlrieCWe",
        "outputId": "198bc1c9-ef52-47d6-de41-e5434bf85993"
      },
      "outputs": [
        {
          "name": "stdout",
          "output_type": "stream",
          "text": [
            "\n",
            "The top 3 categories in Google Play Store :\n",
            "1. family, 18.19% of the apps on Google Play Store are apps in the family category\n",
            "2. game, 10.55% of the apps on Google Play Store are apps in the game category\n",
            "3. tools, 7.78% of the apps on Google Play Store are apps in the tools category\n",
            "\n"
          ]
        }
      ],
      "source": [
        "top3 = \"\"\"\n",
        "The top 3 categories in Google Play Store :\n",
        "1. {}, {:.2f}% of the apps on Google Play Store are apps in the {} category\n",
        "2. {}, {:.2f}% of the apps on Google Play Store are apps in the {} category\n",
        "3. {}, {:.2f}% of the apps on Google Play Store are apps in the {} category\n",
        "\"\"\".format(count_percentage.index[0].lower(), count_percentage.Category[0], count_percentage.index[0].lower(), count_percentage.index[1].lower(), count_percentage.Category[1], count_percentage.index[1].lower(), count_percentage.index[2].lower(), count_percentage.Category[2], count_percentage.index[2].lower())\n",
        "print(top3)"
      ]
    },
    {
      "cell_type": "markdown",
      "metadata": {
        "id": "Y8V0fWfPeCWe"
      },
      "source": [
        "#### Q5: What is the most popular social app  for teens ?"
      ]
    },
    {
      "cell_type": "code",
      "execution_count": null,
      "metadata": {
        "id": "4ACxIpxoeCWf",
        "outputId": "37fa8808-efbd-4f4d-c47a-cb59f0cb3b85"
      },
      "outputs": [
        {
          "data": {
            "text/html": [
              "<div>\n",
              "<style scoped>\n",
              "    .dataframe tbody tr th:only-of-type {\n",
              "        vertical-align: middle;\n",
              "    }\n",
              "\n",
              "    .dataframe tbody tr th {\n",
              "        vertical-align: top;\n",
              "    }\n",
              "\n",
              "    .dataframe thead th {\n",
              "        text-align: right;\n",
              "    }\n",
              "</style>\n",
              "<table border=\"1\" class=\"dataframe\">\n",
              "  <thead>\n",
              "    <tr style=\"text-align: right;\">\n",
              "      <th></th>\n",
              "      <th>App</th>\n",
              "      <th>Category</th>\n",
              "      <th>Rating</th>\n",
              "      <th>Reviews</th>\n",
              "      <th>Size (in Byte)</th>\n",
              "      <th>Installs</th>\n",
              "      <th>is_free</th>\n",
              "      <th>Price</th>\n",
              "      <th>Content Rating</th>\n",
              "      <th>Genres</th>\n",
              "      <th>Last Updated</th>\n",
              "      <th>Current Ver</th>\n",
              "      <th>Android Ver</th>\n",
              "    </tr>\n",
              "  </thead>\n",
              "  <tbody>\n",
              "    <tr>\n",
              "      <th>2544</th>\n",
              "      <td>Facebook</td>\n",
              "      <td>SOCIAL</td>\n",
              "      <td>4.1</td>\n",
              "      <td>78158306.0</td>\n",
              "      <td>NaN</td>\n",
              "      <td>1000000000</td>\n",
              "      <td>True</td>\n",
              "      <td>0.00</td>\n",
              "      <td>Teen</td>\n",
              "      <td>Social</td>\n",
              "      <td>2018-08-03</td>\n",
              "      <td>Varies with device</td>\n",
              "      <td>Varies with device</td>\n",
              "    </tr>\n",
              "    <tr>\n",
              "      <th>4144</th>\n",
              "      <td>Google+</td>\n",
              "      <td>SOCIAL</td>\n",
              "      <td>4.2</td>\n",
              "      <td>4828372.0</td>\n",
              "      <td>NaN</td>\n",
              "      <td>1000000000</td>\n",
              "      <td>True</td>\n",
              "      <td>0.00</td>\n",
              "      <td>Teen</td>\n",
              "      <td>Social</td>\n",
              "      <td>2018-07-26</td>\n",
              "      <td>Varies with device</td>\n",
              "      <td>Varies with device</td>\n",
              "    </tr>\n",
              "    <tr>\n",
              "      <th>2611</th>\n",
              "      <td>Instagram</td>\n",
              "      <td>SOCIAL</td>\n",
              "      <td>4.5</td>\n",
              "      <td>66577313.0</td>\n",
              "      <td>NaN</td>\n",
              "      <td>1000000000</td>\n",
              "      <td>True</td>\n",
              "      <td>0.00</td>\n",
              "      <td>Teen</td>\n",
              "      <td>Social</td>\n",
              "      <td>2018-07-31</td>\n",
              "      <td>Varies with device</td>\n",
              "      <td>Varies with device</td>\n",
              "    </tr>\n",
              "    <tr>\n",
              "      <th>3909</th>\n",
              "      <td>Instagram</td>\n",
              "      <td>SOCIAL</td>\n",
              "      <td>4.5</td>\n",
              "      <td>66509917.0</td>\n",
              "      <td>NaN</td>\n",
              "      <td>1000000000</td>\n",
              "      <td>True</td>\n",
              "      <td>0.00</td>\n",
              "      <td>Teen</td>\n",
              "      <td>Social</td>\n",
              "      <td>2018-07-31</td>\n",
              "      <td>Varies with device</td>\n",
              "      <td>Varies with device</td>\n",
              "    </tr>\n",
              "    <tr>\n",
              "      <th>3943</th>\n",
              "      <td>Facebook</td>\n",
              "      <td>SOCIAL</td>\n",
              "      <td>4.1</td>\n",
              "      <td>78128208.0</td>\n",
              "      <td>NaN</td>\n",
              "      <td>1000000000</td>\n",
              "      <td>True</td>\n",
              "      <td>0.00</td>\n",
              "      <td>Teen</td>\n",
              "      <td>Social</td>\n",
              "      <td>2018-08-03</td>\n",
              "      <td>Varies with device</td>\n",
              "      <td>Varies with device</td>\n",
              "    </tr>\n",
              "    <tr>\n",
              "      <th>...</th>\n",
              "      <td>...</td>\n",
              "      <td>...</td>\n",
              "      <td>...</td>\n",
              "      <td>...</td>\n",
              "      <td>...</td>\n",
              "      <td>...</td>\n",
              "      <td>...</td>\n",
              "      <td>...</td>\n",
              "      <td>...</td>\n",
              "      <td>...</td>\n",
              "      <td>...</td>\n",
              "      <td>...</td>\n",
              "      <td>...</td>\n",
              "    </tr>\n",
              "    <tr>\n",
              "      <th>8579</th>\n",
              "      <td>Otto DM</td>\n",
              "      <td>SOCIAL</td>\n",
              "      <td>NaN</td>\n",
              "      <td>0.0</td>\n",
              "      <td>2400000.0</td>\n",
              "      <td>10</td>\n",
              "      <td>True</td>\n",
              "      <td>0.00</td>\n",
              "      <td>Teen</td>\n",
              "      <td>Social</td>\n",
              "      <td>2018-03-07</td>\n",
              "      <td>1.0</td>\n",
              "      <td>4.0 and up</td>\n",
              "    </tr>\n",
              "    <tr>\n",
              "      <th>8591</th>\n",
              "      <td>DN Blog</td>\n",
              "      <td>SOCIAL</td>\n",
              "      <td>5.0</td>\n",
              "      <td>20.0</td>\n",
              "      <td>4200000.0</td>\n",
              "      <td>10</td>\n",
              "      <td>True</td>\n",
              "      <td>0.00</td>\n",
              "      <td>Teen</td>\n",
              "      <td>Social</td>\n",
              "      <td>2018-07-23</td>\n",
              "      <td>1.0</td>\n",
              "      <td>4.0 and up</td>\n",
              "    </tr>\n",
              "    <tr>\n",
              "      <th>6257</th>\n",
              "      <td>BH Connect</td>\n",
              "      <td>SOCIAL</td>\n",
              "      <td>NaN</td>\n",
              "      <td>0.0</td>\n",
              "      <td>32000000.0</td>\n",
              "      <td>1</td>\n",
              "      <td>True</td>\n",
              "      <td>0.00</td>\n",
              "      <td>Teen</td>\n",
              "      <td>Social</td>\n",
              "      <td>2018-03-22</td>\n",
              "      <td>1.4.4</td>\n",
              "      <td>4.0.3 and up</td>\n",
              "    </tr>\n",
              "    <tr>\n",
              "      <th>5307</th>\n",
              "      <td>Ak Parti Yardım Toplama</td>\n",
              "      <td>SOCIAL</td>\n",
              "      <td>NaN</td>\n",
              "      <td>0.0</td>\n",
              "      <td>8700000.0</td>\n",
              "      <td>0</td>\n",
              "      <td>False</td>\n",
              "      <td>13.99</td>\n",
              "      <td>Teen</td>\n",
              "      <td>Social</td>\n",
              "      <td>2017-07-28</td>\n",
              "      <td>3.4.4.3.3</td>\n",
              "      <td>4.1 and up</td>\n",
              "    </tr>\n",
              "    <tr>\n",
              "      <th>7434</th>\n",
              "      <td>Pekalongan CJ</td>\n",
              "      <td>SOCIAL</td>\n",
              "      <td>NaN</td>\n",
              "      <td>0.0</td>\n",
              "      <td>5900000.0</td>\n",
              "      <td>0</td>\n",
              "      <td>True</td>\n",
              "      <td>0.00</td>\n",
              "      <td>Teen</td>\n",
              "      <td>Social</td>\n",
              "      <td>2018-07-21</td>\n",
              "      <td>0.0.1</td>\n",
              "      <td>4.4 and up</td>\n",
              "    </tr>\n",
              "  </tbody>\n",
              "</table>\n",
              "<p>125 rows × 13 columns</p>\n",
              "</div>"
            ],
            "text/plain": [
              "                          App Category  Rating     Reviews  Size (in Byte)  \\\n",
              "2544                 Facebook   SOCIAL     4.1  78158306.0             NaN   \n",
              "4144                  Google+   SOCIAL     4.2   4828372.0             NaN   \n",
              "2611                Instagram   SOCIAL     4.5  66577313.0             NaN   \n",
              "3909                Instagram   SOCIAL     4.5  66509917.0             NaN   \n",
              "3943                 Facebook   SOCIAL     4.1  78128208.0             NaN   \n",
              "...                       ...      ...     ...         ...             ...   \n",
              "8579                  Otto DM   SOCIAL     NaN         0.0       2400000.0   \n",
              "8591                  DN Blog   SOCIAL     5.0        20.0       4200000.0   \n",
              "6257               BH Connect   SOCIAL     NaN         0.0      32000000.0   \n",
              "5307  Ak Parti Yardım Toplama   SOCIAL     NaN         0.0       8700000.0   \n",
              "7434            Pekalongan CJ   SOCIAL     NaN         0.0       5900000.0   \n",
              "\n",
              "        Installs  is_free  Price Content Rating  Genres Last Updated  \\\n",
              "2544  1000000000     True   0.00           Teen  Social   2018-08-03   \n",
              "4144  1000000000     True   0.00           Teen  Social   2018-07-26   \n",
              "2611  1000000000     True   0.00           Teen  Social   2018-07-31   \n",
              "3909  1000000000     True   0.00           Teen  Social   2018-07-31   \n",
              "3943  1000000000     True   0.00           Teen  Social   2018-08-03   \n",
              "...          ...      ...    ...            ...     ...          ...   \n",
              "8579          10     True   0.00           Teen  Social   2018-03-07   \n",
              "8591          10     True   0.00           Teen  Social   2018-07-23   \n",
              "6257           1     True   0.00           Teen  Social   2018-03-22   \n",
              "5307           0    False  13.99           Teen  Social   2017-07-28   \n",
              "7434           0     True   0.00           Teen  Social   2018-07-21   \n",
              "\n",
              "             Current Ver         Android Ver  \n",
              "2544  Varies with device  Varies with device  \n",
              "4144  Varies with device  Varies with device  \n",
              "2611  Varies with device  Varies with device  \n",
              "3909  Varies with device  Varies with device  \n",
              "3943  Varies with device  Varies with device  \n",
              "...                  ...                 ...  \n",
              "8579                 1.0          4.0 and up  \n",
              "8591                 1.0          4.0 and up  \n",
              "6257               1.4.4        4.0.3 and up  \n",
              "5307           3.4.4.3.3          4.1 and up  \n",
              "7434               0.0.1          4.4 and up  \n",
              "\n",
              "[125 rows x 13 columns]"
            ]
          },
          "execution_count": 69,
          "metadata": {},
          "output_type": "execute_result"
        }
      ],
      "source": [
        "teen_social = playstore[(playstore[\"Category\"] == \"SOCIAL\") & (playstore[\"Content Rating\"] == \"Teen\")]\n",
        "teen_social.sort_values(\"Installs\", ascending=False)"
      ]
    },
    {
      "cell_type": "code",
      "execution_count": null,
      "metadata": {
        "id": "uC5jMSQWeCWf",
        "outputId": "59697357-4cef-4bd1-d1d2-098992f7bf88"
      },
      "outputs": [
        {
          "name": "stdout",
          "output_type": "stream",
          "text": [
            "one of the most popular social app for teens is Facebook. this app has been installed about 1000000000+ times!\n"
          ]
        }
      ],
      "source": [
        "print(\"one of the most popular social app for teens is {}. this app has been installed about {}+ times!\".format(teen_social[\"App\"].iloc[0], teen_social[\"Installs\"].iloc[0]))"
      ]
    },
    {
      "cell_type": "markdown",
      "metadata": {
        "id": "7UEK3CwoarJm"
      },
      "source": [
        "#### Q6 : Which type of scanner app do users prefer? free app or paid app?"
      ]
    },
    {
      "cell_type": "markdown",
      "metadata": {
        "id": "5fMjdEwxarJn"
      },
      "source": [
        "in order to answer this question, we should create a dataframe called `business` that contain all of the apps in `business` category. then, extract this dataframe to get a new dataframe called `scanner` that contain the data of all scanner apps."
      ]
    },
    {
      "cell_type": "code",
      "execution_count": null,
      "metadata": {
        "id": "CHqaJn-xarJn",
        "outputId": "7584d08d-1a87-45e2-f18c-e687634d49ef"
      },
      "outputs": [
        {
          "data": {
            "text/html": [
              "<div>\n",
              "<style scoped>\n",
              "    .dataframe tbody tr th:only-of-type {\n",
              "        vertical-align: middle;\n",
              "    }\n",
              "\n",
              "    .dataframe tbody tr th {\n",
              "        vertical-align: top;\n",
              "    }\n",
              "\n",
              "    .dataframe thead th {\n",
              "        text-align: right;\n",
              "    }\n",
              "</style>\n",
              "<table border=\"1\" class=\"dataframe\">\n",
              "  <thead>\n",
              "    <tr style=\"text-align: right;\">\n",
              "      <th></th>\n",
              "      <th>App</th>\n",
              "      <th>Category</th>\n",
              "      <th>Rating</th>\n",
              "      <th>Reviews</th>\n",
              "      <th>Size (in Byte)</th>\n",
              "      <th>Installs</th>\n",
              "      <th>is_free</th>\n",
              "      <th>Price</th>\n",
              "      <th>Content Rating</th>\n",
              "      <th>Genres</th>\n",
              "      <th>Last Updated</th>\n",
              "      <th>Current Ver</th>\n",
              "      <th>Android Ver</th>\n",
              "    </tr>\n",
              "  </thead>\n",
              "  <tbody>\n",
              "    <tr>\n",
              "      <th>187</th>\n",
              "      <td>Visual Voicemail by MetroPCS</td>\n",
              "      <td>BUSINESS</td>\n",
              "      <td>4.1</td>\n",
              "      <td>16129.0</td>\n",
              "      <td>NaN</td>\n",
              "      <td>10000000</td>\n",
              "      <td>True</td>\n",
              "      <td>0.0</td>\n",
              "      <td>Everyone</td>\n",
              "      <td>Business</td>\n",
              "      <td>2018-07-30</td>\n",
              "      <td>Varies with device</td>\n",
              "      <td>Varies with device</td>\n",
              "    </tr>\n",
              "    <tr>\n",
              "      <th>188</th>\n",
              "      <td>Indeed Job Search</td>\n",
              "      <td>BUSINESS</td>\n",
              "      <td>4.3</td>\n",
              "      <td>674730.0</td>\n",
              "      <td>NaN</td>\n",
              "      <td>50000000</td>\n",
              "      <td>True</td>\n",
              "      <td>0.0</td>\n",
              "      <td>Everyone</td>\n",
              "      <td>Business</td>\n",
              "      <td>2018-05-21</td>\n",
              "      <td>Varies with device</td>\n",
              "      <td>Varies with device</td>\n",
              "    </tr>\n",
              "    <tr>\n",
              "      <th>189</th>\n",
              "      <td>Uber Driver</td>\n",
              "      <td>BUSINESS</td>\n",
              "      <td>4.4</td>\n",
              "      <td>1254730.0</td>\n",
              "      <td>NaN</td>\n",
              "      <td>10000000</td>\n",
              "      <td>True</td>\n",
              "      <td>0.0</td>\n",
              "      <td>Everyone</td>\n",
              "      <td>Business</td>\n",
              "      <td>2018-08-03</td>\n",
              "      <td>Varies with device</td>\n",
              "      <td>Varies with device</td>\n",
              "    </tr>\n",
              "    <tr>\n",
              "      <th>190</th>\n",
              "      <td>ADP Mobile Solutions</td>\n",
              "      <td>BUSINESS</td>\n",
              "      <td>4.3</td>\n",
              "      <td>85185.0</td>\n",
              "      <td>29000000.0</td>\n",
              "      <td>5000000</td>\n",
              "      <td>True</td>\n",
              "      <td>0.0</td>\n",
              "      <td>Everyone</td>\n",
              "      <td>Business</td>\n",
              "      <td>2018-07-17</td>\n",
              "      <td>3.4.2</td>\n",
              "      <td>5.0 and up</td>\n",
              "    </tr>\n",
              "    <tr>\n",
              "      <th>191</th>\n",
              "      <td>Snag - Jobs Hiring Now</td>\n",
              "      <td>BUSINESS</td>\n",
              "      <td>4.3</td>\n",
              "      <td>32584.0</td>\n",
              "      <td>NaN</td>\n",
              "      <td>1000000</td>\n",
              "      <td>True</td>\n",
              "      <td>0.0</td>\n",
              "      <td>Everyone</td>\n",
              "      <td>Business</td>\n",
              "      <td>2018-05-04</td>\n",
              "      <td>Varies with device</td>\n",
              "      <td>Varies with device</td>\n",
              "    </tr>\n",
              "    <tr>\n",
              "      <th>...</th>\n",
              "      <td>...</td>\n",
              "      <td>...</td>\n",
              "      <td>...</td>\n",
              "      <td>...</td>\n",
              "      <td>...</td>\n",
              "      <td>...</td>\n",
              "      <td>...</td>\n",
              "      <td>...</td>\n",
              "      <td>...</td>\n",
              "      <td>...</td>\n",
              "      <td>...</td>\n",
              "      <td>...</td>\n",
              "      <td>...</td>\n",
              "    </tr>\n",
              "    <tr>\n",
              "      <th>10772</th>\n",
              "      <td>FQ Load Board for Transporters</td>\n",
              "      <td>BUSINESS</td>\n",
              "      <td>NaN</td>\n",
              "      <td>0.0</td>\n",
              "      <td>3900000.0</td>\n",
              "      <td>100</td>\n",
              "      <td>True</td>\n",
              "      <td>0.0</td>\n",
              "      <td>Everyone</td>\n",
              "      <td>Business</td>\n",
              "      <td>2018-02-16</td>\n",
              "      <td>1.1.3</td>\n",
              "      <td>5.0 and up</td>\n",
              "    </tr>\n",
              "    <tr>\n",
              "      <th>10810</th>\n",
              "      <td>Fr Lupupa Sermons</td>\n",
              "      <td>BUSINESS</td>\n",
              "      <td>4.8</td>\n",
              "      <td>19.0</td>\n",
              "      <td>21000000.0</td>\n",
              "      <td>100</td>\n",
              "      <td>True</td>\n",
              "      <td>0.0</td>\n",
              "      <td>Everyone</td>\n",
              "      <td>Business</td>\n",
              "      <td>2018-06-12</td>\n",
              "      <td>1.0</td>\n",
              "      <td>4.4 and up</td>\n",
              "    </tr>\n",
              "    <tr>\n",
              "      <th>10813</th>\n",
              "      <td>DICT.fr Mobile</td>\n",
              "      <td>BUSINESS</td>\n",
              "      <td>NaN</td>\n",
              "      <td>20.0</td>\n",
              "      <td>2700000.0</td>\n",
              "      <td>10000</td>\n",
              "      <td>True</td>\n",
              "      <td>0.0</td>\n",
              "      <td>Everyone</td>\n",
              "      <td>Business</td>\n",
              "      <td>2018-07-17</td>\n",
              "      <td>2.1.10</td>\n",
              "      <td>4.1 and up</td>\n",
              "    </tr>\n",
              "    <tr>\n",
              "      <th>10816</th>\n",
              "      <td>FieldBi FR Offline</td>\n",
              "      <td>BUSINESS</td>\n",
              "      <td>NaN</td>\n",
              "      <td>2.0</td>\n",
              "      <td>6800000.0</td>\n",
              "      <td>100</td>\n",
              "      <td>True</td>\n",
              "      <td>0.0</td>\n",
              "      <td>Everyone</td>\n",
              "      <td>Business</td>\n",
              "      <td>2018-08-06</td>\n",
              "      <td>2.1.8</td>\n",
              "      <td>4.1 and up</td>\n",
              "    </tr>\n",
              "    <tr>\n",
              "      <th>10835</th>\n",
              "      <td>FR Forms</td>\n",
              "      <td>BUSINESS</td>\n",
              "      <td>NaN</td>\n",
              "      <td>0.0</td>\n",
              "      <td>9600000.0</td>\n",
              "      <td>10</td>\n",
              "      <td>True</td>\n",
              "      <td>0.0</td>\n",
              "      <td>Everyone</td>\n",
              "      <td>Business</td>\n",
              "      <td>2016-09-29</td>\n",
              "      <td>1.1.5</td>\n",
              "      <td>4.0 and up</td>\n",
              "    </tr>\n",
              "  </tbody>\n",
              "</table>\n",
              "<p>460 rows × 13 columns</p>\n",
              "</div>"
            ],
            "text/plain": [
              "                                  App  Category  Rating    Reviews  \\\n",
              "187      Visual Voicemail by MetroPCS  BUSINESS     4.1    16129.0   \n",
              "188                 Indeed Job Search  BUSINESS     4.3   674730.0   \n",
              "189                       Uber Driver  BUSINESS     4.4  1254730.0   \n",
              "190              ADP Mobile Solutions  BUSINESS     4.3    85185.0   \n",
              "191            Snag - Jobs Hiring Now  BUSINESS     4.3    32584.0   \n",
              "...                               ...       ...     ...        ...   \n",
              "10772  FQ Load Board for Transporters  BUSINESS     NaN        0.0   \n",
              "10810               Fr Lupupa Sermons  BUSINESS     4.8       19.0   \n",
              "10813                  DICT.fr Mobile  BUSINESS     NaN       20.0   \n",
              "10816              FieldBi FR Offline  BUSINESS     NaN        2.0   \n",
              "10835                        FR Forms  BUSINESS     NaN        0.0   \n",
              "\n",
              "       Size (in Byte)  Installs  is_free  Price Content Rating    Genres  \\\n",
              "187               NaN  10000000     True    0.0       Everyone  Business   \n",
              "188               NaN  50000000     True    0.0       Everyone  Business   \n",
              "189               NaN  10000000     True    0.0       Everyone  Business   \n",
              "190        29000000.0   5000000     True    0.0       Everyone  Business   \n",
              "191               NaN   1000000     True    0.0       Everyone  Business   \n",
              "...               ...       ...      ...    ...            ...       ...   \n",
              "10772       3900000.0       100     True    0.0       Everyone  Business   \n",
              "10810      21000000.0       100     True    0.0       Everyone  Business   \n",
              "10813       2700000.0     10000     True    0.0       Everyone  Business   \n",
              "10816       6800000.0       100     True    0.0       Everyone  Business   \n",
              "10835       9600000.0        10     True    0.0       Everyone  Business   \n",
              "\n",
              "      Last Updated         Current Ver         Android Ver  \n",
              "187     2018-07-30  Varies with device  Varies with device  \n",
              "188     2018-05-21  Varies with device  Varies with device  \n",
              "189     2018-08-03  Varies with device  Varies with device  \n",
              "190     2018-07-17               3.4.2          5.0 and up  \n",
              "191     2018-05-04  Varies with device  Varies with device  \n",
              "...            ...                 ...                 ...  \n",
              "10772   2018-02-16               1.1.3          5.0 and up  \n",
              "10810   2018-06-12                 1.0          4.4 and up  \n",
              "10813   2018-07-17              2.1.10          4.1 and up  \n",
              "10816   2018-08-06               2.1.8          4.1 and up  \n",
              "10835   2016-09-29               1.1.5          4.0 and up  \n",
              "\n",
              "[460 rows x 13 columns]"
            ]
          },
          "execution_count": 71,
          "metadata": {},
          "output_type": "execute_result"
        }
      ],
      "source": [
        "business = playstore[(playstore[\"Category\"] == \"BUSINESS\")]\n",
        "business"
      ]
    },
    {
      "cell_type": "markdown",
      "metadata": {
        "id": "r1lScDD0arJn"
      },
      "source": [
        "here, we will using regular expression to get the list of index of app that **isn't a scanner app**. let's call this list `index`. because we want to search the name of apps that contain `scan`, then we will using `\"scan\"` string as regex pattern. then, iterate through each name of apps, and apply the regex method. in the code below, i use `re.search()` to determine whether the string `\"scan\"` exist or not in each app's name. if it is not exist, then drop that row. Finally, we get the dataframe that contain scanner apps only."
      ]
    },
    {
      "cell_type": "code",
      "execution_count": null,
      "metadata": {
        "scrolled": true,
        "id": "ak1zu6ZuarJn"
      },
      "outputs": [],
      "source": [
        "import re\n",
        "index = []\n",
        "pattern = \"scan\"\n",
        "for i in business.index:\n",
        "    x = re.search(pattern, business[\"App\"][i].lower())\n",
        "    if x:\n",
        "        continue\n",
        "    else :\n",
        "        index.append(i)\n",
        "scanner = business.drop(index)"
      ]
    },
    {
      "cell_type": "code",
      "execution_count": null,
      "metadata": {
        "id": "YanWMFnXarJn",
        "outputId": "3066627d-882e-4a84-cad5-8a37b9f5961e"
      },
      "outputs": [
        {
          "data": {
            "text/html": [
              "<div>\n",
              "<style scoped>\n",
              "    .dataframe tbody tr th:only-of-type {\n",
              "        vertical-align: middle;\n",
              "    }\n",
              "\n",
              "    .dataframe tbody tr th {\n",
              "        vertical-align: top;\n",
              "    }\n",
              "\n",
              "    .dataframe thead th {\n",
              "        text-align: right;\n",
              "    }\n",
              "</style>\n",
              "<table border=\"1\" class=\"dataframe\">\n",
              "  <thead>\n",
              "    <tr style=\"text-align: right;\">\n",
              "      <th></th>\n",
              "      <th>App</th>\n",
              "      <th>Category</th>\n",
              "      <th>Rating</th>\n",
              "      <th>Reviews</th>\n",
              "      <th>Size (in Byte)</th>\n",
              "      <th>Installs</th>\n",
              "      <th>is_free</th>\n",
              "      <th>Price</th>\n",
              "      <th>Content Rating</th>\n",
              "      <th>Genres</th>\n",
              "      <th>Last Updated</th>\n",
              "      <th>Current Ver</th>\n",
              "      <th>Android Ver</th>\n",
              "    </tr>\n",
              "  </thead>\n",
              "  <tbody>\n",
              "    <tr>\n",
              "      <th>222</th>\n",
              "      <td>Quick PDF Scanner + OCR FREE</td>\n",
              "      <td>BUSINESS</td>\n",
              "      <td>4.2</td>\n",
              "      <td>80805.0</td>\n",
              "      <td>NaN</td>\n",
              "      <td>5000000</td>\n",
              "      <td>True</td>\n",
              "      <td>0.00</td>\n",
              "      <td>Everyone</td>\n",
              "      <td>Business</td>\n",
              "      <td>2018-02-26</td>\n",
              "      <td>Varies with device</td>\n",
              "      <td>4.0.3 and up</td>\n",
              "    </tr>\n",
              "    <tr>\n",
              "      <th>229</th>\n",
              "      <td>Quick PDF Scanner + OCR FREE</td>\n",
              "      <td>BUSINESS</td>\n",
              "      <td>4.2</td>\n",
              "      <td>80805.0</td>\n",
              "      <td>NaN</td>\n",
              "      <td>5000000</td>\n",
              "      <td>True</td>\n",
              "      <td>0.00</td>\n",
              "      <td>Everyone</td>\n",
              "      <td>Business</td>\n",
              "      <td>2018-02-26</td>\n",
              "      <td>Varies with device</td>\n",
              "      <td>4.0.3 and up</td>\n",
              "    </tr>\n",
              "    <tr>\n",
              "      <th>230</th>\n",
              "      <td>Genius Scan - PDF Scanner</td>\n",
              "      <td>BUSINESS</td>\n",
              "      <td>4.4</td>\n",
              "      <td>42492.0</td>\n",
              "      <td>NaN</td>\n",
              "      <td>1000000</td>\n",
              "      <td>True</td>\n",
              "      <td>0.00</td>\n",
              "      <td>Everyone</td>\n",
              "      <td>Business</td>\n",
              "      <td>2018-07-11</td>\n",
              "      <td>Varies with device</td>\n",
              "      <td>Varies with device</td>\n",
              "    </tr>\n",
              "    <tr>\n",
              "      <th>231</th>\n",
              "      <td>Tiny Scanner - PDF Scanner App</td>\n",
              "      <td>BUSINESS</td>\n",
              "      <td>4.7</td>\n",
              "      <td>286897.0</td>\n",
              "      <td>39000000.0</td>\n",
              "      <td>10000000</td>\n",
              "      <td>True</td>\n",
              "      <td>0.00</td>\n",
              "      <td>Everyone</td>\n",
              "      <td>Business</td>\n",
              "      <td>2017-05-30</td>\n",
              "      <td>1.2.6</td>\n",
              "      <td>3.0 and up</td>\n",
              "    </tr>\n",
              "    <tr>\n",
              "      <th>232</th>\n",
              "      <td>Fast Scanner : Free PDF Scan</td>\n",
              "      <td>BUSINESS</td>\n",
              "      <td>4.5</td>\n",
              "      <td>103755.0</td>\n",
              "      <td>14000000.0</td>\n",
              "      <td>10000000</td>\n",
              "      <td>True</td>\n",
              "      <td>0.00</td>\n",
              "      <td>Everyone</td>\n",
              "      <td>Business</td>\n",
              "      <td>2018-07-11</td>\n",
              "      <td>3.9.2</td>\n",
              "      <td>4.1 and up</td>\n",
              "    </tr>\n",
              "    <tr>\n",
              "      <th>233</th>\n",
              "      <td>Mobile Doc Scanner (MDScan) Lite</td>\n",
              "      <td>BUSINESS</td>\n",
              "      <td>4.2</td>\n",
              "      <td>46505.0</td>\n",
              "      <td>19000000.0</td>\n",
              "      <td>1000000</td>\n",
              "      <td>True</td>\n",
              "      <td>0.00</td>\n",
              "      <td>Everyone</td>\n",
              "      <td>Business</td>\n",
              "      <td>2018-08-02</td>\n",
              "      <td>3.4.49</td>\n",
              "      <td>4.1 and up</td>\n",
              "    </tr>\n",
              "    <tr>\n",
              "      <th>234</th>\n",
              "      <td>TurboScan: scan documents and receipts in PDF</td>\n",
              "      <td>BUSINESS</td>\n",
              "      <td>4.7</td>\n",
              "      <td>11442.0</td>\n",
              "      <td>6800000.0</td>\n",
              "      <td>100000</td>\n",
              "      <td>False</td>\n",
              "      <td>4.99</td>\n",
              "      <td>Everyone</td>\n",
              "      <td>Business</td>\n",
              "      <td>2018-03-25</td>\n",
              "      <td>1.5.2</td>\n",
              "      <td>4.0 and up</td>\n",
              "    </tr>\n",
              "    <tr>\n",
              "      <th>235</th>\n",
              "      <td>Tiny Scanner Pro: PDF Doc Scan</td>\n",
              "      <td>BUSINESS</td>\n",
              "      <td>4.8</td>\n",
              "      <td>10295.0</td>\n",
              "      <td>39000000.0</td>\n",
              "      <td>100000</td>\n",
              "      <td>False</td>\n",
              "      <td>4.99</td>\n",
              "      <td>Everyone</td>\n",
              "      <td>Business</td>\n",
              "      <td>2017-04-11</td>\n",
              "      <td>3.4.6</td>\n",
              "      <td>3.0 and up</td>\n",
              "    </tr>\n",
              "    <tr>\n",
              "      <th>285</th>\n",
              "      <td>Quick PDF Scanner + OCR FREE</td>\n",
              "      <td>BUSINESS</td>\n",
              "      <td>4.2</td>\n",
              "      <td>80804.0</td>\n",
              "      <td>NaN</td>\n",
              "      <td>5000000</td>\n",
              "      <td>True</td>\n",
              "      <td>0.00</td>\n",
              "      <td>Everyone</td>\n",
              "      <td>Business</td>\n",
              "      <td>2018-02-26</td>\n",
              "      <td>Varies with device</td>\n",
              "      <td>4.0.3 and up</td>\n",
              "    </tr>\n",
              "    <tr>\n",
              "      <th>286</th>\n",
              "      <td>Genius Scan - PDF Scanner</td>\n",
              "      <td>BUSINESS</td>\n",
              "      <td>4.4</td>\n",
              "      <td>42492.0</td>\n",
              "      <td>NaN</td>\n",
              "      <td>1000000</td>\n",
              "      <td>True</td>\n",
              "      <td>0.00</td>\n",
              "      <td>Everyone</td>\n",
              "      <td>Business</td>\n",
              "      <td>2018-07-11</td>\n",
              "      <td>Varies with device</td>\n",
              "      <td>Varies with device</td>\n",
              "    </tr>\n",
              "    <tr>\n",
              "      <th>287</th>\n",
              "      <td>Tiny Scanner - PDF Scanner App</td>\n",
              "      <td>BUSINESS</td>\n",
              "      <td>4.7</td>\n",
              "      <td>286897.0</td>\n",
              "      <td>39000000.0</td>\n",
              "      <td>10000000</td>\n",
              "      <td>True</td>\n",
              "      <td>0.00</td>\n",
              "      <td>Everyone</td>\n",
              "      <td>Business</td>\n",
              "      <td>2017-05-30</td>\n",
              "      <td>1.2.6</td>\n",
              "      <td>3.0 and up</td>\n",
              "    </tr>\n",
              "    <tr>\n",
              "      <th>288</th>\n",
              "      <td>Fast Scanner : Free PDF Scan</td>\n",
              "      <td>BUSINESS</td>\n",
              "      <td>4.5</td>\n",
              "      <td>103755.0</td>\n",
              "      <td>14000000.0</td>\n",
              "      <td>10000000</td>\n",
              "      <td>True</td>\n",
              "      <td>0.00</td>\n",
              "      <td>Everyone</td>\n",
              "      <td>Business</td>\n",
              "      <td>2018-07-11</td>\n",
              "      <td>3.9.2</td>\n",
              "      <td>4.1 and up</td>\n",
              "    </tr>\n",
              "    <tr>\n",
              "      <th>289</th>\n",
              "      <td>Mobile Doc Scanner (MDScan) Lite</td>\n",
              "      <td>BUSINESS</td>\n",
              "      <td>4.2</td>\n",
              "      <td>46505.0</td>\n",
              "      <td>19000000.0</td>\n",
              "      <td>1000000</td>\n",
              "      <td>True</td>\n",
              "      <td>0.00</td>\n",
              "      <td>Everyone</td>\n",
              "      <td>Business</td>\n",
              "      <td>2018-08-02</td>\n",
              "      <td>3.4.49</td>\n",
              "      <td>4.1 and up</td>\n",
              "    </tr>\n",
              "    <tr>\n",
              "      <th>290</th>\n",
              "      <td>TurboScan: scan documents and receipts in PDF</td>\n",
              "      <td>BUSINESS</td>\n",
              "      <td>4.7</td>\n",
              "      <td>11442.0</td>\n",
              "      <td>6800000.0</td>\n",
              "      <td>100000</td>\n",
              "      <td>False</td>\n",
              "      <td>4.99</td>\n",
              "      <td>Everyone</td>\n",
              "      <td>Business</td>\n",
              "      <td>2018-03-25</td>\n",
              "      <td>1.5.2</td>\n",
              "      <td>4.0 and up</td>\n",
              "    </tr>\n",
              "    <tr>\n",
              "      <th>291</th>\n",
              "      <td>Tiny Scanner Pro: PDF Doc Scan</td>\n",
              "      <td>BUSINESS</td>\n",
              "      <td>4.8</td>\n",
              "      <td>10295.0</td>\n",
              "      <td>39000000.0</td>\n",
              "      <td>100000</td>\n",
              "      <td>False</td>\n",
              "      <td>4.99</td>\n",
              "      <td>Everyone</td>\n",
              "      <td>Business</td>\n",
              "      <td>2017-04-11</td>\n",
              "      <td>3.4.6</td>\n",
              "      <td>3.0 and up</td>\n",
              "    </tr>\n",
              "    <tr>\n",
              "      <th>8631</th>\n",
              "      <td>PDF Reader - Scan、Edit &amp; Share</td>\n",
              "      <td>BUSINESS</td>\n",
              "      <td>4.3</td>\n",
              "      <td>54520.0</td>\n",
              "      <td>NaN</td>\n",
              "      <td>10000000</td>\n",
              "      <td>True</td>\n",
              "      <td>0.00</td>\n",
              "      <td>Everyone</td>\n",
              "      <td>Business</td>\n",
              "      <td>2018-07-30</td>\n",
              "      <td>3.12.4</td>\n",
              "      <td>Varies with device</td>\n",
              "    </tr>\n",
              "  </tbody>\n",
              "</table>\n",
              "</div>"
            ],
            "text/plain": [
              "                                                App  Category  Rating  \\\n",
              "222                    Quick PDF Scanner + OCR FREE  BUSINESS     4.2   \n",
              "229                    Quick PDF Scanner + OCR FREE  BUSINESS     4.2   \n",
              "230                       Genius Scan - PDF Scanner  BUSINESS     4.4   \n",
              "231                  Tiny Scanner - PDF Scanner App  BUSINESS     4.7   \n",
              "232                    Fast Scanner : Free PDF Scan  BUSINESS     4.5   \n",
              "233                Mobile Doc Scanner (MDScan) Lite  BUSINESS     4.2   \n",
              "234   TurboScan: scan documents and receipts in PDF  BUSINESS     4.7   \n",
              "235                  Tiny Scanner Pro: PDF Doc Scan  BUSINESS     4.8   \n",
              "285                    Quick PDF Scanner + OCR FREE  BUSINESS     4.2   \n",
              "286                       Genius Scan - PDF Scanner  BUSINESS     4.4   \n",
              "287                  Tiny Scanner - PDF Scanner App  BUSINESS     4.7   \n",
              "288                    Fast Scanner : Free PDF Scan  BUSINESS     4.5   \n",
              "289                Mobile Doc Scanner (MDScan) Lite  BUSINESS     4.2   \n",
              "290   TurboScan: scan documents and receipts in PDF  BUSINESS     4.7   \n",
              "291                  Tiny Scanner Pro: PDF Doc Scan  BUSINESS     4.8   \n",
              "8631                 PDF Reader - Scan、Edit & Share  BUSINESS     4.3   \n",
              "\n",
              "       Reviews  Size (in Byte)  Installs  is_free  Price Content Rating  \\\n",
              "222    80805.0             NaN   5000000     True   0.00       Everyone   \n",
              "229    80805.0             NaN   5000000     True   0.00       Everyone   \n",
              "230    42492.0             NaN   1000000     True   0.00       Everyone   \n",
              "231   286897.0      39000000.0  10000000     True   0.00       Everyone   \n",
              "232   103755.0      14000000.0  10000000     True   0.00       Everyone   \n",
              "233    46505.0      19000000.0   1000000     True   0.00       Everyone   \n",
              "234    11442.0       6800000.0    100000    False   4.99       Everyone   \n",
              "235    10295.0      39000000.0    100000    False   4.99       Everyone   \n",
              "285    80804.0             NaN   5000000     True   0.00       Everyone   \n",
              "286    42492.0             NaN   1000000     True   0.00       Everyone   \n",
              "287   286897.0      39000000.0  10000000     True   0.00       Everyone   \n",
              "288   103755.0      14000000.0  10000000     True   0.00       Everyone   \n",
              "289    46505.0      19000000.0   1000000     True   0.00       Everyone   \n",
              "290    11442.0       6800000.0    100000    False   4.99       Everyone   \n",
              "291    10295.0      39000000.0    100000    False   4.99       Everyone   \n",
              "8631   54520.0             NaN  10000000     True   0.00       Everyone   \n",
              "\n",
              "        Genres Last Updated         Current Ver         Android Ver  \n",
              "222   Business   2018-02-26  Varies with device        4.0.3 and up  \n",
              "229   Business   2018-02-26  Varies with device        4.0.3 and up  \n",
              "230   Business   2018-07-11  Varies with device  Varies with device  \n",
              "231   Business   2017-05-30               1.2.6          3.0 and up  \n",
              "232   Business   2018-07-11               3.9.2          4.1 and up  \n",
              "233   Business   2018-08-02              3.4.49          4.1 and up  \n",
              "234   Business   2018-03-25               1.5.2          4.0 and up  \n",
              "235   Business   2017-04-11               3.4.6          3.0 and up  \n",
              "285   Business   2018-02-26  Varies with device        4.0.3 and up  \n",
              "286   Business   2018-07-11  Varies with device  Varies with device  \n",
              "287   Business   2017-05-30               1.2.6          3.0 and up  \n",
              "288   Business   2018-07-11               3.9.2          4.1 and up  \n",
              "289   Business   2018-08-02              3.4.49          4.1 and up  \n",
              "290   Business   2018-03-25               1.5.2          4.0 and up  \n",
              "291   Business   2017-04-11               3.4.6          3.0 and up  \n",
              "8631  Business   2018-07-30              3.12.4  Varies with device  "
            ]
          },
          "execution_count": 73,
          "metadata": {},
          "output_type": "execute_result"
        }
      ],
      "source": [
        "scanner"
      ]
    },
    {
      "cell_type": "markdown",
      "metadata": {
        "id": "C-c8C2saarJo"
      },
      "source": [
        "in the next step, we will use the average installs of each type scanner as a parameter to determine whether one type of scanner app is more preferable than the other one. if average of the number of installs of free scanner is greater than average of the number of installs of paid scanner app, we say that free scanner apps are more preferable than paid scanner apps."
      ]
    },
    {
      "cell_type": "code",
      "execution_count": null,
      "metadata": {
        "id": "RgOv2IejarJo",
        "outputId": "d9e8ef06-3442-4a4c-daf2-98f84b088a42"
      },
      "outputs": [
        {
          "name": "stdout",
          "output_type": "stream",
          "text": [
            "free scanner apps are more preferable than paid scanner apps\n"
          ]
        }
      ],
      "source": [
        "free_scanner = scanner[scanner[\"is_free\"] == True]\n",
        "paid_scanner = scanner[scanner[\"is_free\"] == False]\n",
        "# average Installs of each type of scanner :\n",
        "avg_free_scanner = free_scanner[\"Installs\"].mean()\n",
        "avg_paid_scanner = paid_scanner[\"Installs\"].mean()\n",
        "if avg_free_scanner>avg_paid_scanner:\n",
        "    print(\"free scanner apps are more preferable than paid scanner apps\")\n",
        "elif avg_free_scanner<avg_paid_scanner:\n",
        "    print(\"paid scanner apps are more preferable than free scanner apps\")"
      ]
    },
    {
      "cell_type": "markdown",
      "metadata": {
        "id": "ta_wGrrAeCWf"
      },
      "source": [
        "Let us save and upload our work to Jovian before continuing."
      ]
    },
    {
      "cell_type": "code",
      "execution_count": null,
      "metadata": {
        "id": "p6BiLnmDeCWf"
      },
      "outputs": [],
      "source": [
        "import jovian"
      ]
    },
    {
      "cell_type": "code",
      "execution_count": null,
      "metadata": {
        "id": "efFGQ429eCWg",
        "outputId": "234123e0-6f33-4376-fc52-160ee242a8b8"
      },
      "outputs": [
        {
          "data": {
            "application/javascript": [
              "window.require && require([\"base/js/namespace\"],function(Jupyter){Jupyter.notebook.save_checkpoint()})"
            ],
            "text/plain": [
              "<IPython.core.display.Javascript object>"
            ]
          },
          "metadata": {},
          "output_type": "display_data"
        },
        {
          "name": "stdout",
          "output_type": "stream",
          "text": [
            "[jovian] Updating notebook \"fikrinotes/google-playstore-app-preference\" on https://jovian.ai\u001b[0m\n",
            "[jovian] Committed successfully! https://jovian.ai/fikrinotes/google-playstore-app-preference\u001b[0m\n"
          ]
        },
        {
          "data": {
            "text/plain": [
              "'https://jovian.ai/fikrinotes/google-playstore-app-preference'"
            ]
          },
          "execution_count": 76,
          "metadata": {},
          "output_type": "execute_result"
        }
      ],
      "source": [
        "jovian.commit()"
      ]
    },
    {
      "cell_type": "markdown",
      "metadata": {
        "id": "_glcshF3eCWg"
      },
      "source": [
        "## Inferences and Conclusion \n",
        "\n",
        "So far, we have visualize and ask some question about this dataset. As the results of visualization and answers to these questions, we can conclude several things. here is a few of them:\n",
        "\n",
        "* Based on count plot on `Category` column, we can conclude that apps with `family` categories are dominant in Google Play Store. there are about 18% of apps in google play store that belongs to `family` category. \n",
        "\n",
        "\n",
        "* Based on the distribution of App's rating (take a look at the diagram), we know that the users are satisfied with the apps on Google Play Store. this conclusion is drawn because if we look at the diagram, most of the apps get rating greater than 4. this diagram indicating that most of the apps on google play store is satisfying.\n",
        "\n",
        "\n",
        "* Most of the users install the high rating apps in Google Play Store.\n",
        "\n",
        "\n",
        "* Price of most of the paid apps in google play store lies between \\\\$1.49 and \\\\$4.99.\n",
        "\n",
        "\n",
        "* Minecraft is the highest earning apps on google play store. this app earned about \\\\$69900000.0.\n",
        "\n",
        "\n",
        "* Subway surfers is the most installed game on google play store. This game has been installed 1000000000+ times.\n",
        "\n",
        "\n",
        "* even though it's expensive, the paid apps are more satisfying than the free app.\n",
        "\n",
        "\n",
        "* The top 3 categories in google play store is `family`, `games`, and `tools`. 18.19\\% of the apps on Google Play Store are apps on the `family` category, 10.55\\% of the apps on Google Play Store are apps on the `games` category, and 7.78\\% of the apps on Google Play Store are apps on the `tools` category.\n",
        "\n",
        "\n",
        "* Facebook is the most popular social app for teens. we can conclude this by take a look at the number of installs. facebook has been installed about 1000000000+ times.\n"
      ]
    },
    {
      "cell_type": "code",
      "execution_count": null,
      "metadata": {
        "id": "k0xYaNoyeCWg"
      },
      "outputs": [],
      "source": [
        "import jovian"
      ]
    },
    {
      "cell_type": "code",
      "execution_count": null,
      "metadata": {
        "id": "rW-sClcteCWg",
        "outputId": "3c9e3602-4498-4247-a70d-cffbaf0e14ab"
      },
      "outputs": [
        {
          "data": {
            "application/javascript": [
              "window.require && require([\"base/js/namespace\"],function(Jupyter){Jupyter.notebook.save_checkpoint()})"
            ],
            "text/plain": [
              "<IPython.core.display.Javascript object>"
            ]
          },
          "metadata": {},
          "output_type": "display_data"
        }
      ],
      "source": [
        "jovian.commit()"
      ]
    },
    {
      "cell_type": "markdown",
      "metadata": {
        "id": "WICxkPr_eCWg"
      },
      "source": [
        "## References and Future Work\n",
        "for more information about the dataset that used and other tools, please check the reference below :\n",
        "\n",
        "\n",
        "* Source of dataset (kaggle) : https://www.kaggle.com/lava18/google-play-store-apps\n",
        "\n",
        "* Documentation for pandas library : https://pandas.pydata.org/docs/ \n",
        "\n",
        "* Documentation for numpy library : https://numpy.org/doc/\n",
        "\n",
        "* Documentation for matplotlib library : https://matplotlib.org/\n",
        "\n",
        "* Documentation for Seaborn library : https://seaborn.pydata.org/\n",
        "\n",
        "* What does the box plot tell you? : https://www.simplypsychology.org/boxplots.html"
      ]
    },
    {
      "cell_type": "code",
      "execution_count": null,
      "metadata": {
        "id": "5qtU6ecGeCWh"
      },
      "outputs": [],
      "source": [
        "import jovian"
      ]
    },
    {
      "cell_type": "code",
      "execution_count": null,
      "metadata": {
        "id": "qGmo-DZVeCWh",
        "outputId": "90f404a6-8095-4977-dd28-746d3d673b90",
        "scrolled": true
      },
      "outputs": [
        {
          "data": {
            "application/javascript": [
              "window.require && require([\"base/js/namespace\"],function(Jupyter){Jupyter.notebook.save_checkpoint()})"
            ],
            "text/plain": [
              "<IPython.core.display.Javascript object>"
            ]
          },
          "metadata": {},
          "output_type": "display_data"
        },
        {
          "name": "stdout",
          "output_type": "stream",
          "text": [
            "[jovian] Updating notebook \"fikrinotes/google-playstore-app-preference\" on https://jovian.ai\u001b[0m\n",
            "[jovian] Committed successfully! https://jovian.ai/fikrinotes/google-playstore-app-preference\u001b[0m\n"
          ]
        },
        {
          "data": {
            "text/plain": [
              "'https://jovian.ai/fikrinotes/google-playstore-app-preference'"
            ]
          },
          "execution_count": 88,
          "metadata": {},
          "output_type": "execute_result"
        }
      ],
      "source": [
        "jovian.commit()"
      ]
    }
  ],
  "metadata": {
    "colab": {
      "name": "zerotopandas-course-project.ipynb",
      "provenance": [],
      "include_colab_link": true
    },
    "kernelspec": {
      "display_name": "Python 3 (ipykernel)",
      "language": "python",
      "name": "python3"
    },
    "language_info": {
      "codemirror_mode": {
        "name": "ipython",
        "version": 3
      },
      "file_extension": ".py",
      "mimetype": "text/x-python",
      "name": "python",
      "nbconvert_exporter": "python",
      "pygments_lexer": "ipython3",
      "version": "3.9.6"
    }
  },
  "nbformat": 4,
  "nbformat_minor": 0
}