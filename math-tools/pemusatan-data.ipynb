# hello 
$$2x+3$$
