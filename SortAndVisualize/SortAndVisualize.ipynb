{
  "nbformat": 4,
  "nbformat_minor": 0,
  "metadata": {
    "colab": {
      "name": "SortAndVisualize.ipynb",
      "provenance": [],
      "authorship_tag": "ABX9TyO21CpEqaaIR8T6rNHl2Bss",
      "include_colab_link": true
    },
    "kernelspec": {
      "name": "python3",
      "display_name": "Python 3"
    },
    "language_info": {
      "name": "python"
    }
  },
  "cells": [
    {
      "cell_type": "markdown",
      "metadata": {
        "id": "view-in-github",
        "colab_type": "text"
      },
      "source": [
        "<a href=\"https://colab.research.google.com/github/fikrinotes/PowerfulPython/blob/main/SortAndVisualize/SortAndVisualize.ipynb\" target=\"_parent\"><img src=\"https://colab.research.google.com/assets/colab-badge.svg\" alt=\"Open In Colab\"/></a>"
      ]
    },
    {
      "cell_type": "markdown",
      "metadata": {
        "id": "DbVwPbltvrd-"
      },
      "source": [
        "# Sorting And Visualizing Data\n",
        "Saya membuat ini lagi-lagi karena tugas analisis data. Bayangkan anda harus **mengamati dan mengurutkan puluhan data secara manual**. sungguh kegiatan yang membuang waktu. Membuat grafik secara manual juga sangat membuang waktu.\n",
        "\n",
        "Untuk menghindari kegiatan yang membuang waktu ini (_ingat, waktu adalah emas_ 🤭🤭), saya membuat sebuah program untuk mengurutkan data secara otomatis dan juga untuk memvisualisasikan data. Yang perlu kita lakukan nantinya sebagai pengguna hanyalah menginput data.\n",
        "\n",
        "<hr/>\n",
        "\n",
        "TTD\n",
        "\n",
        "**Fikri Mulyana Setiawan**"
      ]
    },
    {
      "cell_type": "markdown",
      "metadata": {
        "id": "lsQyxNr103sW"
      },
      "source": [
        "#Sorting Data"
      ]
    },
    {
      "cell_type": "code",
      "metadata": {
        "id": "n0hkIYAwvnV6"
      },
      "source": [
        "\n",
        "# Inisiasi Data\n",
        "\n",
        "data = [2.13, 3.2, 1, 0.5] \n",
        "\n",
        "# Proses Sorting\n",
        "\n",
        "data.sort()\n",
        "n = len(data)\n",
        "for i in range(0, n):\n",
        "   print(data[i])"
      ],
      "execution_count": null,
      "outputs": []
    },
    {
      "cell_type": "markdown",
      "metadata": {
        "id": "iI1NU7qq0qcO"
      },
      "source": [
        "#Visualisasi Data"
      ]
    },
    {
      "cell_type": "markdown",
      "metadata": {
        "id": "7op_dAx909cc"
      },
      "source": [
        "##Linear Plot"
      ]
    },
    {
      "cell_type": "code",
      "metadata": {
        "colab": {
          "base_uri": "https://localhost:8080/",
          "height": 197
        },
        "id": "URp2ODCX0oGo",
        "outputId": "79ecb955-d5d5-4a66-9dca-6a36d9605661"
      },
      "source": [
        "import matplotlib.pyplot as plt \n",
        "x=[2,3,5]\n",
        "y=[4,6, 8]\n",
        "plt.plot(x,y, \"r--\")\n",
        "plt.show()"
      ],
      "execution_count": null,
      "outputs": [
        {
          "output_type": "display_data",
          "data": {
            "image/png": "[encoded data removed]",
            "text/plain": [
              "<Figure size 432x288 with 1 Axes>"
            ]
          },
          "metadata": {
            "needs_background": "light"
          }
        }
      ]
    },
    {
      "cell_type": "markdown",
      "metadata": {
        "id": "RUaFSGoS-WyD"
      },
      "source": [
        "##Diagram Batang"
      ]
    },
    {
      "cell_type": "code",
      "metadata": {
        "colab": {
          "base_uri": "https://localhost:8080/",
          "height": 199
        },
        "id": "X3dQxizx-e2S",
        "outputId": "b35be2d8-bc4a-4651-c232-381cc14dbeab"
      },
      "source": [
        "x = ['a','b','c']\n",
        "y = [20,40,10]\n",
        "plt.bar(x,y)\n",
        "plt.show()"
      ],
      "execution_count": null,
      "outputs": [
        {
          "output_type": "display_data",
          "data": {
            "image/png": "[encoded data removed]",
            "text/plain": [
              "<Figure size 432x288 with 1 Axes>"
            ]
          },
          "metadata": {
            "needs_background": "light"
          }
        }
      ]
    },
    {
      "cell_type": "markdown",
      "metadata": {
        "id": "_8Stm9jw-6q6"
      },
      "source": [
        "## Diagram Batang Horizontal"
      ]
    },
    {
      "cell_type": "code",
      "metadata": {
        "colab": {
          "base_uri": "https://localhost:8080/",
          "height": 202
        },
        "id": "8t98XH90-WX6",
        "outputId": "ed80b422-5298-49f1-9c1d-2db736991f4f"
      },
      "source": [
        "x = ['a','b','c']\n",
        "y = [20,40,10]\n",
        "plt.barh(x,y)\n",
        "plt.show()"
      ],
      "execution_count": null,
      "outputs": [
        {
          "output_type": "display_data",
          "data": {
            "image/png": "[encoded data removed]",
            "text/plain": [
              "<Figure size 432x288 with 1 Axes>"
            ]
          },
          "metadata": {
            "needs_background": "light"
          }
        }
      ]
    },
    {
      "cell_type": "markdown",
      "metadata": {
        "id": "wuEniUKu_SC3"
      },
      "source": [
        "# Pie Chart"
      ]
    },
    {
      "cell_type": "code",
      "metadata": {
        "colab": {
          "base_uri": "https://localhost:8080/",
          "height": 248
        },
        "id": "-Z9CZOxo_VKs",
        "outputId": "2104ea98-e41f-4d9f-87bc-081b77b8ee7d"
      },
      "source": [
        "x = ['a','b','c']\n",
        "y = [20,40,10]\n",
        "plt.pie(y, labels=x, autopct='%1.0f%%') #autopct digunakan untuk menampilkan persentase setiap bagian Pie\n",
        "plt.show()"
      ],
      "execution_count": null,
      "outputs": [
        {
          "output_type": "display_data",
          "data": {
            "image/png": "[encoded data removed]",
            "text/plain": [
              "<Figure size 432x288 with 1 Axes>"
            ]
          },
          "metadata": {}
        }
      ]
    },
    {
      "cell_type": "markdown",
      "metadata": {
        "id": "3XDUb92cAU2J"
      },
      "source": [
        "## Histogram"
      ]
    }
  ]
}